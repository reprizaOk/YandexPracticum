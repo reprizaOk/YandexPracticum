{
 "cells": [
  {
   "cell_type": "markdown",
   "metadata": {},
   "source": [
    "<div Привет Алексей! Высылаю проект на повторную проверку!\n",
    "</div>"
   ]
  },
  {
   "cell_type": "markdown",
   "metadata": {},
   "source": [
    "## Проект: Принятие решений в бизнесе"
   ]
  },
  {
   "cell_type": "markdown",
   "metadata": {},
   "source": [
    "**Цель проекта**-приоритизировать гипотезы для увеличения выручки, запустить A/B-тест и проанализировать результаты."
   ]
  },
  {
   "cell_type": "markdown",
   "metadata": {},
   "source": [
    "## Описание данных"
   ]
  },
  {
   "cell_type": "markdown",
   "metadata": {},
   "source": [
    "В нашем распоряжении три датасета:"
   ]
  },
  {
   "cell_type": "markdown",
   "metadata": {},
   "source": [
    "Гипотезы по увеличению выручки интернет-магазина с указанными параметрами Reach, Impact, Confidence, Effort:"
   ]
  },
  {
   "cell_type": "markdown",
   "metadata": {},
   "source": [
    "Результаты проведения A/B-теста описаны в файлах: "
   ]
  },
  {
   "cell_type": "markdown",
   "metadata": {},
   "source": [
    "## Загрузка данных и подготовка их к анализу"
   ]
  },
  {
   "cell_type": "code",
   "execution_count": 1,
   "metadata": {},
   "outputs": [],
   "source": [
    "# импортируем библиотеки\n",
    "import pandas as pd\n",
    "import numpy as np\n",
    "from datetime import datetime, timedelta\n",
    "from matplotlib import pyplot as plt\n",
    "import datetime as dt\n",
    "import scipy.stats as stats"
   ]
  },
  {
   "cell_type": "markdown",
   "metadata": {},
   "source": [
    "### Файл с данными о гипотезах"
   ]
  },
  {
   "cell_type": "code",
   "execution_count": 2,
   "metadata": {},
   "outputs": [],
   "source": [
    "dat = pd.read_csv('/datasets/hypothesis.csv') #сохраняем в датафрейм "
   ]
  },
  {
   "cell_type": "code",
   "execution_count": 3,
   "metadata": {
    "scrolled": false
   },
   "outputs": [
    {
     "data": {
      "text/html": [
       "<div>\n",
       "<style scoped>\n",
       "    .dataframe tbody tr th:only-of-type {\n",
       "        vertical-align: middle;\n",
       "    }\n",
       "\n",
       "    .dataframe tbody tr th {\n",
       "        vertical-align: top;\n",
       "    }\n",
       "\n",
       "    .dataframe thead th {\n",
       "        text-align: right;\n",
       "    }\n",
       "</style>\n",
       "<table border=\"1\" class=\"dataframe\">\n",
       "  <thead>\n",
       "    <tr style=\"text-align: right;\">\n",
       "      <th></th>\n",
       "      <th>Hypothesis</th>\n",
       "      <th>Reach</th>\n",
       "      <th>Impact</th>\n",
       "      <th>Confidence</th>\n",
       "      <th>Efforts</th>\n",
       "    </tr>\n",
       "  </thead>\n",
       "  <tbody>\n",
       "    <tr>\n",
       "      <th>0</th>\n",
       "      <td>Добавить два новых канала привлечения трафика,...</td>\n",
       "      <td>3</td>\n",
       "      <td>10</td>\n",
       "      <td>8</td>\n",
       "      <td>6</td>\n",
       "    </tr>\n",
       "    <tr>\n",
       "      <th>1</th>\n",
       "      <td>Запустить собственную службу доставки, что сок...</td>\n",
       "      <td>2</td>\n",
       "      <td>5</td>\n",
       "      <td>4</td>\n",
       "      <td>10</td>\n",
       "    </tr>\n",
       "    <tr>\n",
       "      <th>2</th>\n",
       "      <td>Добавить блоки рекомендаций товаров на сайт ин...</td>\n",
       "      <td>8</td>\n",
       "      <td>3</td>\n",
       "      <td>7</td>\n",
       "      <td>3</td>\n",
       "    </tr>\n",
       "    <tr>\n",
       "      <th>3</th>\n",
       "      <td>Изменить структура категорий, что увеличит кон...</td>\n",
       "      <td>8</td>\n",
       "      <td>3</td>\n",
       "      <td>3</td>\n",
       "      <td>8</td>\n",
       "    </tr>\n",
       "    <tr>\n",
       "      <th>4</th>\n",
       "      <td>Изменить цвет фона главной страницы, чтобы уве...</td>\n",
       "      <td>3</td>\n",
       "      <td>1</td>\n",
       "      <td>1</td>\n",
       "      <td>1</td>\n",
       "    </tr>\n",
       "    <tr>\n",
       "      <th>5</th>\n",
       "      <td>Добавить страницу отзывов клиентов о магазине,...</td>\n",
       "      <td>3</td>\n",
       "      <td>2</td>\n",
       "      <td>2</td>\n",
       "      <td>3</td>\n",
       "    </tr>\n",
       "    <tr>\n",
       "      <th>6</th>\n",
       "      <td>Показать на главной странице баннеры с актуаль...</td>\n",
       "      <td>5</td>\n",
       "      <td>3</td>\n",
       "      <td>8</td>\n",
       "      <td>3</td>\n",
       "    </tr>\n",
       "    <tr>\n",
       "      <th>7</th>\n",
       "      <td>Добавить форму подписки на все основные страни...</td>\n",
       "      <td>10</td>\n",
       "      <td>7</td>\n",
       "      <td>8</td>\n",
       "      <td>5</td>\n",
       "    </tr>\n",
       "    <tr>\n",
       "      <th>8</th>\n",
       "      <td>Запустить акцию, дающую скидку на товар в день...</td>\n",
       "      <td>1</td>\n",
       "      <td>9</td>\n",
       "      <td>9</td>\n",
       "      <td>5</td>\n",
       "    </tr>\n",
       "  </tbody>\n",
       "</table>\n",
       "</div>"
      ],
      "text/plain": [
       "                                          Hypothesis  Reach  Impact  \\\n",
       "0  Добавить два новых канала привлечения трафика,...      3      10   \n",
       "1  Запустить собственную службу доставки, что сок...      2       5   \n",
       "2  Добавить блоки рекомендаций товаров на сайт ин...      8       3   \n",
       "3  Изменить структура категорий, что увеличит кон...      8       3   \n",
       "4  Изменить цвет фона главной страницы, чтобы уве...      3       1   \n",
       "5  Добавить страницу отзывов клиентов о магазине,...      3       2   \n",
       "6  Показать на главной странице баннеры с актуаль...      5       3   \n",
       "7  Добавить форму подписки на все основные страни...     10       7   \n",
       "8  Запустить акцию, дающую скидку на товар в день...      1       9   \n",
       "\n",
       "   Confidence  Efforts  \n",
       "0           8        6  \n",
       "1           4       10  \n",
       "2           7        3  \n",
       "3           3        8  \n",
       "4           1        1  \n",
       "5           2        3  \n",
       "6           8        3  \n",
       "7           8        5  \n",
       "8           9        5  "
      ]
     },
     "execution_count": 3,
     "metadata": {},
     "output_type": "execute_result"
    }
   ],
   "source": [
    "dat"
   ]
  },
  {
   "cell_type": "code",
   "execution_count": 4,
   "metadata": {},
   "outputs": [],
   "source": [
    "dat.columns = dat.columns.str.lower() # приводим названия заголовков к строчным буквам"
   ]
  },
  {
   "cell_type": "code",
   "execution_count": 5,
   "metadata": {},
   "outputs": [
    {
     "data": {
      "text/html": [
       "<div>\n",
       "<style scoped>\n",
       "    .dataframe tbody tr th:only-of-type {\n",
       "        vertical-align: middle;\n",
       "    }\n",
       "\n",
       "    .dataframe tbody tr th {\n",
       "        vertical-align: top;\n",
       "    }\n",
       "\n",
       "    .dataframe thead th {\n",
       "        text-align: right;\n",
       "    }\n",
       "</style>\n",
       "<table border=\"1\" class=\"dataframe\">\n",
       "  <thead>\n",
       "    <tr style=\"text-align: right;\">\n",
       "      <th></th>\n",
       "      <th>hypothesis</th>\n",
       "      <th>reach</th>\n",
       "      <th>impact</th>\n",
       "      <th>confidence</th>\n",
       "      <th>efforts</th>\n",
       "    </tr>\n",
       "  </thead>\n",
       "  <tbody>\n",
       "    <tr>\n",
       "      <th>0</th>\n",
       "      <td>Добавить два новых канала привлечения трафика,...</td>\n",
       "      <td>3</td>\n",
       "      <td>10</td>\n",
       "      <td>8</td>\n",
       "      <td>6</td>\n",
       "    </tr>\n",
       "    <tr>\n",
       "      <th>1</th>\n",
       "      <td>Запустить собственную службу доставки, что сок...</td>\n",
       "      <td>2</td>\n",
       "      <td>5</td>\n",
       "      <td>4</td>\n",
       "      <td>10</td>\n",
       "    </tr>\n",
       "    <tr>\n",
       "      <th>2</th>\n",
       "      <td>Добавить блоки рекомендаций товаров на сайт ин...</td>\n",
       "      <td>8</td>\n",
       "      <td>3</td>\n",
       "      <td>7</td>\n",
       "      <td>3</td>\n",
       "    </tr>\n",
       "    <tr>\n",
       "      <th>3</th>\n",
       "      <td>Изменить структура категорий, что увеличит кон...</td>\n",
       "      <td>8</td>\n",
       "      <td>3</td>\n",
       "      <td>3</td>\n",
       "      <td>8</td>\n",
       "    </tr>\n",
       "    <tr>\n",
       "      <th>4</th>\n",
       "      <td>Изменить цвет фона главной страницы, чтобы уве...</td>\n",
       "      <td>3</td>\n",
       "      <td>1</td>\n",
       "      <td>1</td>\n",
       "      <td>1</td>\n",
       "    </tr>\n",
       "    <tr>\n",
       "      <th>5</th>\n",
       "      <td>Добавить страницу отзывов клиентов о магазине,...</td>\n",
       "      <td>3</td>\n",
       "      <td>2</td>\n",
       "      <td>2</td>\n",
       "      <td>3</td>\n",
       "    </tr>\n",
       "    <tr>\n",
       "      <th>6</th>\n",
       "      <td>Показать на главной странице баннеры с актуаль...</td>\n",
       "      <td>5</td>\n",
       "      <td>3</td>\n",
       "      <td>8</td>\n",
       "      <td>3</td>\n",
       "    </tr>\n",
       "    <tr>\n",
       "      <th>7</th>\n",
       "      <td>Добавить форму подписки на все основные страни...</td>\n",
       "      <td>10</td>\n",
       "      <td>7</td>\n",
       "      <td>8</td>\n",
       "      <td>5</td>\n",
       "    </tr>\n",
       "    <tr>\n",
       "      <th>8</th>\n",
       "      <td>Запустить акцию, дающую скидку на товар в день...</td>\n",
       "      <td>1</td>\n",
       "      <td>9</td>\n",
       "      <td>9</td>\n",
       "      <td>5</td>\n",
       "    </tr>\n",
       "  </tbody>\n",
       "</table>\n",
       "</div>"
      ],
      "text/plain": [
       "                                          hypothesis  reach  impact  \\\n",
       "0  Добавить два новых канала привлечения трафика,...      3      10   \n",
       "1  Запустить собственную службу доставки, что сок...      2       5   \n",
       "2  Добавить блоки рекомендаций товаров на сайт ин...      8       3   \n",
       "3  Изменить структура категорий, что увеличит кон...      8       3   \n",
       "4  Изменить цвет фона главной страницы, чтобы уве...      3       1   \n",
       "5  Добавить страницу отзывов клиентов о магазине,...      3       2   \n",
       "6  Показать на главной странице баннеры с актуаль...      5       3   \n",
       "7  Добавить форму подписки на все основные страни...     10       7   \n",
       "8  Запустить акцию, дающую скидку на товар в день...      1       9   \n",
       "\n",
       "   confidence  efforts  \n",
       "0           8        6  \n",
       "1           4       10  \n",
       "2           7        3  \n",
       "3           3        8  \n",
       "4           1        1  \n",
       "5           2        3  \n",
       "6           8        3  \n",
       "7           8        5  \n",
       "8           9        5  "
      ]
     },
     "execution_count": 5,
     "metadata": {},
     "output_type": "execute_result"
    }
   ],
   "source": [
    "dat"
   ]
  },
  {
   "cell_type": "markdown",
   "metadata": {},
   "source": [
    "### Файл с данными о заказах"
   ]
  },
  {
   "cell_type": "code",
   "execution_count": 6,
   "metadata": {},
   "outputs": [],
   "source": [
    "orders = pd.read_csv('/datasets/orders.csv') #сохраняем в датафрейм"
   ]
  },
  {
   "cell_type": "code",
   "execution_count": 56,
   "metadata": {},
   "outputs": [
    {
     "data": {
      "text/html": [
       "<div>\n",
       "<style scoped>\n",
       "    .dataframe tbody tr th:only-of-type {\n",
       "        vertical-align: middle;\n",
       "    }\n",
       "\n",
       "    .dataframe tbody tr th {\n",
       "        vertical-align: top;\n",
       "    }\n",
       "\n",
       "    .dataframe thead th {\n",
       "        text-align: right;\n",
       "    }\n",
       "</style>\n",
       "<table border=\"1\" class=\"dataframe\">\n",
       "  <thead>\n",
       "    <tr style=\"text-align: right;\">\n",
       "      <th></th>\n",
       "      <th>transaction_id</th>\n",
       "      <th>visitor_id</th>\n",
       "      <th>date</th>\n",
       "      <th>revenue</th>\n",
       "      <th>group</th>\n",
       "    </tr>\n",
       "  </thead>\n",
       "  <tbody>\n",
       "    <tr>\n",
       "      <th>0</th>\n",
       "      <td>3667963787</td>\n",
       "      <td>3312258926</td>\n",
       "      <td>2019-08-15</td>\n",
       "      <td>1650</td>\n",
       "      <td>B</td>\n",
       "    </tr>\n",
       "    <tr>\n",
       "      <th>1</th>\n",
       "      <td>2804400009</td>\n",
       "      <td>3642806036</td>\n",
       "      <td>2019-08-15</td>\n",
       "      <td>730</td>\n",
       "      <td>B</td>\n",
       "    </tr>\n",
       "    <tr>\n",
       "      <th>2</th>\n",
       "      <td>2961555356</td>\n",
       "      <td>4069496402</td>\n",
       "      <td>2019-08-15</td>\n",
       "      <td>400</td>\n",
       "      <td>A</td>\n",
       "    </tr>\n",
       "    <tr>\n",
       "      <th>3</th>\n",
       "      <td>3797467345</td>\n",
       "      <td>1196621759</td>\n",
       "      <td>2019-08-15</td>\n",
       "      <td>9759</td>\n",
       "      <td>B</td>\n",
       "    </tr>\n",
       "    <tr>\n",
       "      <th>4</th>\n",
       "      <td>2282983706</td>\n",
       "      <td>2322279887</td>\n",
       "      <td>2019-08-15</td>\n",
       "      <td>2308</td>\n",
       "      <td>B</td>\n",
       "    </tr>\n",
       "  </tbody>\n",
       "</table>\n",
       "</div>"
      ],
      "text/plain": [
       "   transaction_id  visitor_id       date  revenue group\n",
       "0      3667963787  3312258926 2019-08-15     1650     B\n",
       "1      2804400009  3642806036 2019-08-15      730     B\n",
       "2      2961555356  4069496402 2019-08-15      400     A\n",
       "3      3797467345  1196621759 2019-08-15     9759     B\n",
       "4      2282983706  2322279887 2019-08-15     2308     B"
      ]
     },
     "execution_count": 56,
     "metadata": {},
     "output_type": "execute_result"
    }
   ],
   "source": [
    "orders.head()"
   ]
  },
  {
   "cell_type": "code",
   "execution_count": 8,
   "metadata": {},
   "outputs": [
    {
     "name": "stdout",
     "output_type": "stream",
     "text": [
      "<class 'pandas.core.frame.DataFrame'>\n",
      "RangeIndex: 1197 entries, 0 to 1196\n",
      "Data columns (total 5 columns):\n",
      " #   Column         Non-Null Count  Dtype \n",
      "---  ------         --------------  ----- \n",
      " 0   transactionId  1197 non-null   int64 \n",
      " 1   visitorId      1197 non-null   int64 \n",
      " 2   date           1197 non-null   object\n",
      " 3   revenue        1197 non-null   int64 \n",
      " 4   group          1197 non-null   object\n",
      "dtypes: int64(3), object(2)\n",
      "memory usage: 46.9+ KB\n"
     ]
    }
   ],
   "source": [
    "orders.info()"
   ]
  },
  {
   "cell_type": "code",
   "execution_count": 9,
   "metadata": {},
   "outputs": [],
   "source": [
    "orders['date'] = orders['date'].map(lambda x: dt.datetime.strptime(x, '%Y-%m-%d')) # изменим тип данных"
   ]
  },
  {
   "cell_type": "code",
   "execution_count": 10,
   "metadata": {},
   "outputs": [],
   "source": [
    "orders.rename(columns={'transactionId': 'transaction_id', 'visitorId': 'visitor_id'}, inplace=True)"
   ]
  },
  {
   "cell_type": "code",
   "execution_count": 11,
   "metadata": {},
   "outputs": [
    {
     "name": "stdout",
     "output_type": "stream",
     "text": [
      "<class 'pandas.core.frame.DataFrame'>\n",
      "RangeIndex: 1197 entries, 0 to 1196\n",
      "Data columns (total 5 columns):\n",
      " #   Column          Non-Null Count  Dtype         \n",
      "---  ------          --------------  -----         \n",
      " 0   transaction_id  1197 non-null   int64         \n",
      " 1   visitor_id      1197 non-null   int64         \n",
      " 2   date            1197 non-null   datetime64[ns]\n",
      " 3   revenue         1197 non-null   int64         \n",
      " 4   group           1197 non-null   object        \n",
      "dtypes: datetime64[ns](1), int64(3), object(1)\n",
      "memory usage: 46.9+ KB\n"
     ]
    }
   ],
   "source": [
    "orders.info()"
   ]
  },
  {
   "cell_type": "code",
   "execution_count": 12,
   "metadata": {},
   "outputs": [
    {
     "data": {
      "text/plain": [
       "0"
      ]
     },
     "execution_count": 12,
     "metadata": {},
     "output_type": "execute_result"
    }
   ],
   "source": [
    "orders.duplicated().sum() # проверим датайфрейм на дубликаты"
   ]
  },
  {
   "cell_type": "code",
   "execution_count": 13,
   "metadata": {},
   "outputs": [
    {
     "data": {
      "text/plain": [
       "transaction_id    0\n",
       "visitor_id        0\n",
       "date              0\n",
       "revenue           0\n",
       "group             0\n",
       "dtype: int64"
      ]
     },
     "execution_count": 13,
     "metadata": {},
     "output_type": "execute_result"
    }
   ],
   "source": [
    "orders.isna().sum() # проверим датайфрейм на наличие пропусков"
   ]
  },
  {
   "cell_type": "markdown",
   "metadata": {},
   "source": [
    "### Файл с данными о визитах пользователей"
   ]
  },
  {
   "cell_type": "code",
   "execution_count": 14,
   "metadata": {},
   "outputs": [],
   "source": [
    "visitors = pd.read_csv('/datasets/visitors.csv') #сохраняем в датафрейм"
   ]
  },
  {
   "cell_type": "code",
   "execution_count": 55,
   "metadata": {},
   "outputs": [
    {
     "data": {
      "text/html": [
       "<div>\n",
       "<style scoped>\n",
       "    .dataframe tbody tr th:only-of-type {\n",
       "        vertical-align: middle;\n",
       "    }\n",
       "\n",
       "    .dataframe tbody tr th {\n",
       "        vertical-align: top;\n",
       "    }\n",
       "\n",
       "    .dataframe thead th {\n",
       "        text-align: right;\n",
       "    }\n",
       "</style>\n",
       "<table border=\"1\" class=\"dataframe\">\n",
       "  <thead>\n",
       "    <tr style=\"text-align: right;\">\n",
       "      <th></th>\n",
       "      <th>date</th>\n",
       "      <th>group</th>\n",
       "      <th>visitors</th>\n",
       "    </tr>\n",
       "  </thead>\n",
       "  <tbody>\n",
       "    <tr>\n",
       "      <th>0</th>\n",
       "      <td>2019-08-01</td>\n",
       "      <td>A</td>\n",
       "      <td>719</td>\n",
       "    </tr>\n",
       "    <tr>\n",
       "      <th>1</th>\n",
       "      <td>2019-08-02</td>\n",
       "      <td>A</td>\n",
       "      <td>619</td>\n",
       "    </tr>\n",
       "    <tr>\n",
       "      <th>2</th>\n",
       "      <td>2019-08-03</td>\n",
       "      <td>A</td>\n",
       "      <td>507</td>\n",
       "    </tr>\n",
       "    <tr>\n",
       "      <th>3</th>\n",
       "      <td>2019-08-04</td>\n",
       "      <td>A</td>\n",
       "      <td>717</td>\n",
       "    </tr>\n",
       "    <tr>\n",
       "      <th>4</th>\n",
       "      <td>2019-08-05</td>\n",
       "      <td>A</td>\n",
       "      <td>756</td>\n",
       "    </tr>\n",
       "  </tbody>\n",
       "</table>\n",
       "</div>"
      ],
      "text/plain": [
       "        date group  visitors\n",
       "0 2019-08-01     A       719\n",
       "1 2019-08-02     A       619\n",
       "2 2019-08-03     A       507\n",
       "3 2019-08-04     A       717\n",
       "4 2019-08-05     A       756"
      ]
     },
     "execution_count": 55,
     "metadata": {},
     "output_type": "execute_result"
    }
   ],
   "source": [
    "visitors.head()"
   ]
  },
  {
   "cell_type": "code",
   "execution_count": 16,
   "metadata": {},
   "outputs": [
    {
     "name": "stdout",
     "output_type": "stream",
     "text": [
      "<class 'pandas.core.frame.DataFrame'>\n",
      "RangeIndex: 62 entries, 0 to 61\n",
      "Data columns (total 3 columns):\n",
      " #   Column    Non-Null Count  Dtype \n",
      "---  ------    --------------  ----- \n",
      " 0   date      62 non-null     object\n",
      " 1   group     62 non-null     object\n",
      " 2   visitors  62 non-null     int64 \n",
      "dtypes: int64(1), object(2)\n",
      "memory usage: 1.6+ KB\n"
     ]
    }
   ],
   "source": [
    "visitors.info()"
   ]
  },
  {
   "cell_type": "code",
   "execution_count": 17,
   "metadata": {},
   "outputs": [],
   "source": [
    "visitors['date'] = visitors['date'].map(lambda x: dt.datetime.strptime(x, '%Y-%m-%d'))# изменим тип данных"
   ]
  },
  {
   "cell_type": "code",
   "execution_count": 18,
   "metadata": {},
   "outputs": [
    {
     "name": "stdout",
     "output_type": "stream",
     "text": [
      "<class 'pandas.core.frame.DataFrame'>\n",
      "RangeIndex: 62 entries, 0 to 61\n",
      "Data columns (total 3 columns):\n",
      " #   Column    Non-Null Count  Dtype         \n",
      "---  ------    --------------  -----         \n",
      " 0   date      62 non-null     datetime64[ns]\n",
      " 1   group     62 non-null     object        \n",
      " 2   visitors  62 non-null     int64         \n",
      "dtypes: datetime64[ns](1), int64(1), object(1)\n",
      "memory usage: 1.6+ KB\n"
     ]
    }
   ],
   "source": [
    "visitors.info()"
   ]
  },
  {
   "cell_type": "code",
   "execution_count": 19,
   "metadata": {},
   "outputs": [
    {
     "data": {
      "text/plain": [
       "0"
      ]
     },
     "execution_count": 19,
     "metadata": {},
     "output_type": "execute_result"
    }
   ],
   "source": [
    "visitors.duplicated().sum() # проверим датайфрейм на дубликаты"
   ]
  },
  {
   "cell_type": "code",
   "execution_count": 20,
   "metadata": {},
   "outputs": [
    {
     "data": {
      "text/plain": [
       "date        0\n",
       "group       0\n",
       "visitors    0\n",
       "dtype: int64"
      ]
     },
     "execution_count": 20,
     "metadata": {},
     "output_type": "execute_result"
    }
   ],
   "source": [
    "visitors.isna().sum()# проверим датайфрейм на наличие пропусков"
   ]
  },
  {
   "cell_type": "markdown",
   "metadata": {},
   "source": [
    "**Подведем итог обзора данных:**\n",
    "\n",
    "- мы привели названия столбцов к общепринятому виду;\n",
    "- изменили типы данных в соответсвии с их содержанием;\n",
    "- проверили данные на наличие дубликатов: явных дубликатов не обнаружено;\n",
    "- проверили данные на наличие пропусков. Пропусков не обнаружено."
   ]
  },
  {
   "cell_type": "markdown",
   "metadata": {},
   "source": [
    "##  Приоритизация гипотез."
   ]
  },
  {
   "cell_type": "markdown",
   "metadata": {},
   "source": [
    "Приоритизируем гипотезы методом ICE и RICE. "
   ]
  },
  {
   "cell_type": "markdown",
   "metadata": {},
   "source": [
    "Метод ICE – это относительно быстрый способ присвоить конкретное числовое значение различным гипотезам для обозначения их приоритетности. Обычно это делается на основе определения относительной ценности и с использованием трёх параметров этой оценки: влияния, уверенности и стоимости.\n",
    "Метод RICE — это метод определения приоритетов, который включает в себя уже 4 элемента: охват (покрытие), влияние, уверенность (в оценке охвата и влияния) и стоимость. Т.о. основное отличие методов заключается в том, что метод RICE  предполагает ещё и оценку охвата, т.е. предполагаемой целевой аудитории проекта."
   ]
  },
  {
   "cell_type": "code",
   "execution_count": 21,
   "metadata": {},
   "outputs": [
    {
     "data": {
      "text/html": [
       "<div>\n",
       "<style scoped>\n",
       "    .dataframe tbody tr th:only-of-type {\n",
       "        vertical-align: middle;\n",
       "    }\n",
       "\n",
       "    .dataframe tbody tr th {\n",
       "        vertical-align: top;\n",
       "    }\n",
       "\n",
       "    .dataframe thead th {\n",
       "        text-align: right;\n",
       "    }\n",
       "</style>\n",
       "<table border=\"1\" class=\"dataframe\">\n",
       "  <thead>\n",
       "    <tr style=\"text-align: right;\">\n",
       "      <th></th>\n",
       "      <th>hypothesis</th>\n",
       "      <th>reach</th>\n",
       "      <th>impact</th>\n",
       "      <th>confidence</th>\n",
       "      <th>efforts</th>\n",
       "    </tr>\n",
       "  </thead>\n",
       "  <tbody>\n",
       "    <tr>\n",
       "      <th>0</th>\n",
       "      <td>Добавить два новых канала привлечения трафика, что позволит привлекать на 30% больше пользователей</td>\n",
       "      <td>3</td>\n",
       "      <td>10</td>\n",
       "      <td>8</td>\n",
       "      <td>6</td>\n",
       "    </tr>\n",
       "    <tr>\n",
       "      <th>1</th>\n",
       "      <td>Запустить собственную службу доставки, что сократит срок доставки заказов</td>\n",
       "      <td>2</td>\n",
       "      <td>5</td>\n",
       "      <td>4</td>\n",
       "      <td>10</td>\n",
       "    </tr>\n",
       "    <tr>\n",
       "      <th>2</th>\n",
       "      <td>Добавить блоки рекомендаций товаров на сайт интернет магазина, чтобы повысить конверсию и средний чек заказа</td>\n",
       "      <td>8</td>\n",
       "      <td>3</td>\n",
       "      <td>7</td>\n",
       "      <td>3</td>\n",
       "    </tr>\n",
       "    <tr>\n",
       "      <th>3</th>\n",
       "      <td>Изменить структура категорий, что увеличит конверсию, т.к. пользователи быстрее найдут нужный товар</td>\n",
       "      <td>8</td>\n",
       "      <td>3</td>\n",
       "      <td>3</td>\n",
       "      <td>8</td>\n",
       "    </tr>\n",
       "    <tr>\n",
       "      <th>4</th>\n",
       "      <td>Изменить цвет фона главной страницы, чтобы увеличить вовлеченность пользователей</td>\n",
       "      <td>3</td>\n",
       "      <td>1</td>\n",
       "      <td>1</td>\n",
       "      <td>1</td>\n",
       "    </tr>\n",
       "    <tr>\n",
       "      <th>5</th>\n",
       "      <td>Добавить страницу отзывов клиентов о магазине, что позволит увеличить количество заказов</td>\n",
       "      <td>3</td>\n",
       "      <td>2</td>\n",
       "      <td>2</td>\n",
       "      <td>3</td>\n",
       "    </tr>\n",
       "    <tr>\n",
       "      <th>6</th>\n",
       "      <td>Показать на главной странице баннеры с актуальными акциями и распродажами, чтобы увеличить конверсию</td>\n",
       "      <td>5</td>\n",
       "      <td>3</td>\n",
       "      <td>8</td>\n",
       "      <td>3</td>\n",
       "    </tr>\n",
       "    <tr>\n",
       "      <th>7</th>\n",
       "      <td>Добавить форму подписки на все основные страницы, чтобы собрать базу клиентов для email-рассылок</td>\n",
       "      <td>10</td>\n",
       "      <td>7</td>\n",
       "      <td>8</td>\n",
       "      <td>5</td>\n",
       "    </tr>\n",
       "    <tr>\n",
       "      <th>8</th>\n",
       "      <td>Запустить акцию, дающую скидку на товар в день рождения</td>\n",
       "      <td>1</td>\n",
       "      <td>9</td>\n",
       "      <td>9</td>\n",
       "      <td>5</td>\n",
       "    </tr>\n",
       "  </tbody>\n",
       "</table>\n",
       "</div>"
      ],
      "text/plain": [
       "                                                                                                     hypothesis  reach  impact  confidence  efforts\n",
       "0            Добавить два новых канала привлечения трафика, что позволит привлекать на 30% больше пользователей      3      10           8        6\n",
       "1                                     Запустить собственную службу доставки, что сократит срок доставки заказов      2       5           4       10\n",
       "2  Добавить блоки рекомендаций товаров на сайт интернет магазина, чтобы повысить конверсию и средний чек заказа      8       3           7        3\n",
       "3           Изменить структура категорий, что увеличит конверсию, т.к. пользователи быстрее найдут нужный товар      8       3           3        8\n",
       "4                              Изменить цвет фона главной страницы, чтобы увеличить вовлеченность пользователей      3       1           1        1\n",
       "5                      Добавить страницу отзывов клиентов о магазине, что позволит увеличить количество заказов      3       2           2        3\n",
       "6          Показать на главной странице баннеры с актуальными акциями и распродажами, чтобы увеличить конверсию      5       3           8        3\n",
       "7              Добавить форму подписки на все основные страницы, чтобы собрать базу клиентов для email-рассылок     10       7           8        5\n",
       "8                                                       Запустить акцию, дающую скидку на товар в день рождения      1       9           9        5"
      ]
     },
     "execution_count": 21,
     "metadata": {},
     "output_type": "execute_result"
    }
   ],
   "source": [
    "pd.set_option('max_colwidth', 120)\n",
    "pd.set_option('display.width', 500)\n",
    "dat"
   ]
  },
  {
   "cell_type": "markdown",
   "metadata": {},
   "source": [
    "### Фреймворк ICE для приоритизации гипотез"
   ]
  },
  {
   "cell_type": "code",
   "execution_count": 22,
   "metadata": {},
   "outputs": [
    {
     "data": {
      "text/html": [
       "<div>\n",
       "<style scoped>\n",
       "    .dataframe tbody tr th:only-of-type {\n",
       "        vertical-align: middle;\n",
       "    }\n",
       "\n",
       "    .dataframe tbody tr th {\n",
       "        vertical-align: top;\n",
       "    }\n",
       "\n",
       "    .dataframe thead th {\n",
       "        text-align: right;\n",
       "    }\n",
       "</style>\n",
       "<table border=\"1\" class=\"dataframe\">\n",
       "  <thead>\n",
       "    <tr style=\"text-align: right;\">\n",
       "      <th></th>\n",
       "      <th>hypothesis</th>\n",
       "      <th>ICE</th>\n",
       "    </tr>\n",
       "  </thead>\n",
       "  <tbody>\n",
       "    <tr>\n",
       "      <th>8</th>\n",
       "      <td>Запустить акцию, дающую скидку на товар в день рождения</td>\n",
       "      <td>16.20</td>\n",
       "    </tr>\n",
       "    <tr>\n",
       "      <th>0</th>\n",
       "      <td>Добавить два новых канала привлечения трафика, что позволит привлекать на 30% больше пользователей</td>\n",
       "      <td>13.33</td>\n",
       "    </tr>\n",
       "    <tr>\n",
       "      <th>7</th>\n",
       "      <td>Добавить форму подписки на все основные страницы, чтобы собрать базу клиентов для email-рассылок</td>\n",
       "      <td>11.20</td>\n",
       "    </tr>\n",
       "    <tr>\n",
       "      <th>6</th>\n",
       "      <td>Показать на главной странице баннеры с актуальными акциями и распродажами, чтобы увеличить конверсию</td>\n",
       "      <td>8.00</td>\n",
       "    </tr>\n",
       "    <tr>\n",
       "      <th>2</th>\n",
       "      <td>Добавить блоки рекомендаций товаров на сайт интернет магазина, чтобы повысить конверсию и средний чек заказа</td>\n",
       "      <td>7.00</td>\n",
       "    </tr>\n",
       "    <tr>\n",
       "      <th>1</th>\n",
       "      <td>Запустить собственную службу доставки, что сократит срок доставки заказов</td>\n",
       "      <td>2.00</td>\n",
       "    </tr>\n",
       "    <tr>\n",
       "      <th>5</th>\n",
       "      <td>Добавить страницу отзывов клиентов о магазине, что позволит увеличить количество заказов</td>\n",
       "      <td>1.33</td>\n",
       "    </tr>\n",
       "    <tr>\n",
       "      <th>3</th>\n",
       "      <td>Изменить структура категорий, что увеличит конверсию, т.к. пользователи быстрее найдут нужный товар</td>\n",
       "      <td>1.12</td>\n",
       "    </tr>\n",
       "    <tr>\n",
       "      <th>4</th>\n",
       "      <td>Изменить цвет фона главной страницы, чтобы увеличить вовлеченность пользователей</td>\n",
       "      <td>1.00</td>\n",
       "    </tr>\n",
       "  </tbody>\n",
       "</table>\n",
       "</div>"
      ],
      "text/plain": [
       "                                                                                                     hypothesis    ICE\n",
       "8                                                       Запустить акцию, дающую скидку на товар в день рождения  16.20\n",
       "0            Добавить два новых канала привлечения трафика, что позволит привлекать на 30% больше пользователей  13.33\n",
       "7              Добавить форму подписки на все основные страницы, чтобы собрать базу клиентов для email-рассылок  11.20\n",
       "6          Показать на главной странице баннеры с актуальными акциями и распродажами, чтобы увеличить конверсию   8.00\n",
       "2  Добавить блоки рекомендаций товаров на сайт интернет магазина, чтобы повысить конверсию и средний чек заказа   7.00\n",
       "1                                     Запустить собственную службу доставки, что сократит срок доставки заказов   2.00\n",
       "5                      Добавить страницу отзывов клиентов о магазине, что позволит увеличить количество заказов   1.33\n",
       "3           Изменить структура категорий, что увеличит конверсию, т.к. пользователи быстрее найдут нужный товар   1.12\n",
       "4                              Изменить цвет фона главной страницы, чтобы увеличить вовлеченность пользователей   1.00"
      ]
     },
     "execution_count": 22,
     "metadata": {},
     "output_type": "execute_result"
    }
   ],
   "source": [
    "dat['ICE']=round(dat['impact']*dat['confidence']/dat['efforts'], 2)\n",
    "#dat[['hypothesis','ICE']].sort_values('ICE', ascending=( False ))\n",
    "pd.set_option('max_colwidth', 110)\n",
    "pd.set_option('display.width', 1000)\n",
    "dat[['hypothesis','ICE']].sort_values('ICE', ascending=( False )).head(10)"
   ]
  },
  {
   "cell_type": "markdown",
   "metadata": {},
   "source": [
    "Наиболее перспективные гипотезы по ICE - это 8, 0, 7, 6 и 2."
   ]
  },
  {
   "cell_type": "markdown",
   "metadata": {},
   "source": [
    "### Фреймворк RICE для приоритизации гипотез"
   ]
  },
  {
   "cell_type": "code",
   "execution_count": 23,
   "metadata": {},
   "outputs": [
    {
     "data": {
      "text/html": [
       "<div>\n",
       "<style scoped>\n",
       "    .dataframe tbody tr th:only-of-type {\n",
       "        vertical-align: middle;\n",
       "    }\n",
       "\n",
       "    .dataframe tbody tr th {\n",
       "        vertical-align: top;\n",
       "    }\n",
       "\n",
       "    .dataframe thead th {\n",
       "        text-align: right;\n",
       "    }\n",
       "</style>\n",
       "<table border=\"1\" class=\"dataframe\">\n",
       "  <thead>\n",
       "    <tr style=\"text-align: right;\">\n",
       "      <th></th>\n",
       "      <th>hypothesis</th>\n",
       "      <th>RICE</th>\n",
       "    </tr>\n",
       "  </thead>\n",
       "  <tbody>\n",
       "    <tr>\n",
       "      <th>7</th>\n",
       "      <td>Добавить форму подписки на все основные страницы, чтобы собрать базу клиентов для email-рассылок</td>\n",
       "      <td>112.0</td>\n",
       "    </tr>\n",
       "    <tr>\n",
       "      <th>2</th>\n",
       "      <td>Добавить блоки рекомендаций товаров на сайт интернет магазина, чтобы повысить конверсию и средний чек заказа</td>\n",
       "      <td>56.0</td>\n",
       "    </tr>\n",
       "    <tr>\n",
       "      <th>0</th>\n",
       "      <td>Добавить два новых канала привлечения трафика, что позволит привлекать на 30% больше пользователей</td>\n",
       "      <td>40.0</td>\n",
       "    </tr>\n",
       "    <tr>\n",
       "      <th>6</th>\n",
       "      <td>Показать на главной странице баннеры с актуальными акциями и распродажами, чтобы увеличить конверсию</td>\n",
       "      <td>40.0</td>\n",
       "    </tr>\n",
       "    <tr>\n",
       "      <th>8</th>\n",
       "      <td>Запустить акцию, дающую скидку на товар в день рождения</td>\n",
       "      <td>16.2</td>\n",
       "    </tr>\n",
       "    <tr>\n",
       "      <th>3</th>\n",
       "      <td>Изменить структура категорий, что увеличит конверсию, т.к. пользователи быстрее найдут нужный товар</td>\n",
       "      <td>9.0</td>\n",
       "    </tr>\n",
       "    <tr>\n",
       "      <th>1</th>\n",
       "      <td>Запустить собственную службу доставки, что сократит срок доставки заказов</td>\n",
       "      <td>4.0</td>\n",
       "    </tr>\n",
       "    <tr>\n",
       "      <th>5</th>\n",
       "      <td>Добавить страницу отзывов клиентов о магазине, что позволит увеличить количество заказов</td>\n",
       "      <td>4.0</td>\n",
       "    </tr>\n",
       "    <tr>\n",
       "      <th>4</th>\n",
       "      <td>Изменить цвет фона главной страницы, чтобы увеличить вовлеченность пользователей</td>\n",
       "      <td>3.0</td>\n",
       "    </tr>\n",
       "  </tbody>\n",
       "</table>\n",
       "</div>"
      ],
      "text/plain": [
       "                                                                                                     hypothesis   RICE\n",
       "7              Добавить форму подписки на все основные страницы, чтобы собрать базу клиентов для email-рассылок  112.0\n",
       "2  Добавить блоки рекомендаций товаров на сайт интернет магазина, чтобы повысить конверсию и средний чек заказа   56.0\n",
       "0            Добавить два новых канала привлечения трафика, что позволит привлекать на 30% больше пользователей   40.0\n",
       "6          Показать на главной странице баннеры с актуальными акциями и распродажами, чтобы увеличить конверсию   40.0\n",
       "8                                                       Запустить акцию, дающую скидку на товар в день рождения   16.2\n",
       "3           Изменить структура категорий, что увеличит конверсию, т.к. пользователи быстрее найдут нужный товар    9.0\n",
       "1                                     Запустить собственную службу доставки, что сократит срок доставки заказов    4.0\n",
       "5                      Добавить страницу отзывов клиентов о магазине, что позволит увеличить количество заказов    4.0\n",
       "4                              Изменить цвет фона главной страницы, чтобы увеличить вовлеченность пользователей    3.0"
      ]
     },
     "execution_count": 23,
     "metadata": {},
     "output_type": "execute_result"
    }
   ],
   "source": [
    "dat['RICE']=round(dat['reach']*dat['impact']*dat['confidence']/dat['efforts'],2)\n",
    "\n",
    "pd.set_option('max_colwidth', 120)\n",
    "pd.set_option('display.width', 500)\n",
    "dat[['hypothesis','RICE']].sort_values('RICE', ascending=( False )).head(10)"
   ]
  },
  {
   "cell_type": "markdown",
   "metadata": {},
   "source": [
    "Наиболее перспективные гипотезы по RICE - это 7, 2, 0, 6 и 8."
   ]
  },
  {
   "cell_type": "markdown",
   "metadata": {},
   "source": [
    "### Вывод "
   ]
  },
  {
   "cell_type": "markdown",
   "metadata": {},
   "source": [
    "Компоненты методов:\n",
    "\n",
    "* impact - насколько сильно изменение повлияет на пользователей, их опыт и удовлетворение от продукта;\n",
    "* confidence - насколько вы уверены, что это изменение повлияет на пользователей именно так;\n",
    "* efforts - сколько стоит протестировать эту гипотезу;\n",
    "* reach - скольких пользователей затронет изменение, которое вы хотите внести.\n",
    "\n",
    "Мы приоритизировали гипотезы. \n",
    "\n",
    "Методом ICE наиболее перспективные:\n",
    "1. N8 - Запустить акцию, дающую скидку на товар в день рождения\n",
    "2. N0 - Добавить два новых канала привлечения трафика, что позволит привлекать на 30% больше пользователей \n",
    "3. N7 - Добавить форму подписки на все основные страницы, чтобы собрать базу клиентов для email-рассылок\n",
    "4. N6 - Показать на главной странице баннеры с актуальными акциями и распродажами, чтобы увеличить конверсию\n",
    "5. N2 - Добавить блоки рекомендаций товаров на сайт интернет магазина, чтобы повысить конверсию и средний чек заказа\n",
    "\n",
    "У гипотез N8 и N2 высокие показатели impact\tи confidence и при этом не очень высокий показатель efforts.\n",
    "\n",
    "Методом RICE наиболее перспективные:\n",
    "1. N7 - Добавить форму подписки на все основные страницы, чтобы собрать базу клиентов для email-рассылок\n",
    "2. N2 - Добавить блоки рекомендаций товаров на сайт интернет магазина, чтобы повысить конверсию и средний чек заказа\n",
    "3. N0 - Добавить два новых канала привлечения трафика, что позволит привлекать на 30% больше пользователей \n",
    "4. N6 - Показать на главной странице баннеры с актуальными акциями и распродажами, чтобы увеличить конверсию\n",
    "5. N8 - Запустить акцию, дающую скидку на товар в день рождения\n",
    "\n",
    "Те же гипотезы, только уже в другом порядке. N2 и N7 гипотезы переместились выше по местам за счет того, что они имеют высокий параметр reach, 8 и 10 соответственно, параметр, указывающий скольких пользователей затронет изменение. У N8 и N0 гипотезы этот параметр низкий: 1 и 3 соответственно. \n",
    "Самый низкий приоритет у гипотезы N4 Изменить цвет фона главной страницы, чтобы увеличить вовлеченность пользователей, у нее самые низкие значения компонент."
   ]
  },
  {
   "cell_type": "markdown",
   "metadata": {},
   "source": [
    " ## Анализ A/B-теста"
   ]
  },
  {
   "cell_type": "markdown",
   "metadata": {},
   "source": [
    "Перед проведением А/В теста проверим данные"
   ]
  },
  {
   "cell_type": "markdown",
   "metadata": {},
   "source": [
    " A/B-тесты проводят, чтобы точно измерить эффект от внедрения изменения. В нашем случае в тесте участвовали 2 группы: А и В. Длительность проведения теста 31 день: с 2019-08-01 по 2019-08-31. В группе A 503 участника, в группе B - 586. После удаления пользователей, которые оказались сразу в двух группах, получили, что в группе A - 445, в\tB - 528 участников. Группа В по численности превосходит группу А почти на 19%, группы не сбалансированны по численности. "
   ]
  },
  {
   "cell_type": "code",
   "execution_count": 24,
   "metadata": {},
   "outputs": [
    {
     "data": {
      "text/plain": [
       "Timestamp('2019-08-01 00:00:00')"
      ]
     },
     "execution_count": 24,
     "metadata": {},
     "output_type": "execute_result"
    }
   ],
   "source": [
    "orders['date'].min()"
   ]
  },
  {
   "cell_type": "code",
   "execution_count": 25,
   "metadata": {},
   "outputs": [
    {
     "data": {
      "text/plain": [
       "Timestamp('2019-08-31 00:00:00')"
      ]
     },
     "execution_count": 25,
     "metadata": {},
     "output_type": "execute_result"
    }
   ],
   "source": [
    "orders['date'].max()"
   ]
  },
  {
   "cell_type": "code",
   "execution_count": 26,
   "metadata": {},
   "outputs": [
    {
     "data": {
      "text/html": [
       "<div>\n",
       "<style scoped>\n",
       "    .dataframe tbody tr th:only-of-type {\n",
       "        vertical-align: middle;\n",
       "    }\n",
       "\n",
       "    .dataframe tbody tr th {\n",
       "        vertical-align: top;\n",
       "    }\n",
       "\n",
       "    .dataframe thead th {\n",
       "        text-align: right;\n",
       "    }\n",
       "</style>\n",
       "<table border=\"1\" class=\"dataframe\">\n",
       "  <thead>\n",
       "    <tr style=\"text-align: right;\">\n",
       "      <th></th>\n",
       "      <th>transaction_id</th>\n",
       "      <th>visitor_id</th>\n",
       "      <th>date</th>\n",
       "      <th>revenue</th>\n",
       "      <th>group</th>\n",
       "    </tr>\n",
       "  </thead>\n",
       "  <tbody>\n",
       "    <tr>\n",
       "      <th>0</th>\n",
       "      <td>3667963787</td>\n",
       "      <td>3312258926</td>\n",
       "      <td>2019-08-15</td>\n",
       "      <td>1650</td>\n",
       "      <td>B</td>\n",
       "    </tr>\n",
       "    <tr>\n",
       "      <th>1</th>\n",
       "      <td>2804400009</td>\n",
       "      <td>3642806036</td>\n",
       "      <td>2019-08-15</td>\n",
       "      <td>730</td>\n",
       "      <td>B</td>\n",
       "    </tr>\n",
       "    <tr>\n",
       "      <th>2</th>\n",
       "      <td>2961555356</td>\n",
       "      <td>4069496402</td>\n",
       "      <td>2019-08-15</td>\n",
       "      <td>400</td>\n",
       "      <td>A</td>\n",
       "    </tr>\n",
       "    <tr>\n",
       "      <th>3</th>\n",
       "      <td>3797467345</td>\n",
       "      <td>1196621759</td>\n",
       "      <td>2019-08-15</td>\n",
       "      <td>9759</td>\n",
       "      <td>B</td>\n",
       "    </tr>\n",
       "    <tr>\n",
       "      <th>4</th>\n",
       "      <td>2282983706</td>\n",
       "      <td>2322279887</td>\n",
       "      <td>2019-08-15</td>\n",
       "      <td>2308</td>\n",
       "      <td>B</td>\n",
       "    </tr>\n",
       "  </tbody>\n",
       "</table>\n",
       "</div>"
      ],
      "text/plain": [
       "   transaction_id  visitor_id       date  revenue group\n",
       "0      3667963787  3312258926 2019-08-15     1650     B\n",
       "1      2804400009  3642806036 2019-08-15      730     B\n",
       "2      2961555356  4069496402 2019-08-15      400     A\n",
       "3      3797467345  1196621759 2019-08-15     9759     B\n",
       "4      2282983706  2322279887 2019-08-15     2308     B"
      ]
     },
     "execution_count": 26,
     "metadata": {},
     "output_type": "execute_result"
    }
   ],
   "source": [
    "orders.head()"
   ]
  },
  {
   "cell_type": "code",
   "execution_count": 27,
   "metadata": {},
   "outputs": [
    {
     "data": {
      "text/html": [
       "<div>\n",
       "<style scoped>\n",
       "    .dataframe tbody tr th:only-of-type {\n",
       "        vertical-align: middle;\n",
       "    }\n",
       "\n",
       "    .dataframe tbody tr th {\n",
       "        vertical-align: top;\n",
       "    }\n",
       "\n",
       "    .dataframe thead th {\n",
       "        text-align: right;\n",
       "    }\n",
       "</style>\n",
       "<table border=\"1\" class=\"dataframe\">\n",
       "  <thead>\n",
       "    <tr style=\"text-align: right;\">\n",
       "      <th></th>\n",
       "      <th>date</th>\n",
       "      <th>group</th>\n",
       "      <th>visitors</th>\n",
       "    </tr>\n",
       "  </thead>\n",
       "  <tbody>\n",
       "    <tr>\n",
       "      <th>0</th>\n",
       "      <td>2019-08-01</td>\n",
       "      <td>A</td>\n",
       "      <td>719</td>\n",
       "    </tr>\n",
       "    <tr>\n",
       "      <th>1</th>\n",
       "      <td>2019-08-02</td>\n",
       "      <td>A</td>\n",
       "      <td>619</td>\n",
       "    </tr>\n",
       "    <tr>\n",
       "      <th>2</th>\n",
       "      <td>2019-08-03</td>\n",
       "      <td>A</td>\n",
       "      <td>507</td>\n",
       "    </tr>\n",
       "    <tr>\n",
       "      <th>3</th>\n",
       "      <td>2019-08-04</td>\n",
       "      <td>A</td>\n",
       "      <td>717</td>\n",
       "    </tr>\n",
       "    <tr>\n",
       "      <th>4</th>\n",
       "      <td>2019-08-05</td>\n",
       "      <td>A</td>\n",
       "      <td>756</td>\n",
       "    </tr>\n",
       "  </tbody>\n",
       "</table>\n",
       "</div>"
      ],
      "text/plain": [
       "        date group  visitors\n",
       "0 2019-08-01     A       719\n",
       "1 2019-08-02     A       619\n",
       "2 2019-08-03     A       507\n",
       "3 2019-08-04     A       717\n",
       "4 2019-08-05     A       756"
      ]
     },
     "execution_count": 27,
     "metadata": {},
     "output_type": "execute_result"
    }
   ],
   "source": [
    "visitors.head()"
   ]
  },
  {
   "cell_type": "code",
   "execution_count": 28,
   "metadata": {
    "scrolled": false
   },
   "outputs": [
    {
     "data": {
      "text/html": [
       "<div>\n",
       "<style scoped>\n",
       "    .dataframe tbody tr th:only-of-type {\n",
       "        vertical-align: middle;\n",
       "    }\n",
       "\n",
       "    .dataframe tbody tr th {\n",
       "        vertical-align: top;\n",
       "    }\n",
       "\n",
       "    .dataframe thead th {\n",
       "        text-align: right;\n",
       "    }\n",
       "</style>\n",
       "<table border=\"1\" class=\"dataframe\">\n",
       "  <thead>\n",
       "    <tr style=\"text-align: right;\">\n",
       "      <th></th>\n",
       "      <th></th>\n",
       "      <th>date</th>\n",
       "      <th>revenue</th>\n",
       "      <th>transaction_id</th>\n",
       "    </tr>\n",
       "    <tr>\n",
       "      <th>visitor_id</th>\n",
       "      <th>group</th>\n",
       "      <th></th>\n",
       "      <th></th>\n",
       "      <th></th>\n",
       "    </tr>\n",
       "  </thead>\n",
       "  <tbody>\n",
       "    <tr>\n",
       "      <th>5114589</th>\n",
       "      <th>B</th>\n",
       "      <td>1</td>\n",
       "      <td>1</td>\n",
       "      <td>1</td>\n",
       "    </tr>\n",
       "    <tr>\n",
       "      <th>6958315</th>\n",
       "      <th>B</th>\n",
       "      <td>1</td>\n",
       "      <td>1</td>\n",
       "      <td>1</td>\n",
       "    </tr>\n",
       "    <tr>\n",
       "      <th rowspan=\"2\" valign=\"top\">8300375</th>\n",
       "      <th>A</th>\n",
       "      <td>1</td>\n",
       "      <td>1</td>\n",
       "      <td>1</td>\n",
       "    </tr>\n",
       "    <tr>\n",
       "      <th>B</th>\n",
       "      <td>1</td>\n",
       "      <td>1</td>\n",
       "      <td>1</td>\n",
       "    </tr>\n",
       "    <tr>\n",
       "      <th>11685486</th>\n",
       "      <th>A</th>\n",
       "      <td>1</td>\n",
       "      <td>1</td>\n",
       "      <td>1</td>\n",
       "    </tr>\n",
       "    <tr>\n",
       "      <th>...</th>\n",
       "      <th>...</th>\n",
       "      <td>...</td>\n",
       "      <td>...</td>\n",
       "      <td>...</td>\n",
       "    </tr>\n",
       "    <tr>\n",
       "      <th>4266935830</th>\n",
       "      <th>B</th>\n",
       "      <td>1</td>\n",
       "      <td>1</td>\n",
       "      <td>1</td>\n",
       "    </tr>\n",
       "    <tr>\n",
       "      <th>4278982564</th>\n",
       "      <th>A</th>\n",
       "      <td>1</td>\n",
       "      <td>1</td>\n",
       "      <td>1</td>\n",
       "    </tr>\n",
       "    <tr>\n",
       "      <th>4279090005</th>\n",
       "      <th>B</th>\n",
       "      <td>1</td>\n",
       "      <td>1</td>\n",
       "      <td>1</td>\n",
       "    </tr>\n",
       "    <tr>\n",
       "      <th>4281247801</th>\n",
       "      <th>B</th>\n",
       "      <td>1</td>\n",
       "      <td>1</td>\n",
       "      <td>1</td>\n",
       "    </tr>\n",
       "    <tr>\n",
       "      <th>4283872382</th>\n",
       "      <th>B</th>\n",
       "      <td>1</td>\n",
       "      <td>1</td>\n",
       "      <td>1</td>\n",
       "    </tr>\n",
       "  </tbody>\n",
       "</table>\n",
       "<p>1089 rows × 3 columns</p>\n",
       "</div>"
      ],
      "text/plain": [
       "                  date  revenue  transaction_id\n",
       "visitor_id group                               \n",
       "5114589    B         1        1               1\n",
       "6958315    B         1        1               1\n",
       "8300375    A         1        1               1\n",
       "           B         1        1               1\n",
       "11685486   A         1        1               1\n",
       "...                ...      ...             ...\n",
       "4266935830 B         1        1               1\n",
       "4278982564 A         1        1               1\n",
       "4279090005 B         1        1               1\n",
       "4281247801 B         1        1               1\n",
       "4283872382 B         1        1               1\n",
       "\n",
       "[1089 rows x 3 columns]"
      ]
     },
     "execution_count": 28,
     "metadata": {},
     "output_type": "execute_result"
    }
   ],
   "source": [
    "orders.pivot_table(index=['visitor_id', 'group'],  aggfunc='count').sort_values(by='visitor_id')"
   ]
  },
  {
   "cell_type": "markdown",
   "metadata": {},
   "source": [
    "Удалим пользователей, которые присутствуют и в группе А и в группе В. Иначе мы можем сделать неправильные выводы относительно результатов теста."
   ]
  },
  {
   "cell_type": "code",
   "execution_count": 29,
   "metadata": {},
   "outputs": [],
   "source": [
    "dulicat_A = orders.query('group == \"A\"')\n",
    "s = dulicat_A['visitor_id'].tolist()\n",
    "dulicat_B = orders.query('group == \"B\"')\n",
    "s2 = dulicat_B['visitor_id'].tolist()"
   ]
  },
  {
   "cell_type": "code",
   "execution_count": 30,
   "metadata": {},
   "outputs": [
    {
     "data": {
      "text/html": [
       "<div>\n",
       "<style scoped>\n",
       "    .dataframe tbody tr th:only-of-type {\n",
       "        vertical-align: middle;\n",
       "    }\n",
       "\n",
       "    .dataframe tbody tr th {\n",
       "        vertical-align: top;\n",
       "    }\n",
       "\n",
       "    .dataframe thead th {\n",
       "        text-align: right;\n",
       "    }\n",
       "</style>\n",
       "<table border=\"1\" class=\"dataframe\">\n",
       "  <thead>\n",
       "    <tr style=\"text-align: right;\">\n",
       "      <th></th>\n",
       "      <th>transaction_id</th>\n",
       "      <th>visitor_id</th>\n",
       "      <th>date</th>\n",
       "      <th>revenue</th>\n",
       "      <th>group</th>\n",
       "    </tr>\n",
       "  </thead>\n",
       "  <tbody>\n",
       "    <tr>\n",
       "      <th>56</th>\n",
       "      <td>900025958</td>\n",
       "      <td>5114589</td>\n",
       "      <td>2019-08-16</td>\n",
       "      <td>570</td>\n",
       "      <td>B</td>\n",
       "    </tr>\n",
       "    <tr>\n",
       "      <th>573</th>\n",
       "      <td>1887336629</td>\n",
       "      <td>6958315</td>\n",
       "      <td>2019-08-04</td>\n",
       "      <td>1490</td>\n",
       "      <td>B</td>\n",
       "    </tr>\n",
       "    <tr>\n",
       "      <th>233</th>\n",
       "      <td>797272237</td>\n",
       "      <td>11685486</td>\n",
       "      <td>2019-08-23</td>\n",
       "      <td>6201</td>\n",
       "      <td>A</td>\n",
       "    </tr>\n",
       "    <tr>\n",
       "      <th>912</th>\n",
       "      <td>437876380</td>\n",
       "      <td>39475350</td>\n",
       "      <td>2019-08-08</td>\n",
       "      <td>3990</td>\n",
       "      <td>B</td>\n",
       "    </tr>\n",
       "    <tr>\n",
       "      <th>924</th>\n",
       "      <td>3778001764</td>\n",
       "      <td>47206413</td>\n",
       "      <td>2019-08-10</td>\n",
       "      <td>730</td>\n",
       "      <td>B</td>\n",
       "    </tr>\n",
       "  </tbody>\n",
       "</table>\n",
       "</div>"
      ],
      "text/plain": [
       "     transaction_id  visitor_id       date  revenue group\n",
       "56        900025958     5114589 2019-08-16      570     B\n",
       "573      1887336629     6958315 2019-08-04     1490     B\n",
       "233       797272237    11685486 2019-08-23     6201     A\n",
       "912       437876380    39475350 2019-08-08     3990     B\n",
       "924      3778001764    47206413 2019-08-10      730     B"
      ]
     },
     "execution_count": 30,
     "metadata": {},
     "output_type": "execute_result"
    }
   ],
   "source": [
    "orders_without_dubl = orders.query('(group == \"B\" and  visitor_id not in @s) or (group == \"A\" and  visitor_id not in @s2)')\n",
    "orders_without_dubl.sort_values(by='visitor_id').head()"
   ]
  },
  {
   "cell_type": "code",
   "execution_count": 31,
   "metadata": {},
   "outputs": [
    {
     "name": "stdout",
     "output_type": "stream",
     "text": [
      "Удалили из данных пользователей: 58\n"
     ]
    }
   ],
   "source": [
    "print('Удалили из данных пользователей:',\\\n",
    "orders['visitor_id'].nunique()-orders_without_dubl['visitor_id'].nunique())"
   ]
  },
  {
   "cell_type": "code",
   "execution_count": 32,
   "metadata": {},
   "outputs": [
    {
     "data": {
      "text/html": [
       "<div>\n",
       "<style scoped>\n",
       "    .dataframe tbody tr th:only-of-type {\n",
       "        vertical-align: middle;\n",
       "    }\n",
       "\n",
       "    .dataframe tbody tr th {\n",
       "        vertical-align: top;\n",
       "    }\n",
       "\n",
       "    .dataframe thead th {\n",
       "        text-align: right;\n",
       "    }\n",
       "</style>\n",
       "<table border=\"1\" class=\"dataframe\">\n",
       "  <thead>\n",
       "    <tr style=\"text-align: right;\">\n",
       "      <th></th>\n",
       "      <th>group</th>\n",
       "      <th>visitor_id</th>\n",
       "    </tr>\n",
       "  </thead>\n",
       "  <tbody>\n",
       "    <tr>\n",
       "      <th>0</th>\n",
       "      <td>A</td>\n",
       "      <td>503</td>\n",
       "    </tr>\n",
       "    <tr>\n",
       "      <th>1</th>\n",
       "      <td>B</td>\n",
       "      <td>586</td>\n",
       "    </tr>\n",
       "  </tbody>\n",
       "</table>\n",
       "</div>"
      ],
      "text/plain": [
       "  group  visitor_id\n",
       "0     A         503\n",
       "1     B         586"
      ]
     },
     "execution_count": 32,
     "metadata": {},
     "output_type": "execute_result"
    }
   ],
   "source": [
    "orders.groupby('group', as_index=False).agg({'visitor_id': 'sum', 'visitor_id':'nunique'})"
   ]
  },
  {
   "cell_type": "code",
   "execution_count": 33,
   "metadata": {},
   "outputs": [
    {
     "data": {
      "text/html": [
       "<div>\n",
       "<style scoped>\n",
       "    .dataframe tbody tr th:only-of-type {\n",
       "        vertical-align: middle;\n",
       "    }\n",
       "\n",
       "    .dataframe tbody tr th {\n",
       "        vertical-align: top;\n",
       "    }\n",
       "\n",
       "    .dataframe thead th {\n",
       "        text-align: right;\n",
       "    }\n",
       "</style>\n",
       "<table border=\"1\" class=\"dataframe\">\n",
       "  <thead>\n",
       "    <tr style=\"text-align: right;\">\n",
       "      <th></th>\n",
       "      <th>group</th>\n",
       "      <th>visitor_id</th>\n",
       "    </tr>\n",
       "  </thead>\n",
       "  <tbody>\n",
       "    <tr>\n",
       "      <th>0</th>\n",
       "      <td>A</td>\n",
       "      <td>445</td>\n",
       "    </tr>\n",
       "    <tr>\n",
       "      <th>1</th>\n",
       "      <td>B</td>\n",
       "      <td>528</td>\n",
       "    </tr>\n",
       "  </tbody>\n",
       "</table>\n",
       "</div>"
      ],
      "text/plain": [
       "  group  visitor_id\n",
       "0     A         445\n",
       "1     B         528"
      ]
     },
     "execution_count": 33,
     "metadata": {},
     "output_type": "execute_result"
    }
   ],
   "source": [
    "orders_without_dubl.groupby('group', as_index=False).agg({'visitor_id': 'sum', 'visitor_id':'nunique'})"
   ]
  },
  {
   "cell_type": "markdown",
   "metadata": {},
   "source": [
    "Чтобы построить графики, нужно собрать кумулятивные данные. Объявим датафрейм cumulativeData со столбцами: "
   ]
  },
  {
   "cell_type": "markdown",
   "metadata": {},
   "source": [
    "- date — дата;\n",
    "- group — группа A/B-теста (A или B);\n",
    "- orders — кумулятивное количество заказов на указанную дату в указанной группе;\n",
    "- buyers — кумулятивное количество пользователей, совершивших хотя бы один заказ, на указанную дату в указанной группе;\n",
    "- revenue — кумулятивная выручка на указанную дату в указанной группе (средний чек);\n",
    "- visitors — кумулятивное количество посетителей интернет-магазина на указанную дату в определённой группе."
   ]
  },
  {
   "cell_type": "code",
   "execution_count": 34,
   "metadata": {},
   "outputs": [
    {
     "name": "stdout",
     "output_type": "stream",
     "text": [
      "        date group  orders  buyers  revenue  visitors\n",
      "0 2019-08-01     A      23      19   142779       719\n",
      "1 2019-08-01     B      17      17    59758       713\n",
      "2 2019-08-02     A      42      36   234381      1338\n",
      "3 2019-08-02     B      40      39   221801      1294\n",
      "4 2019-08-03     A      66      60   346854      1845\n"
     ]
    }
   ],
   "source": [
    "# создаем массив уникальных пар значений дат и групп теста\n",
    "datesGroups = orders_without_dubl[['date','group']].drop_duplicates()\n",
    "\n",
    "# получаем агрегированные кумулятивные по дням данные о заказах \n",
    "ordersAggregated = datesGroups.apply(lambda x: orders_without_dubl[np.logical_and\\\n",
    "(orders_without_dubl['date'] <= x['date'], orders_without_dubl['group'] == x['group'])].\\\n",
    "agg({'date' : 'max', 'group' : 'max', 'transaction_id' : 'nunique', 'visitor_id' : 'nunique', 'revenue' : 'sum'}), axis=1).\\\n",
    "sort_values(by=['date','group'])\n",
    "\n",
    "# получаем агрегированные кумулятивные по дням данные о посетителях интернет-магазина \n",
    "visitorsAggregated = datesGroups.apply(lambda x: visitors[np.logical_and\\\n",
    "(visitors['date'] <= x['date'], visitors['group'] == x['group'])].\\\n",
    "agg({'date' : 'max', 'group' : 'max', 'visitors' : 'sum'}), axis=1).sort_values(by=['date','group'])\n",
    "\n",
    "# объединяем кумулятивные данные в одной таблице и присваиваем ее столбцам понятные названия\n",
    "cumulativeData = ordersAggregated.merge(visitorsAggregated, left_on=['date', 'group'], right_on=['date', 'group'])\n",
    "cumulativeData.columns = ['date', 'group', 'orders', 'buyers', 'revenue', 'visitors']\n",
    "\n",
    "print(cumulativeData.head(5))"
   ]
  },
  {
   "cell_type": "markdown",
   "metadata": {},
   "source": [
    "### График кумулятивной выручки по группам"
   ]
  },
  {
   "cell_type": "code",
   "execution_count": 35,
   "metadata": {},
   "outputs": [
    {
     "data": {
      "image/png": "[encoded data removed]",
      "text/plain": [
       "<Figure size 864x576 with 1 Axes>"
      ]
     },
     "metadata": {
      "needs_background": "light"
     },
     "output_type": "display_data"
    }
   ],
   "source": [
    "# датафрейм с кумулятивным количеством заказов и кумулятивной выручкой по дням в группе А\n",
    "cumulativeRevenueA = cumulativeData[cumulativeData['group']=='A'][['date','revenue', 'orders']]\n",
    "\n",
    "# датафрейм с кумулятивным количеством заказов и кумулятивной выручкой по дням в группе B\n",
    "cumulativeRevenueB = cumulativeData[cumulativeData['group']=='B'][['date','revenue', 'orders']]\n",
    "\n",
    "plt.figure(figsize=(12, 8))\n",
    "# Строим график выручки группы А\n",
    "plt.plot(cumulativeRevenueA['date'], cumulativeRevenueA['revenue'], label='A')\n",
    "\n",
    "# Строим график выручки группы B\n",
    "plt.plot(cumulativeRevenueB['date'], cumulativeRevenueB['revenue'], label='B')\n",
    "\n",
    "plt.legend() \n",
    "plt.grid(b=True)\n",
    "#plt.axis([\"2019-08-01\", '2019-09-01', 0, 0.015])\n",
    "plt.title('кумулятивная выручка по группам')\n",
    "plt.xlabel('дата')\n",
    "plt.ylabel('кумулятивная выручка');"
   ]
  },
  {
   "cell_type": "markdown",
   "metadata": {},
   "source": [
    "Выручка группы А почти равномерно увеличивается в течение всего теста. Выручка группы В так же в течении всего времени увеличивается, но присутствует резкий скачек в середине теста. Это может сигнализировать о появлении очень дорогих заказов в выборке. "
   ]
  },
  {
   "cell_type": "markdown",
   "metadata": {},
   "source": [
    "### График кумулятивного среднего чека по группам\n"
   ]
  },
  {
   "cell_type": "code",
   "execution_count": 36,
   "metadata": {},
   "outputs": [
    {
     "data": {
      "image/png": "[encoded data removed]",
      "text/plain": [
       "<Figure size 864x576 with 1 Axes>"
      ]
     },
     "metadata": {
      "needs_background": "light"
     },
     "output_type": "display_data"
    }
   ],
   "source": [
    "plt.figure(figsize=(12, 8))\n",
    "plt.plot(cumulativeRevenueA['date'], cumulativeRevenueA['revenue']/cumulativeRevenueA['orders'], label='A')\n",
    "plt.plot(cumulativeRevenueB['date'], cumulativeRevenueB['revenue']/cumulativeRevenueB['orders'], label='B')\n",
    "plt.legend()\n",
    "plt.grid(b=True)\n",
    "plt.title('кумулятивный средний чек по группам')\n",
    "plt.xlabel('дата')\n",
    "plt.ylabel('кумулятивный средний чек');"
   ]
  },
  {
   "cell_type": "markdown",
   "metadata": {},
   "source": [
    "Средний чек становится равномерным ближе к концу теста: установился для группы A и продолжает падать для группы B, после резкого скачка (возможно, в группу B в середине теста попали крупные заказы). Возможно группе В нужно больше данных, чтобы прийти к реальному среднему чеку и установиться на его уровне."
   ]
  },
  {
   "cell_type": "markdown",
   "metadata": {},
   "source": [
    "### График относительного изменения кумулятивного среднего чека группы B к группе A"
   ]
  },
  {
   "cell_type": "code",
   "execution_count": 37,
   "metadata": {},
   "outputs": [
    {
     "data": {
      "image/png": "[encoded data removed]",
      "text/plain": [
       "<Figure size 864x648 with 1 Axes>"
      ]
     },
     "metadata": {
      "needs_background": "light"
     },
     "output_type": "display_data"
    }
   ],
   "source": [
    "# собираем данные в одном датафрейме\n",
    "mergedCumulativeRevenue = cumulativeRevenueA.\\\n",
    "merge(cumulativeRevenueB, left_on='date', right_on='date', how='left', suffixes=['A', 'B'])\n",
    "\n",
    "plt.figure(figsize=(12, 9))\n",
    "# cтроим отношение средних чеков\n",
    "plt.plot(mergedCumulativeRevenue['date'], \\\n",
    "         (mergedCumulativeRevenue['revenueB']/mergedCumulativeRevenue['ordersB'])/\\\n",
    "         (mergedCumulativeRevenue['revenueA']/mergedCumulativeRevenue['ordersA'])-1)\n",
    "\n",
    "# добавляем ось X\n",
    "plt.axhline(y=0, color='black', linestyle='--')\n",
    "plt.grid(b=True)\n",
    "plt.title('относительное изменение кумулятивного среднего чека группы B к группе A')\n",
    "plt.xlabel('дата')\n",
    "plt.ylabel('доля');"
   ]
  },
  {
   "cell_type": "markdown",
   "metadata": {},
   "source": [
    "В нескольких точках график различия между сегментами резко «скачет». Видимо в этих точках были совершены аномальные заказы. "
   ]
  },
  {
   "cell_type": "markdown",
   "metadata": {},
   "source": [
    "### График кумулятивного среднего количества заказов на посетителя по группам"
   ]
  },
  {
   "cell_type": "code",
   "execution_count": 38,
   "metadata": {},
   "outputs": [
    {
     "data": {
      "image/png": "[encoded data removed]",
      "text/plain": [
       "<Figure size 864x576 with 1 Axes>"
      ]
     },
     "metadata": {
      "needs_background": "light"
     },
     "output_type": "display_data"
    }
   ],
   "source": [
    "# считаем кумулятивное среднее количества заказов на посетителя\n",
    "cumulativeData['conversion'] = cumulativeData['orders']/cumulativeData['visitors']\n",
    "\n",
    "# отделяем данные по группе A\n",
    "cumulativeDataA = cumulativeData[cumulativeData['group']=='A']\n",
    "\n",
    "# отделяем данные по группе B\n",
    "cumulativeDataB = cumulativeData[cumulativeData['group']=='B']\n",
    "\n",
    "plt.figure(figsize=(12,8))\n",
    "# строим графики\n",
    "plt.plot(cumulativeDataA['date'], cumulativeDataA['conversion'], label='A')\n",
    "plt.plot(cumulativeDataB['date'], cumulativeDataB['conversion'], label='B')\n",
    "plt.legend()\n",
    "plt.grid(b=True)\n",
    "# задаем масштаб осей\n",
    "#plt.axis(['2019-08-01', '2019-09-01', 0, 0.04])\n",
    "plt.title('кумулятивное среднее количества заказов на посетителя по группам')\n",
    "plt.xlabel('дата')\n",
    "plt.ylabel('кумулятивное среднее количество заказов на посетителя');"
   ]
  },
  {
   "cell_type": "markdown",
   "metadata": {},
   "source": [
    "В начале теста сегмент А имел большее кумулятивное среднее количества заказов на посетителя, но в течении первых двух недель теста оно снизилось примерно до 2.55% и зафиксировалось около этого значения. Сегмент В, напротив, в начале теста имел меньшее кумулятивное среднее количества заказов на посетителя и оно сильно колебалось в течении первой недели, затем сегмент В обогнал сегмент А по значению, к концу теста мы видим, что оно остановилось около значения 2.9%. "
   ]
  },
  {
   "cell_type": "code",
   "execution_count": 39,
   "metadata": {},
   "outputs": [
    {
     "data": {
      "text/html": [
       "<div>\n",
       "<style scoped>\n",
       "    .dataframe tbody tr th:only-of-type {\n",
       "        vertical-align: middle;\n",
       "    }\n",
       "\n",
       "    .dataframe tbody tr th {\n",
       "        vertical-align: top;\n",
       "    }\n",
       "\n",
       "    .dataframe thead th {\n",
       "        text-align: right;\n",
       "    }\n",
       "</style>\n",
       "<table border=\"1\" class=\"dataframe\">\n",
       "  <thead>\n",
       "    <tr style=\"text-align: right;\">\n",
       "      <th></th>\n",
       "      <th>date</th>\n",
       "      <th>group</th>\n",
       "      <th>orders</th>\n",
       "      <th>buyers</th>\n",
       "      <th>revenue</th>\n",
       "      <th>visitors</th>\n",
       "      <th>conversion</th>\n",
       "    </tr>\n",
       "  </thead>\n",
       "  <tbody>\n",
       "    <tr>\n",
       "      <th>0</th>\n",
       "      <td>2019-08-01</td>\n",
       "      <td>A</td>\n",
       "      <td>23</td>\n",
       "      <td>19</td>\n",
       "      <td>142779</td>\n",
       "      <td>719</td>\n",
       "      <td>0.031989</td>\n",
       "    </tr>\n",
       "    <tr>\n",
       "      <th>1</th>\n",
       "      <td>2019-08-01</td>\n",
       "      <td>B</td>\n",
       "      <td>17</td>\n",
       "      <td>17</td>\n",
       "      <td>59758</td>\n",
       "      <td>713</td>\n",
       "      <td>0.023843</td>\n",
       "    </tr>\n",
       "    <tr>\n",
       "      <th>2</th>\n",
       "      <td>2019-08-02</td>\n",
       "      <td>A</td>\n",
       "      <td>42</td>\n",
       "      <td>36</td>\n",
       "      <td>234381</td>\n",
       "      <td>1338</td>\n",
       "      <td>0.031390</td>\n",
       "    </tr>\n",
       "    <tr>\n",
       "      <th>3</th>\n",
       "      <td>2019-08-02</td>\n",
       "      <td>B</td>\n",
       "      <td>40</td>\n",
       "      <td>39</td>\n",
       "      <td>221801</td>\n",
       "      <td>1294</td>\n",
       "      <td>0.030912</td>\n",
       "    </tr>\n",
       "    <tr>\n",
       "      <th>4</th>\n",
       "      <td>2019-08-03</td>\n",
       "      <td>A</td>\n",
       "      <td>66</td>\n",
       "      <td>60</td>\n",
       "      <td>346854</td>\n",
       "      <td>1845</td>\n",
       "      <td>0.035772</td>\n",
       "    </tr>\n",
       "  </tbody>\n",
       "</table>\n",
       "</div>"
      ],
      "text/plain": [
       "        date group  orders  buyers  revenue  visitors  conversion\n",
       "0 2019-08-01     A      23      19   142779       719    0.031989\n",
       "1 2019-08-01     B      17      17    59758       713    0.023843\n",
       "2 2019-08-02     A      42      36   234381      1338    0.031390\n",
       "3 2019-08-02     B      40      39   221801      1294    0.030912\n",
       "4 2019-08-03     A      66      60   346854      1845    0.035772"
      ]
     },
     "execution_count": 39,
     "metadata": {},
     "output_type": "execute_result"
    }
   ],
   "source": [
    "cumulativeData.head()"
   ]
  },
  {
   "cell_type": "markdown",
   "metadata": {},
   "source": [
    "### График относительного изменения кумулятивного среднего количества заказов на посетителя группы B к группе A\n"
   ]
  },
  {
   "cell_type": "code",
   "execution_count": 40,
   "metadata": {},
   "outputs": [
    {
     "data": {
      "image/png": "[encoded data removed]",
      "text/plain": [
       "<Figure size 864x648 with 1 Axes>"
      ]
     },
     "metadata": {
      "needs_background": "light"
     },
     "output_type": "display_data"
    }
   ],
   "source": [
    "mergedCumulativeConversions = cumulativeDataA[['date','conversion']].\\\n",
    "merge(cumulativeDataB[['date','conversion']], left_on='date', right_on='date', how='left', suffixes=['A', 'B'])\n",
    "plt.figure(figsize=(12, 9))\n",
    "\n",
    "plt.plot(mergedCumulativeConversions['date'], mergedCumulativeConversions['conversionB']/\\\n",
    "         mergedCumulativeConversions['conversionA']-1, label=\"Относительный прирост\")\n",
    "plt.legend()\n",
    "plt.grid(b=True)\n",
    "plt.axhline(y=0, color='black', linestyle='--')\n",
    "plt.axhline(y=-0.1, color='grey', linestyle='--')\n",
    "#plt.axis([\"2019-08-01\", '2019-09-01', -0.6, 0.6])\n",
    "plt.title('относительное изменение кумулятивного среднего количества заказов на посетителя группы B к группе A')\n",
    "plt.xlabel('дата')\n",
    "plt.ylabel('отношение');"
   ]
  },
  {
   "cell_type": "markdown",
   "metadata": {},
   "source": [
    "В начале теста группа B значительно проигрывала группе A, затем вырвалась вперёд и зафиксировалась около прироста в 15% относительно группы А."
   ]
  },
  {
   "cell_type": "markdown",
   "metadata": {},
   "source": [
    "### Точечный график количества заказов по пользователям"
   ]
  },
  {
   "cell_type": "code",
   "execution_count": 41,
   "metadata": {},
   "outputs": [
    {
     "name": "stdout",
     "output_type": "stream",
     "text": [
      "         user_id  orders\n",
      "1023  4256040402      11\n",
      "591   2458001652      11\n",
      "569   2378935119       9\n",
      "487   2038680547       8\n",
      "44     199603092       5\n",
      "744   3062433592       5\n",
      "55     237748145       5\n",
      "917   3803269165       5\n",
      "299   1230306981       5\n",
      "897   3717692402       5\n"
     ]
    }
   ],
   "source": [
    "ordersByUsers = (\n",
    "    orders.groupby('visitor_id', as_index=False)\n",
    "    .agg({'transaction_id': 'nunique'})\n",
    ")\n",
    "\n",
    "ordersByUsers.columns = ['user_id', 'orders']\n",
    "\n",
    "print(ordersByUsers.sort_values(by='orders', ascending=False).head(10)) "
   ]
  },
  {
   "cell_type": "code",
   "execution_count": 42,
   "metadata": {},
   "outputs": [
    {
     "data": {
      "image/png": "[encoded data removed]",
      "text/plain": [
       "<Figure size 432x288 with 1 Axes>"
      ]
     },
     "metadata": {
      "needs_background": "light"
     },
     "output_type": "display_data"
    }
   ],
   "source": [
    "x_values = pd.Series(range(0,len(ordersByUsers)))\n",
    "\n",
    "plt.scatter(x_values, ordersByUsers['orders'])\n",
    "plt.title('количество заказов по пользователям')\n",
    "plt.xlabel('пользователи')\n",
    "plt.ylabel('заказы');"
   ]
  },
  {
   "cell_type": "markdown",
   "metadata": {},
   "source": [
    "Много пользователей с 2-3 заказами. Найдем их точную долю, чтобы понять, аномалии это или нет. "
   ]
  },
  {
   "cell_type": "markdown",
   "metadata": {},
   "source": [
    "### 95-й и 99-й перцентили количества заказов на пользователя. Граница для определения аномальных пользователей."
   ]
  },
  {
   "cell_type": "code",
   "execution_count": 43,
   "metadata": {},
   "outputs": [
    {
     "name": "stdout",
     "output_type": "stream",
     "text": [
      "[2. 4.]\n"
     ]
    }
   ],
   "source": [
    "#Посчитаем перцентили количества заказов на одного пользователя:\n",
    "print(np.percentile(ordersByUsers['orders'], [95, 99])) "
   ]
  },
  {
   "cell_type": "markdown",
   "metadata": {},
   "source": [
    "Не более 5% пользователей оформляли больше, чем два заказа. И 1% пользователей заказывали более четырех раз. Примем за аномальных пользователей тех, кто совершил от 3 заказов. "
   ]
  },
  {
   "cell_type": "markdown",
   "metadata": {},
   "source": [
    "### Точечный график стоимостей заказов"
   ]
  },
  {
   "cell_type": "code",
   "execution_count": 44,
   "metadata": {},
   "outputs": [
    {
     "data": {
      "image/png": "[encoded data removed]",
      "text/plain": [
       "<Figure size 432x288 with 1 Axes>"
      ]
     },
     "metadata": {
      "needs_background": "light"
     },
     "output_type": "display_data"
    }
   ],
   "source": [
    "x_values = pd.Series(range(0,len(orders['revenue'])))\n",
    "plt.scatter(x_values, orders['revenue'])\n",
    "plt.title('распределение стоимости заказов')\n",
    "plt.xlabel('заказы')\n",
    "plt.ylabel('стоимость');"
   ]
  },
  {
   "cell_type": "code",
   "execution_count": 45,
   "metadata": {},
   "outputs": [
    {
     "data": {
      "image/png": "[encoded data removed]",
      "text/plain": [
       "<Figure size 432x288 with 1 Axes>"
      ]
     },
     "metadata": {
      "needs_background": "light"
     },
     "output_type": "display_data"
    }
   ],
   "source": [
    "w = orders.query('revenue < 200000')\n",
    "x_values = pd.Series(range(0,len(w['revenue'])))\n",
    "plt.scatter(x_values, w['revenue'])\n",
    "plt.title('распределение стоимости заказов')\n",
    "plt.xlabel('заказы')\n",
    "plt.ylabel('стоимость');"
   ]
  },
  {
   "cell_type": "markdown",
   "metadata": {},
   "source": [
    "Есть единичные очень дорогие заказы. Много заказов от 20000 до 40000."
   ]
  },
  {
   "cell_type": "markdown",
   "metadata": {},
   "source": [
    "###  95-й и 99-й перцентили стоимости заказов. Граница для определения аномальных заказов."
   ]
  },
  {
   "cell_type": "code",
   "execution_count": 46,
   "metadata": {},
   "outputs": [
    {
     "name": "stdout",
     "output_type": "stream",
     "text": [
      "[28000.  58233.2]\n"
     ]
    }
   ],
   "source": [
    "#Посчитаем перцентили стоимости заказов:\n",
    "print(np.percentile(orders['revenue'], [95, 99])) "
   ]
  },
  {
   "cell_type": "markdown",
   "metadata": {},
   "source": [
    "Не более 5% заказов дороже 28000 рублей и не более 1% дороже 58233.2 рублей. Примем за границу аномальных заказов, заказы стоимостью больше 28000 рублей."
   ]
  },
  {
   "cell_type": "markdown",
   "metadata": {},
   "source": [
    "### Статистическая значимость различий в среднем количестве заказов на посетителя между группами по «сырым» данным"
   ]
  },
  {
   "cell_type": "markdown",
   "metadata": {},
   "source": [
    "\n",
    "В нашем случае в данных есть большие выбросы, алгебраические метрики работают плохо. Поэтому воспользуемся одним из  непараметрических методов - критерием Манна-Уитни. Эти методы работают с рангами, — номерами значений в упорядоченном ряду, — никак не учитывая сами значения. Поэтому к ним прибегают тогда, когда работа с самими значениями невозможна из-за выбросов, сильно сдвигающих параметрические результаты."
   ]
  },
  {
   "cell_type": "markdown",
   "metadata": {},
   "source": [
    "Посчитаем статистическую значимость различий в среднем количестве заказов на посетителя между группами по «сырым» данным — без удаления аномальных пользователей."
   ]
  },
  {
   "cell_type": "markdown",
   "metadata": {},
   "source": [
    "Сформулируем гипотезы. Нулевая: различий в среднем количестве заказов на посетителя между группами нет. Альтернативная: различия в среднем между группами есть."
   ]
  },
  {
   "cell_type": "code",
   "execution_count": 47,
   "metadata": {},
   "outputs": [],
   "source": [
    "#Создадим переменные ordersByUsersA и ordersByUsersB со столбцами ['userId', 'orders']. \n",
    "#В них для пользователей, которые заказывали хотя бы 1 раз, укажем число совершённых заказов:\n",
    "\n",
    "ordersByUsersA = (\n",
    "    orders[orders['group'] == 'A']\n",
    "    .groupby('visitor_id', as_index=False)\n",
    "    .agg({'transaction_id': pd.Series.nunique})\n",
    ")\n",
    "ordersByUsersA.columns = ['user_id', 'orders']\n",
    "\n",
    "ordersByUsersB = (\n",
    "    orders[orders['group'] == 'B']\n",
    "    .groupby('visitor_id', as_index=False)\n",
    "    .agg({'transaction_id': pd.Series.nunique})\n",
    ")\n",
    "ordersByUsersB.columns = ['user_id', 'orders']\n",
    "\n",
    "#переменные sampleA и sampleB, в которых пользователям из разных групп будет соответствовать количество заказов. \n",
    "#Тем, кто ничего не заказал, будут соответствовать нули. \n",
    "#Это нужно, чтобы подготовить выборки к проверке критерием Манна-Уитни.\n",
    "\n",
    "sampleA = pd.concat(\n",
    "    [\n",
    "        ordersByUsersA['orders'],\n",
    "        pd.Series(\n",
    "            0,\n",
    "            index=np.arange(\n",
    "                #data['visitorsPerDateA'].sum() - len(ordersByUsersA['orders'])\n",
    "                 visitors[visitors['group'] == 'A']['visitors'].sum() - len(ordersByUsersA['orders'])\n",
    "            ),\n",
    "            name='orders',\n",
    "        ),\n",
    "    ],\n",
    "    axis=0,\n",
    ")\n",
    "\n",
    "sampleB = pd.concat(\n",
    "    [\n",
    "        ordersByUsersB['orders'],\n",
    "        pd.Series(\n",
    "            0,\n",
    "            index=np.arange(\n",
    "                #data['visitorsPerDateB'].sum() - len(ordersByUsersB['orders'])\n",
    "                visitors[visitors['group'] == 'B']['visitors'].sum() - len(ordersByUsersB['orders'])\n",
    "            ),\n",
    "            name='orders',\n",
    "        ),\n",
    "    ],\n",
    "    axis=0,\n",
    ")"
   ]
  },
  {
   "cell_type": "code",
   "execution_count": 48,
   "metadata": {},
   "outputs": [
    {
     "data": {
      "text/plain": [
       "0    1\n",
       "1    1\n",
       "2    1\n",
       "3    1\n",
       "4    1\n",
       "Name: orders, dtype: int64"
      ]
     },
     "execution_count": 48,
     "metadata": {},
     "output_type": "execute_result"
    }
   ],
   "source": [
    "sampleA.head()"
   ]
  },
  {
   "cell_type": "code",
   "execution_count": 49,
   "metadata": {},
   "outputs": [
    {
     "name": "stdout",
     "output_type": "stream",
     "text": [
      "p-value: 0.017\n",
      "относительный прирост группы B: 0.138\n"
     ]
    }
   ],
   "source": [
    "#Применим критерий Манна-Уитни и отформатируем p-value, округлив его до трёх знаков после запятой.\n",
    "print('p-value:',\"{0:.3f}\".format(stats.mannwhitneyu(sampleA, sampleB)[1]))\n",
    "\n",
    "#Выведем относительный прирост среднего числа заказов группы B:\n",
    "print('относительный прирост группы B:',\"{0:.3f}\".format(sampleB.mean() / sampleA.mean() - 1))"
   ]
  },
  {
   "cell_type": "markdown",
   "metadata": {},
   "source": [
    "Первое число — p-value = 0.017 меньше 0.05. Значит, нулевую гипотезу о том, что статистически значимых различий в среднем числе заказов на посетителя между группами нет, отвергаем. Относительный выигрыш группы B равен 13.8% — второе число в выводе."
   ]
  },
  {
   "cell_type": "markdown",
   "metadata": {},
   "source": [
    "### Статистическая значимость различий в среднем чеке заказа между группами по «сырым» данным"
   ]
  },
  {
   "cell_type": "markdown",
   "metadata": {},
   "source": [
    "Теперь проверим статистическую значимость различий в среднем чеке между сегментами. \n",
    "\n",
    "Нулевая гипотеза: различий в среднем чеке между группами нет. Альтернативная гипотеза: различия в среднем чеке между группами есть. "
   ]
  },
  {
   "cell_type": "markdown",
   "metadata": {},
   "source": [
    "Чтобы рассчитать статистическую значимость различий в среднем чеке, передадим критерию mannwhitneyu() данные о выручке с заказов. \n",
    "И найдём относительные различия в среднем чеке между группами:"
   ]
  },
  {
   "cell_type": "code",
   "execution_count": 50,
   "metadata": {},
   "outputs": [
    {
     "name": "stdout",
     "output_type": "stream",
     "text": [
      "p-value: 0.729\n",
      "относительный прирост группы B: 0.259\n"
     ]
    }
   ],
   "source": [
    "print('p-value:','{0:.3f}'.format(stats.mannwhitneyu(orders[orders['group']=='A']\\\n",
    "        ['revenue'], orders[orders['group']=='B']['revenue'])[1]))\n",
    "print('относительный прирост группы B:','{0:.3f}'.format(orders[orders['group']=='B']\\\n",
    "        ['revenue'].mean()/orders[orders['group']=='A']['revenue'].mean()-1))"
   ]
  },
  {
   "cell_type": "markdown",
   "metadata": {},
   "source": [
    "P-value значительно больше 0.05. Значит, причин отвергать нулевую гипотезу и считать, что в среднем чеке есть различия, нет. Однако, средний чек группы B значительно выше среднего чека группы A."
   ]
  },
  {
   "cell_type": "markdown",
   "metadata": {},
   "source": [
    "Примем за аномальных пользователей тех, кто совершил от 3 заказов или совершил заказ дороже 28 000 рублей. Так мы уберём до 5% пользователей с наибольшим числом заказов и до 5% пользователей с дорогими заказами. Сделаем срезы пользователей с числом заказов больше 2 — usersWithManyOrders и пользователей, совершивших заказы дороже 28 000 — usersWithExpensiveOrders. Объединим их в таблице abnormalUsers. "
   ]
  },
  {
   "cell_type": "code",
   "execution_count": 51,
   "metadata": {},
   "outputs": [
    {
     "name": "stdout",
     "output_type": "stream",
     "text": [
      "1099    148427295\n",
      "18      199603092\n",
      "928     204675465\n",
      "23      237748145\n",
      "37      249864742\n",
      "dtype: int64\n",
      "\n",
      "Количество аномальных пользователей составило: 74, что соответствует 7.6% относительно общего числа пользователей\n"
     ]
    }
   ],
   "source": [
    "usersWithManyOrders = pd.concat(\n",
    "    [\n",
    "        ordersByUsersA[ordersByUsersA['orders'] > np.percentile(ordersByUsers['orders'], 95)]['user_id'],\n",
    "        ordersByUsersB[ordersByUsersB['orders'] > np.percentile(ordersByUsers['orders'], 95)]['user_id'],\n",
    "    ],\n",
    "    axis=0,\n",
    ")\n",
    "usersWithExpensiveOrders = orders[orders['revenue'] > np.percentile(orders['revenue'], 95)]['visitor_id']\n",
    "abnormalUsers = (\n",
    "    pd.concat([usersWithManyOrders, usersWithExpensiveOrders], axis=0)\n",
    "    .drop_duplicates()\n",
    "    .sort_values()\n",
    ")\n",
    "a = abnormalUsers.shape[0]/orders_without_dubl['visitor_id'].nunique()\n",
    "v = abnormalUsers.shape[0]\n",
    "print(abnormalUsers.head(5))\n",
    "print()\n",
    "print(f'Количество аномальных пользователей составило: {v}, что соответствует {a:.1%} относительно общего числа пользователей')"
   ]
  },
  {
   "cell_type": "markdown",
   "metadata": {},
   "source": [
    "Удалено 74 аномальных пользователя, потеряли 7.6 % данных."
   ]
  },
  {
   "cell_type": "markdown",
   "metadata": {},
   "source": [
    "### Статистическая значимость различий в среднем количестве заказов на посетителя между группами по «очищенным» данным"
   ]
  },
  {
   "cell_type": "markdown",
   "metadata": {},
   "source": [
    " Вновь сформулируем гипотезы. Нулевая: различий в среднем количестве заказов на посетителя между группами нет. Альтернативная: различия в среднем между группами есть."
   ]
  },
  {
   "cell_type": "code",
   "execution_count": 52,
   "metadata": {},
   "outputs": [],
   "source": [
    "sampleAFiltered = pd.concat(\n",
    "    [\n",
    "        ordersByUsersA[\n",
    "            np.logical_not(ordersByUsersA['user_id'].isin(abnormalUsers))\n",
    "        ]['orders'],\n",
    "        pd.Series(\n",
    "            0,\n",
    "            index=np.arange(\n",
    "                #data['visitorsPerDateA'].sum() - len(ordersByUsersA['orders'])\n",
    "                visitors[visitors['group'] == 'A']['visitors'].sum()- len(ordersByUsersA['orders'])\n",
    "            ),\n",
    "            name='orders',\n",
    "        ),\n",
    "    ],\n",
    "    axis=0,\n",
    ")\n",
    "\n",
    "sampleBFiltered = pd.concat(\n",
    "    [\n",
    "        ordersByUsersB[\n",
    "            np.logical_not(ordersByUsersB['user_id'].isin(abnormalUsers))\n",
    "        ]['orders'],\n",
    "        pd.Series(\n",
    "            0,\n",
    "            index=np.arange(\n",
    "                #data['visitorsPerDateB'].sum() - len(ordersByUsersB['orders'])\n",
    "                visitors[visitors['group'] == 'B']['visitors'].sum()- len(ordersByUsersB['orders'])\n",
    "            ),\n",
    "            name='orders',\n",
    "        ),\n",
    "    ],\n",
    "    axis=0,\n",
    ")"
   ]
  },
  {
   "cell_type": "code",
   "execution_count": 53,
   "metadata": {},
   "outputs": [
    {
     "name": "stdout",
     "output_type": "stream",
     "text": [
      "p-value: 0.013\n",
      "относительный прирост группы B: 0.173\n"
     ]
    }
   ],
   "source": [
    "print('p-value:','{0:.3f}'.format(stats.mannwhitneyu(sampleAFiltered, sampleBFiltered)[1]))\n",
    "print('относительный прирост группы B:','{0:.3f}'.format(sampleBFiltered.mean()/sampleAFiltered.mean()-1))"
   ]
  },
  {
   "cell_type": "markdown",
   "metadata": {},
   "source": [
    "Результаты по среднему количеству заказов изменились. Мы так же получили p-value  меньше 0.05, т.е. нулевую гипотезу -различий в среднем количестве заказов на посетителя между группами нет, отвергаем. Относительный выигрыш группы B равен уже 17.3% — второе число в выводе."
   ]
  },
  {
   "cell_type": "markdown",
   "metadata": {},
   "source": [
    "### Статистическая значимость различий в среднем чеке заказа между группами по «очищенным» данным"
   ]
  },
  {
   "cell_type": "markdown",
   "metadata": {},
   "source": [
    "Нулевая гипотеза: различий в среднем чеке между группами нет. Альтернативная гипотеза: различия в среднем чеке между группами есть. "
   ]
  },
  {
   "cell_type": "code",
   "execution_count": 54,
   "metadata": {},
   "outputs": [
    {
     "name": "stdout",
     "output_type": "stream",
     "text": [
      "p-value: 0.738\n",
      "относительный прирост группы B: -0.020\n"
     ]
    }
   ],
   "source": [
    "print('p-value:',\n",
    "    '{0:.3f}'.format(\n",
    "        stats.mannwhitneyu(\n",
    "            orders[\n",
    "                np.logical_and(\n",
    "                    orders['group'] == 'A',\n",
    "                    np.logical_not(orders['visitor_id'].isin(abnormalUsers)),\n",
    "                )\n",
    "            ]['revenue'],\n",
    "            orders[\n",
    "                np.logical_and(\n",
    "                    orders['group'] == 'B',\n",
    "                    np.logical_not(orders['visitor_id'].isin(abnormalUsers)),\n",
    "                )\n",
    "            ]['revenue'],\n",
    "        )[1]\n",
    "    )\n",
    ")\n",
    "\n",
    "print('относительный прирост группы B:',\n",
    "    \"{0:.3f}\".format(\n",
    "        orders[\n",
    "            np.logical_and(\n",
    "                orders['group'] == 'B',\n",
    "                np.logical_not(orders['visitor_id'].isin(abnormalUsers)),\n",
    "            )\n",
    "        ]['revenue'].mean()\n",
    "        / orders[\n",
    "            np.logical_and(\n",
    "                orders['group'] == 'A',\n",
    "                np.logical_not(orders['visitor_id'].isin(abnormalUsers)),\n",
    "            )\n",
    "        ]['revenue'].mean()\n",
    "        - 1\n",
    "    )\n",
    ")"
   ]
  },
  {
   "cell_type": "markdown",
   "metadata": {},
   "source": [
    "P-value значительно больше 0.05. Значит, причин отвергать нулевую гипотезу и считать, что в среднем чеке есть различия, нет. Отметим, что разница между сегментами сократилась с 25.9% до -2%: средний чек группы B немного ниже среднего чека группы A."
   ]
  },
  {
   "cell_type": "markdown",
   "metadata": {},
   "source": [
    "## Решение по результатам теста: \n",
    "\n"
   ]
  },
  {
   "cell_type": "markdown",
   "metadata": {},
   "source": [
    "В результате проведения А/В теста мы выявили следующие факты:\n",
    "\n",
    "  Выручка в двух группа растет в течении всего времени проведения теста. Из графика относительного изменения кумулятивного среднего чека группы B к группе A трудно сделать вывод, поскольку наблюдаем резкие скачки из-за аномальных заказов. График относительного изменения кумулятивного среднего количества заказов на посетителя группы B к группе A, показывает, что начале теста группа B значительно проигрывала группе A, затем вырвалась вперёд и зафиксировалась около прироста в 15% относительно группы А.\n",
    "Был проведен анализ выбросов и всплесков. К аномальным пользователям отнесены те, которые сделали более двух заказов либо заказы на сумму более 28000 рублей. \n",
    "Подсчет статистической значимости тестом Манна-Уитни по «сырым» и по данным после фильтрации аномалий, показал что:\n",
    "\n",
    "* Нет статистически значимого различия по среднему чеку между группами ни по «сырым», ни по данным после фильтрации аномалий. После удаления аномалий разница между сегментами сократилась с 25.9% до -2%: средний чек группы B чуть ниже среднего чека группы A.\n",
    "* Есть статистически значимые различия по среднему количеству заказов на посетителя между группами и по «сырым» и по данным после фильтрации аномалий. По сырым данным имеется относительный выигрыш группы B, он равен 13.8%, по очищенным данным выигрыш группы B равен уже 17.3%. \n",
    "\n",
    "Таким образом, группа В показывает значительный прирост по среднему количеству заказов относительно группы А, который зафиксировался около значения 15%: **остановить тест, зафиксировать победу группы В.** \n",
    "\n"
   ]
  }
 ],
 "metadata": {
  "ExecuteTimeLog": [
   {
    "duration": 3,
    "start_time": "2023-03-15T16:38:30.543Z"
   },
   {
    "duration": 810,
    "start_time": "2023-03-15T16:44:43.281Z"
   },
   {
    "duration": 83,
    "start_time": "2023-03-15T16:44:44.426Z"
   },
   {
    "duration": 12,
    "start_time": "2023-03-15T16:44:45.240Z"
   },
   {
    "duration": 29,
    "start_time": "2023-03-15T16:45:37.552Z"
   },
   {
    "duration": 10,
    "start_time": "2023-03-15T16:45:38.345Z"
   },
   {
    "duration": 28,
    "start_time": "2023-03-15T16:45:47.751Z"
   },
   {
    "duration": 8,
    "start_time": "2023-03-15T16:45:50.590Z"
   },
   {
    "duration": 28,
    "start_time": "2023-03-15T16:45:58.283Z"
   },
   {
    "duration": 8,
    "start_time": "2023-03-15T16:45:58.983Z"
   },
   {
    "duration": 3,
    "start_time": "2023-03-15T16:47:17.934Z"
   },
   {
    "duration": 8,
    "start_time": "2023-03-15T16:47:24.344Z"
   },
   {
    "duration": 93,
    "start_time": "2023-03-15T16:54:21.255Z"
   },
   {
    "duration": 81,
    "start_time": "2023-03-15T16:54:22.520Z"
   },
   {
    "duration": 14,
    "start_time": "2023-03-15T16:54:35.355Z"
   },
   {
    "duration": 10,
    "start_time": "2023-03-15T16:54:51.393Z"
   },
   {
    "duration": 8,
    "start_time": "2023-03-15T16:55:39.750Z"
   },
   {
    "duration": 5,
    "start_time": "2023-03-15T16:55:46.584Z"
   },
   {
    "duration": 11,
    "start_time": "2023-03-15T16:56:03.227Z"
   },
   {
    "duration": 11,
    "start_time": "2023-03-15T16:56:28.923Z"
   },
   {
    "duration": 8,
    "start_time": "2023-03-15T16:56:57.270Z"
   },
   {
    "duration": 2,
    "start_time": "2023-03-15T17:07:59.235Z"
   },
   {
    "duration": 8,
    "start_time": "2023-03-15T17:08:53.323Z"
   },
   {
    "duration": 11,
    "start_time": "2023-03-15T17:09:02.926Z"
   },
   {
    "duration": 9,
    "start_time": "2023-03-15T17:11:04.609Z"
   },
   {
    "duration": 2,
    "start_time": "2023-03-15T17:12:58.675Z"
   },
   {
    "duration": 3,
    "start_time": "2023-03-15T17:27:59.172Z"
   },
   {
    "duration": 32,
    "start_time": "2023-03-15T17:27:59.177Z"
   },
   {
    "duration": 9,
    "start_time": "2023-03-15T17:27:59.211Z"
   },
   {
    "duration": 4,
    "start_time": "2023-03-15T17:27:59.222Z"
   },
   {
    "duration": 16,
    "start_time": "2023-03-15T17:27:59.228Z"
   },
   {
    "duration": 45,
    "start_time": "2023-03-15T17:27:59.245Z"
   },
   {
    "duration": 13,
    "start_time": "2023-03-15T17:27:59.292Z"
   },
   {
    "duration": 12,
    "start_time": "2023-03-15T17:27:59.307Z"
   },
   {
    "duration": 5,
    "start_time": "2023-03-15T17:27:59.323Z"
   },
   {
    "duration": 16,
    "start_time": "2023-03-15T17:27:59.330Z"
   },
   {
    "duration": 11,
    "start_time": "2023-03-15T17:27:59.348Z"
   },
   {
    "duration": 11,
    "start_time": "2023-03-15T17:27:59.361Z"
   },
   {
    "duration": 9,
    "start_time": "2023-03-15T17:27:59.374Z"
   },
   {
    "duration": 6,
    "start_time": "2023-03-15T17:27:59.385Z"
   },
   {
    "duration": 10,
    "start_time": "2023-03-15T17:27:59.393Z"
   },
   {
    "duration": 42,
    "start_time": "2023-03-15T17:27:59.405Z"
   },
   {
    "duration": 12,
    "start_time": "2023-03-15T17:27:59.449Z"
   },
   {
    "duration": 49,
    "start_time": "2023-03-16T07:53:42.556Z"
   },
   {
    "duration": 869,
    "start_time": "2023-03-16T07:54:34.067Z"
   },
   {
    "duration": 70,
    "start_time": "2023-03-16T07:54:34.938Z"
   },
   {
    "duration": 11,
    "start_time": "2023-03-16T07:54:35.010Z"
   },
   {
    "duration": 5,
    "start_time": "2023-03-16T07:54:35.022Z"
   },
   {
    "duration": 25,
    "start_time": "2023-03-16T07:54:35.029Z"
   },
   {
    "duration": 106,
    "start_time": "2023-03-16T07:54:35.055Z"
   },
   {
    "duration": 11,
    "start_time": "2023-03-16T07:54:35.163Z"
   },
   {
    "duration": 43,
    "start_time": "2023-03-16T07:54:35.176Z"
   },
   {
    "duration": 22,
    "start_time": "2023-03-16T07:54:35.221Z"
   },
   {
    "duration": 82,
    "start_time": "2023-03-16T07:54:35.245Z"
   },
   {
    "duration": 10,
    "start_time": "2023-03-16T07:54:35.329Z"
   },
   {
    "duration": 50,
    "start_time": "2023-03-16T07:54:35.341Z"
   },
   {
    "duration": 30,
    "start_time": "2023-03-16T07:54:35.393Z"
   },
   {
    "duration": 24,
    "start_time": "2023-03-16T07:54:35.426Z"
   },
   {
    "duration": 24,
    "start_time": "2023-03-16T07:54:35.451Z"
   },
   {
    "duration": 31,
    "start_time": "2023-03-16T07:54:35.477Z"
   },
   {
    "duration": 32,
    "start_time": "2023-03-16T07:54:35.509Z"
   },
   {
    "duration": 75,
    "start_time": "2023-03-16T07:54:35.542Z"
   },
   {
    "duration": 0,
    "start_time": "2023-03-16T07:54:35.618Z"
   },
   {
    "duration": 0,
    "start_time": "2023-03-16T07:54:35.619Z"
   },
   {
    "duration": 12,
    "start_time": "2023-03-16T07:55:05.452Z"
   },
   {
    "duration": 10,
    "start_time": "2023-03-16T07:55:07.659Z"
   },
   {
    "duration": 41,
    "start_time": "2023-03-16T08:04:47.504Z"
   },
   {
    "duration": 5,
    "start_time": "2023-03-16T08:05:04.599Z"
   },
   {
    "duration": 4,
    "start_time": "2023-03-16T08:05:43.603Z"
   },
   {
    "duration": 4,
    "start_time": "2023-03-16T08:05:52.103Z"
   },
   {
    "duration": 179,
    "start_time": "2023-03-16T08:12:20.559Z"
   },
   {
    "duration": 10,
    "start_time": "2023-03-16T08:12:32.575Z"
   },
   {
    "duration": 10,
    "start_time": "2023-03-16T08:13:24.372Z"
   },
   {
    "duration": 2,
    "start_time": "2023-03-16T08:15:05.004Z"
   },
   {
    "duration": 417,
    "start_time": "2023-03-16T08:42:48.029Z"
   },
   {
    "duration": 288,
    "start_time": "2023-03-16T08:43:42.179Z"
   },
   {
    "duration": 3,
    "start_time": "2023-03-16T08:43:50.089Z"
   },
   {
    "duration": 25,
    "start_time": "2023-03-16T08:43:51.476Z"
   },
   {
    "duration": 13,
    "start_time": "2023-03-16T08:43:55.145Z"
   },
   {
    "duration": 13,
    "start_time": "2023-03-16T08:44:00.837Z"
   },
   {
    "duration": 10,
    "start_time": "2023-03-16T08:44:11.640Z"
   },
   {
    "duration": 360,
    "start_time": "2023-03-16T08:44:47.935Z"
   },
   {
    "duration": 5,
    "start_time": "2023-03-16T08:45:16.280Z"
   },
   {
    "duration": 11,
    "start_time": "2023-03-16T08:45:24.348Z"
   },
   {
    "duration": 11,
    "start_time": "2023-03-16T08:45:37.834Z"
   },
   {
    "duration": 5,
    "start_time": "2023-03-16T08:47:16.473Z"
   },
   {
    "duration": 3,
    "start_time": "2023-03-16T08:51:09.620Z"
   },
   {
    "duration": 14,
    "start_time": "2023-03-16T08:55:25.923Z"
   },
   {
    "duration": 5,
    "start_time": "2023-03-16T08:56:00.823Z"
   },
   {
    "duration": 15,
    "start_time": "2023-03-16T08:56:05.101Z"
   },
   {
    "duration": 16,
    "start_time": "2023-03-16T08:58:15.740Z"
   },
   {
    "duration": 10,
    "start_time": "2023-03-16T08:58:29.649Z"
   },
   {
    "duration": 17,
    "start_time": "2023-03-16T09:02:17.639Z"
   },
   {
    "duration": 21,
    "start_time": "2023-03-16T09:02:33.148Z"
   },
   {
    "duration": 3,
    "start_time": "2023-03-16T09:57:02.915Z"
   },
   {
    "duration": 93,
    "start_time": "2023-03-16T10:04:46.288Z"
   },
   {
    "duration": 104,
    "start_time": "2023-03-16T10:04:53.192Z"
   },
   {
    "duration": 69,
    "start_time": "2023-03-16T10:05:12.164Z"
   },
   {
    "duration": 13,
    "start_time": "2023-03-16T10:05:14.688Z"
   },
   {
    "duration": 17,
    "start_time": "2023-03-16T10:05:43.484Z"
   },
   {
    "duration": 17,
    "start_time": "2023-03-16T10:05:50.687Z"
   },
   {
    "duration": 8,
    "start_time": "2023-03-16T10:06:02.052Z"
   },
   {
    "duration": 18,
    "start_time": "2023-03-16T10:08:42.241Z"
   },
   {
    "duration": 16,
    "start_time": "2023-03-16T10:12:48.395Z"
   },
   {
    "duration": 12,
    "start_time": "2023-03-16T10:12:59.133Z"
   },
   {
    "duration": 17,
    "start_time": "2023-03-16T10:14:14.937Z"
   },
   {
    "duration": 46,
    "start_time": "2023-03-16T10:15:23.697Z"
   },
   {
    "duration": 56,
    "start_time": "2023-03-16T10:18:07.255Z"
   },
   {
    "duration": 72,
    "start_time": "2023-03-16T10:19:57.760Z"
   },
   {
    "duration": 12,
    "start_time": "2023-03-16T10:20:01.918Z"
   },
   {
    "duration": 33,
    "start_time": "2023-03-16T10:21:41.924Z"
   },
   {
    "duration": 21,
    "start_time": "2023-03-16T10:22:07.668Z"
   },
   {
    "duration": 9,
    "start_time": "2023-03-16T10:22:19.736Z"
   },
   {
    "duration": 17,
    "start_time": "2023-03-16T10:22:30.235Z"
   },
   {
    "duration": 22,
    "start_time": "2023-03-16T10:23:45.492Z"
   },
   {
    "duration": 8,
    "start_time": "2023-03-16T10:25:16.308Z"
   },
   {
    "duration": 24,
    "start_time": "2023-03-16T10:25:42.700Z"
   },
   {
    "duration": 30,
    "start_time": "2023-03-16T10:25:51.188Z"
   },
   {
    "duration": 1282,
    "start_time": "2023-03-16T13:21:05.973Z"
   },
   {
    "duration": 3,
    "start_time": "2023-03-16T13:21:18.636Z"
   },
   {
    "duration": 33,
    "start_time": "2023-03-16T13:21:18.641Z"
   },
   {
    "duration": 7,
    "start_time": "2023-03-16T13:21:18.676Z"
   },
   {
    "duration": 9,
    "start_time": "2023-03-16T13:21:18.686Z"
   },
   {
    "duration": 10,
    "start_time": "2023-03-16T13:21:18.698Z"
   },
   {
    "duration": 46,
    "start_time": "2023-03-16T13:21:18.710Z"
   },
   {
    "duration": 14,
    "start_time": "2023-03-16T13:21:18.758Z"
   },
   {
    "duration": 13,
    "start_time": "2023-03-16T13:21:18.773Z"
   },
   {
    "duration": 19,
    "start_time": "2023-03-16T13:21:18.787Z"
   },
   {
    "duration": 10,
    "start_time": "2023-03-16T13:21:18.810Z"
   },
   {
    "duration": 7,
    "start_time": "2023-03-16T13:21:18.822Z"
   },
   {
    "duration": 15,
    "start_time": "2023-03-16T13:21:18.831Z"
   },
   {
    "duration": 10,
    "start_time": "2023-03-16T13:21:18.848Z"
   },
   {
    "duration": 43,
    "start_time": "2023-03-16T13:21:18.860Z"
   },
   {
    "duration": 19,
    "start_time": "2023-03-16T13:21:18.905Z"
   },
   {
    "duration": 13,
    "start_time": "2023-03-16T13:21:18.925Z"
   },
   {
    "duration": 12,
    "start_time": "2023-03-16T13:21:18.939Z"
   },
   {
    "duration": 7,
    "start_time": "2023-03-16T13:21:18.953Z"
   },
   {
    "duration": 13,
    "start_time": "2023-03-16T13:21:18.962Z"
   },
   {
    "duration": 13,
    "start_time": "2023-03-16T13:21:18.993Z"
   },
   {
    "duration": 22,
    "start_time": "2023-03-16T13:21:19.008Z"
   },
   {
    "duration": 33,
    "start_time": "2023-03-16T13:21:19.031Z"
   },
   {
    "duration": 20,
    "start_time": "2023-03-16T13:21:19.066Z"
   },
   {
    "duration": 8,
    "start_time": "2023-03-16T13:21:19.087Z"
   },
   {
    "duration": 18,
    "start_time": "2023-03-16T13:21:19.097Z"
   },
   {
    "duration": 25,
    "start_time": "2023-03-16T13:21:19.117Z"
   },
   {
    "duration": 5,
    "start_time": "2023-03-16T13:21:19.143Z"
   },
   {
    "duration": 30,
    "start_time": "2023-03-16T13:21:19.150Z"
   },
   {
    "duration": 11,
    "start_time": "2023-03-16T13:21:19.182Z"
   },
   {
    "duration": 3,
    "start_time": "2023-03-16T13:21:19.194Z"
   },
   {
    "duration": 44,
    "start_time": "2023-03-16T13:21:19.199Z"
   },
   {
    "duration": 0,
    "start_time": "2023-03-16T13:21:19.244Z"
   },
   {
    "duration": 0,
    "start_time": "2023-03-16T13:21:19.246Z"
   },
   {
    "duration": 0,
    "start_time": "2023-03-16T13:21:19.247Z"
   },
   {
    "duration": 8,
    "start_time": "2023-03-16T13:21:38.826Z"
   },
   {
    "duration": 8,
    "start_time": "2023-03-16T13:22:39.318Z"
   },
   {
    "duration": 3,
    "start_time": "2023-03-16T13:23:24.065Z"
   },
   {
    "duration": 3,
    "start_time": "2023-03-16T13:23:28.388Z"
   },
   {
    "duration": 6,
    "start_time": "2023-03-16T13:23:43.032Z"
   },
   {
    "duration": 9,
    "start_time": "2023-03-16T13:24:05.715Z"
   },
   {
    "duration": 9,
    "start_time": "2023-03-16T13:24:08.546Z"
   },
   {
    "duration": 8,
    "start_time": "2023-03-16T13:30:20.279Z"
   },
   {
    "duration": 11,
    "start_time": "2023-03-16T13:30:25.795Z"
   },
   {
    "duration": 3,
    "start_time": "2023-03-16T13:30:37.132Z"
   },
   {
    "duration": 28,
    "start_time": "2023-03-16T13:30:37.137Z"
   },
   {
    "duration": 8,
    "start_time": "2023-03-16T13:30:37.166Z"
   },
   {
    "duration": 4,
    "start_time": "2023-03-16T13:30:37.176Z"
   },
   {
    "duration": 23,
    "start_time": "2023-03-16T13:30:37.182Z"
   },
   {
    "duration": 40,
    "start_time": "2023-03-16T13:30:37.208Z"
   },
   {
    "duration": 11,
    "start_time": "2023-03-16T13:30:37.250Z"
   },
   {
    "duration": 13,
    "start_time": "2023-03-16T13:30:37.262Z"
   },
   {
    "duration": 11,
    "start_time": "2023-03-16T13:30:37.277Z"
   },
   {
    "duration": 25,
    "start_time": "2023-03-16T13:30:37.292Z"
   },
   {
    "duration": 10,
    "start_time": "2023-03-16T13:30:37.319Z"
   },
   {
    "duration": 17,
    "start_time": "2023-03-16T13:30:37.330Z"
   },
   {
    "duration": 9,
    "start_time": "2023-03-16T13:30:37.349Z"
   },
   {
    "duration": 31,
    "start_time": "2023-03-16T13:30:37.359Z"
   },
   {
    "duration": 6,
    "start_time": "2023-03-16T13:30:37.393Z"
   },
   {
    "duration": 24,
    "start_time": "2023-03-16T13:30:37.402Z"
   },
   {
    "duration": 7,
    "start_time": "2023-03-16T13:30:37.427Z"
   },
   {
    "duration": 9,
    "start_time": "2023-03-16T13:30:37.436Z"
   },
   {
    "duration": 9,
    "start_time": "2023-03-16T13:30:37.446Z"
   },
   {
    "duration": 47,
    "start_time": "2023-03-16T13:30:37.457Z"
   },
   {
    "duration": 19,
    "start_time": "2023-03-16T13:30:37.507Z"
   },
   {
    "duration": 13,
    "start_time": "2023-03-16T13:30:37.527Z"
   },
   {
    "duration": 12,
    "start_time": "2023-03-16T13:30:37.541Z"
   },
   {
    "duration": 35,
    "start_time": "2023-03-16T13:30:37.555Z"
   },
   {
    "duration": 21,
    "start_time": "2023-03-16T13:30:37.592Z"
   },
   {
    "duration": 24,
    "start_time": "2023-03-16T13:30:37.615Z"
   },
   {
    "duration": 5,
    "start_time": "2023-03-16T13:30:37.641Z"
   },
   {
    "duration": 20,
    "start_time": "2023-03-16T13:30:37.649Z"
   },
   {
    "duration": 35,
    "start_time": "2023-03-16T13:30:37.670Z"
   },
   {
    "duration": 7,
    "start_time": "2023-03-16T13:30:37.710Z"
   },
   {
    "duration": 26,
    "start_time": "2023-03-16T13:30:37.719Z"
   },
   {
    "duration": 0,
    "start_time": "2023-03-16T13:30:37.748Z"
   },
   {
    "duration": 0,
    "start_time": "2023-03-16T13:30:37.749Z"
   },
   {
    "duration": 0,
    "start_time": "2023-03-16T13:30:37.750Z"
   },
   {
    "duration": 29,
    "start_time": "2023-03-16T14:24:38.569Z"
   },
   {
    "duration": 285,
    "start_time": "2023-03-16T14:28:50.681Z"
   },
   {
    "duration": 287,
    "start_time": "2023-03-16T14:29:12.250Z"
   },
   {
    "duration": 244,
    "start_time": "2023-03-16T14:39:01.115Z"
   },
   {
    "duration": 156,
    "start_time": "2023-03-16T14:39:05.935Z"
   },
   {
    "duration": 84,
    "start_time": "2023-03-16T14:39:20.858Z"
   },
   {
    "duration": 146,
    "start_time": "2023-03-16T14:39:27.844Z"
   },
   {
    "duration": 181,
    "start_time": "2023-03-16T14:39:51.498Z"
   },
   {
    "duration": 241,
    "start_time": "2023-03-16T14:40:57.898Z"
   },
   {
    "duration": 206,
    "start_time": "2023-03-16T14:42:06.874Z"
   },
   {
    "duration": 196,
    "start_time": "2023-03-16T14:42:25.976Z"
   },
   {
    "duration": 1385,
    "start_time": "2023-03-16T14:43:11.192Z"
   },
   {
    "duration": 6,
    "start_time": "2023-03-16T14:43:17.449Z"
   },
   {
    "duration": 5,
    "start_time": "2023-03-16T14:43:31.063Z"
   },
   {
    "duration": 200,
    "start_time": "2023-03-16T14:43:59.527Z"
   },
   {
    "duration": 192,
    "start_time": "2023-03-16T14:44:08.049Z"
   },
   {
    "duration": 189,
    "start_time": "2023-03-16T14:45:25.865Z"
   },
   {
    "duration": 255,
    "start_time": "2023-03-16T14:45:34.489Z"
   },
   {
    "duration": 401,
    "start_time": "2023-03-16T14:46:33.932Z"
   },
   {
    "duration": 251,
    "start_time": "2023-03-16T14:46:47.122Z"
   },
   {
    "duration": 175,
    "start_time": "2023-03-16T14:46:54.529Z"
   },
   {
    "duration": 285,
    "start_time": "2023-03-16T14:47:06.408Z"
   },
   {
    "duration": 412,
    "start_time": "2023-03-16T14:47:16.185Z"
   },
   {
    "duration": 331,
    "start_time": "2023-03-16T14:52:58.691Z"
   },
   {
    "duration": 766,
    "start_time": "2023-03-16T14:53:07.585Z"
   },
   {
    "duration": 285,
    "start_time": "2023-03-16T14:53:11.325Z"
   },
   {
    "duration": 334,
    "start_time": "2023-03-16T14:53:17.688Z"
   },
   {
    "duration": 215,
    "start_time": "2023-03-16T14:53:32.958Z"
   },
   {
    "duration": 270,
    "start_time": "2023-03-16T14:59:12.316Z"
   },
   {
    "duration": 290,
    "start_time": "2023-03-16T14:59:22.983Z"
   },
   {
    "duration": 282,
    "start_time": "2023-03-16T14:59:28.452Z"
   },
   {
    "duration": 255,
    "start_time": "2023-03-16T14:59:38.359Z"
   },
   {
    "duration": 242,
    "start_time": "2023-03-16T14:59:50.795Z"
   },
   {
    "duration": 253,
    "start_time": "2023-03-16T14:59:56.014Z"
   },
   {
    "duration": 349,
    "start_time": "2023-03-16T15:00:31.584Z"
   },
   {
    "duration": 308,
    "start_time": "2023-03-16T17:04:13.373Z"
   },
   {
    "duration": 314,
    "start_time": "2023-03-16T17:04:26.467Z"
   },
   {
    "duration": 7,
    "start_time": "2023-03-16T17:28:38.671Z"
   },
   {
    "duration": 15,
    "start_time": "2023-03-16T17:28:45.671Z"
   },
   {
    "duration": 6,
    "start_time": "2023-03-16T17:29:06.893Z"
   },
   {
    "duration": 13,
    "start_time": "2023-03-16T17:29:08.833Z"
   },
   {
    "duration": 14,
    "start_time": "2023-03-16T18:00:36.084Z"
   },
   {
    "duration": 11,
    "start_time": "2023-03-16T18:01:18.642Z"
   },
   {
    "duration": 126,
    "start_time": "2023-03-16T18:02:01.162Z"
   },
   {
    "duration": 5,
    "start_time": "2023-03-16T18:02:45.615Z"
   },
   {
    "duration": 4,
    "start_time": "2023-03-16T18:03:03.000Z"
   },
   {
    "duration": 127,
    "start_time": "2023-03-16T18:03:46.153Z"
   },
   {
    "duration": 118,
    "start_time": "2023-03-16T18:04:50.365Z"
   },
   {
    "duration": 5,
    "start_time": "2023-03-16T18:06:53.179Z"
   },
   {
    "duration": 4,
    "start_time": "2023-03-16T18:06:59.593Z"
   },
   {
    "duration": 4,
    "start_time": "2023-03-16T18:07:04.801Z"
   },
   {
    "duration": 14,
    "start_time": "2023-03-16T18:12:48.548Z"
   },
   {
    "duration": 1353,
    "start_time": "2023-03-16T18:13:31.698Z"
   },
   {
    "duration": 10,
    "start_time": "2023-03-16T18:19:18.528Z"
   },
   {
    "duration": 107,
    "start_time": "2023-03-16T18:20:01.894Z"
   },
   {
    "duration": 142,
    "start_time": "2023-03-16T18:21:34.693Z"
   },
   {
    "duration": 218,
    "start_time": "2023-03-16T18:22:38.246Z"
   },
   {
    "duration": 219,
    "start_time": "2023-03-16T18:22:50.592Z"
   },
   {
    "duration": 165,
    "start_time": "2023-03-16T18:25:14.270Z"
   },
   {
    "duration": 579,
    "start_time": "2023-03-16T18:25:47.381Z"
   },
   {
    "duration": 189,
    "start_time": "2023-03-16T18:25:53.696Z"
   },
   {
    "duration": 11,
    "start_time": "2023-03-16T18:26:41.773Z"
   },
   {
    "duration": 354,
    "start_time": "2023-03-16T18:34:39.369Z"
   },
   {
    "duration": 4,
    "start_time": "2023-03-16T18:38:24.016Z"
   },
   {
    "duration": 29,
    "start_time": "2023-03-16T18:38:24.023Z"
   },
   {
    "duration": 8,
    "start_time": "2023-03-16T18:38:24.054Z"
   },
   {
    "duration": 344,
    "start_time": "2023-03-16T18:38:24.065Z"
   },
   {
    "duration": 0,
    "start_time": "2023-03-16T18:38:24.413Z"
   },
   {
    "duration": 0,
    "start_time": "2023-03-16T18:38:24.414Z"
   },
   {
    "duration": 0,
    "start_time": "2023-03-16T18:38:24.416Z"
   },
   {
    "duration": 0,
    "start_time": "2023-03-16T18:38:24.417Z"
   },
   {
    "duration": 0,
    "start_time": "2023-03-16T18:38:24.430Z"
   },
   {
    "duration": 0,
    "start_time": "2023-03-16T18:38:24.431Z"
   },
   {
    "duration": 0,
    "start_time": "2023-03-16T18:38:24.433Z"
   },
   {
    "duration": 0,
    "start_time": "2023-03-16T18:38:24.434Z"
   },
   {
    "duration": 0,
    "start_time": "2023-03-16T18:38:24.435Z"
   },
   {
    "duration": 0,
    "start_time": "2023-03-16T18:38:24.437Z"
   },
   {
    "duration": 0,
    "start_time": "2023-03-16T18:38:24.438Z"
   },
   {
    "duration": 0,
    "start_time": "2023-03-16T18:38:24.439Z"
   },
   {
    "duration": 0,
    "start_time": "2023-03-16T18:38:24.444Z"
   },
   {
    "duration": 0,
    "start_time": "2023-03-16T18:38:24.445Z"
   },
   {
    "duration": 0,
    "start_time": "2023-03-16T18:38:24.446Z"
   },
   {
    "duration": 0,
    "start_time": "2023-03-16T18:38:24.449Z"
   },
   {
    "duration": 0,
    "start_time": "2023-03-16T18:38:24.450Z"
   },
   {
    "duration": 0,
    "start_time": "2023-03-16T18:38:24.452Z"
   },
   {
    "duration": 0,
    "start_time": "2023-03-16T18:38:24.454Z"
   },
   {
    "duration": 0,
    "start_time": "2023-03-16T18:38:24.457Z"
   },
   {
    "duration": 0,
    "start_time": "2023-03-16T18:38:24.458Z"
   },
   {
    "duration": 0,
    "start_time": "2023-03-16T18:38:24.459Z"
   },
   {
    "duration": 0,
    "start_time": "2023-03-16T18:38:24.460Z"
   },
   {
    "duration": 0,
    "start_time": "2023-03-16T18:38:24.462Z"
   },
   {
    "duration": 0,
    "start_time": "2023-03-16T18:38:24.492Z"
   },
   {
    "duration": 0,
    "start_time": "2023-03-16T18:38:24.494Z"
   },
   {
    "duration": 0,
    "start_time": "2023-03-16T18:38:24.495Z"
   },
   {
    "duration": 0,
    "start_time": "2023-03-16T18:38:24.498Z"
   },
   {
    "duration": 0,
    "start_time": "2023-03-16T18:38:24.500Z"
   },
   {
    "duration": 0,
    "start_time": "2023-03-16T18:38:24.501Z"
   },
   {
    "duration": 0,
    "start_time": "2023-03-16T18:38:24.503Z"
   },
   {
    "duration": 0,
    "start_time": "2023-03-16T18:38:24.505Z"
   },
   {
    "duration": 0,
    "start_time": "2023-03-16T18:38:24.506Z"
   },
   {
    "duration": 0,
    "start_time": "2023-03-16T18:38:24.508Z"
   },
   {
    "duration": 0,
    "start_time": "2023-03-16T18:38:24.510Z"
   },
   {
    "duration": 0,
    "start_time": "2023-03-16T18:38:24.512Z"
   },
   {
    "duration": 0,
    "start_time": "2023-03-16T18:38:24.513Z"
   },
   {
    "duration": 0,
    "start_time": "2023-03-16T18:38:24.514Z"
   },
   {
    "duration": 0,
    "start_time": "2023-03-16T18:38:24.516Z"
   },
   {
    "duration": 0,
    "start_time": "2023-03-16T18:38:24.517Z"
   },
   {
    "duration": 0,
    "start_time": "2023-03-16T18:38:24.518Z"
   },
   {
    "duration": 0,
    "start_time": "2023-03-16T18:38:24.520Z"
   },
   {
    "duration": 0,
    "start_time": "2023-03-16T18:38:24.522Z"
   },
   {
    "duration": 0,
    "start_time": "2023-03-16T18:38:24.523Z"
   },
   {
    "duration": 0,
    "start_time": "2023-03-16T18:38:24.524Z"
   },
   {
    "duration": 0,
    "start_time": "2023-03-16T18:38:24.525Z"
   },
   {
    "duration": 0,
    "start_time": "2023-03-16T18:38:24.526Z"
   },
   {
    "duration": 0,
    "start_time": "2023-03-16T18:38:24.527Z"
   },
   {
    "duration": 3,
    "start_time": "2023-03-16T18:38:49.697Z"
   },
   {
    "duration": 12,
    "start_time": "2023-03-16T18:38:51.334Z"
   },
   {
    "duration": 4,
    "start_time": "2023-03-16T18:38:55.982Z"
   },
   {
    "duration": 29,
    "start_time": "2023-03-16T18:38:55.989Z"
   },
   {
    "duration": 8,
    "start_time": "2023-03-16T18:38:56.019Z"
   },
   {
    "duration": 6,
    "start_time": "2023-03-16T18:38:56.029Z"
   },
   {
    "duration": 12,
    "start_time": "2023-03-16T18:38:56.036Z"
   },
   {
    "duration": 42,
    "start_time": "2023-03-16T18:38:56.050Z"
   },
   {
    "duration": 20,
    "start_time": "2023-03-16T18:38:56.094Z"
   },
   {
    "duration": 13,
    "start_time": "2023-03-16T18:38:56.116Z"
   },
   {
    "duration": 14,
    "start_time": "2023-03-16T18:38:56.131Z"
   },
   {
    "duration": 13,
    "start_time": "2023-03-16T18:38:56.149Z"
   },
   {
    "duration": 12,
    "start_time": "2023-03-16T18:38:56.190Z"
   },
   {
    "duration": 16,
    "start_time": "2023-03-16T18:38:56.204Z"
   },
   {
    "duration": 18,
    "start_time": "2023-03-16T18:38:56.222Z"
   },
   {
    "duration": 30,
    "start_time": "2023-03-16T18:38:56.242Z"
   },
   {
    "duration": 16,
    "start_time": "2023-03-16T18:38:56.274Z"
   },
   {
    "duration": 25,
    "start_time": "2023-03-16T18:38:56.292Z"
   },
   {
    "duration": 20,
    "start_time": "2023-03-16T18:38:56.319Z"
   },
   {
    "duration": 29,
    "start_time": "2023-03-16T18:38:56.341Z"
   },
   {
    "duration": 31,
    "start_time": "2023-03-16T18:38:56.373Z"
   },
   {
    "duration": 1185,
    "start_time": "2023-03-16T18:38:56.407Z"
   },
   {
    "duration": 0,
    "start_time": "2023-03-16T18:38:57.594Z"
   },
   {
    "duration": 0,
    "start_time": "2023-03-16T18:38:57.595Z"
   },
   {
    "duration": 0,
    "start_time": "2023-03-16T18:38:57.596Z"
   },
   {
    "duration": 0,
    "start_time": "2023-03-16T18:38:57.597Z"
   },
   {
    "duration": 0,
    "start_time": "2023-03-16T18:38:57.599Z"
   },
   {
    "duration": 0,
    "start_time": "2023-03-16T18:38:57.601Z"
   },
   {
    "duration": 0,
    "start_time": "2023-03-16T18:38:57.602Z"
   },
   {
    "duration": 0,
    "start_time": "2023-03-16T18:38:57.603Z"
   },
   {
    "duration": 0,
    "start_time": "2023-03-16T18:38:57.604Z"
   },
   {
    "duration": 0,
    "start_time": "2023-03-16T18:38:57.605Z"
   },
   {
    "duration": 0,
    "start_time": "2023-03-16T18:38:57.606Z"
   },
   {
    "duration": 0,
    "start_time": "2023-03-16T18:38:57.608Z"
   },
   {
    "duration": 0,
    "start_time": "2023-03-16T18:38:57.609Z"
   },
   {
    "duration": 0,
    "start_time": "2023-03-16T18:38:57.610Z"
   },
   {
    "duration": 0,
    "start_time": "2023-03-16T18:38:57.611Z"
   },
   {
    "duration": 0,
    "start_time": "2023-03-16T18:38:57.613Z"
   },
   {
    "duration": 0,
    "start_time": "2023-03-16T18:38:57.614Z"
   },
   {
    "duration": 0,
    "start_time": "2023-03-16T18:38:57.615Z"
   },
   {
    "duration": 0,
    "start_time": "2023-03-16T18:38:57.615Z"
   },
   {
    "duration": 0,
    "start_time": "2023-03-16T18:38:57.616Z"
   },
   {
    "duration": 0,
    "start_time": "2023-03-16T18:38:57.618Z"
   },
   {
    "duration": 0,
    "start_time": "2023-03-16T18:38:57.619Z"
   },
   {
    "duration": 0,
    "start_time": "2023-03-16T18:38:57.620Z"
   },
   {
    "duration": 0,
    "start_time": "2023-03-16T18:38:57.621Z"
   },
   {
    "duration": 0,
    "start_time": "2023-03-16T18:38:57.622Z"
   },
   {
    "duration": 0,
    "start_time": "2023-03-16T18:38:57.625Z"
   },
   {
    "duration": 0,
    "start_time": "2023-03-16T18:38:57.626Z"
   },
   {
    "duration": 0,
    "start_time": "2023-03-16T18:38:57.627Z"
   },
   {
    "duration": 0,
    "start_time": "2023-03-16T18:38:57.629Z"
   },
   {
    "duration": 0,
    "start_time": "2023-03-16T18:38:57.691Z"
   },
   {
    "duration": 0,
    "start_time": "2023-03-16T18:38:57.692Z"
   },
   {
    "duration": 0,
    "start_time": "2023-03-16T18:38:57.693Z"
   },
   {
    "duration": 8,
    "start_time": "2023-03-16T18:39:53.162Z"
   },
   {
    "duration": 14,
    "start_time": "2023-03-16T18:40:09.784Z"
   },
   {
    "duration": 9,
    "start_time": "2023-03-16T18:40:24.209Z"
   },
   {
    "duration": 4,
    "start_time": "2023-03-16T18:40:30.504Z"
   },
   {
    "duration": 49,
    "start_time": "2023-03-16T18:40:30.510Z"
   },
   {
    "duration": 14,
    "start_time": "2023-03-16T18:40:30.560Z"
   },
   {
    "duration": 33,
    "start_time": "2023-03-16T18:40:30.576Z"
   },
   {
    "duration": 34,
    "start_time": "2023-03-16T18:40:30.611Z"
   },
   {
    "duration": 72,
    "start_time": "2023-03-16T18:40:30.647Z"
   },
   {
    "duration": 15,
    "start_time": "2023-03-16T18:40:30.721Z"
   },
   {
    "duration": 31,
    "start_time": "2023-03-16T18:40:30.738Z"
   },
   {
    "duration": 42,
    "start_time": "2023-03-16T18:40:30.770Z"
   },
   {
    "duration": 33,
    "start_time": "2023-03-16T18:40:30.814Z"
   },
   {
    "duration": 32,
    "start_time": "2023-03-16T18:40:30.849Z"
   },
   {
    "duration": 21,
    "start_time": "2023-03-16T18:40:30.883Z"
   },
   {
    "duration": 19,
    "start_time": "2023-03-16T18:40:30.906Z"
   },
   {
    "duration": 31,
    "start_time": "2023-03-16T18:40:30.929Z"
   },
   {
    "duration": 38,
    "start_time": "2023-03-16T18:40:30.962Z"
   },
   {
    "duration": 56,
    "start_time": "2023-03-16T18:40:31.002Z"
   },
   {
    "duration": 60,
    "start_time": "2023-03-16T18:40:31.059Z"
   },
   {
    "duration": 23,
    "start_time": "2023-03-16T18:40:31.121Z"
   },
   {
    "duration": 37,
    "start_time": "2023-03-16T18:40:31.147Z"
   },
   {
    "duration": 24,
    "start_time": "2023-03-16T18:40:31.186Z"
   },
   {
    "duration": 32,
    "start_time": "2023-03-16T18:40:31.212Z"
   },
   {
    "duration": 42,
    "start_time": "2023-03-16T18:40:31.246Z"
   },
   {
    "duration": 39,
    "start_time": "2023-03-16T18:40:31.290Z"
   },
   {
    "duration": 24,
    "start_time": "2023-03-16T18:40:31.330Z"
   },
   {
    "duration": 33,
    "start_time": "2023-03-16T18:40:31.356Z"
   },
   {
    "duration": 30,
    "start_time": "2023-03-16T18:40:31.391Z"
   },
   {
    "duration": 9,
    "start_time": "2023-03-16T18:40:31.423Z"
   },
   {
    "duration": 36,
    "start_time": "2023-03-16T18:40:31.434Z"
   },
   {
    "duration": 13,
    "start_time": "2023-03-16T18:40:31.472Z"
   },
   {
    "duration": 29,
    "start_time": "2023-03-16T18:40:31.488Z"
   },
   {
    "duration": 323,
    "start_time": "2023-03-16T18:40:31.520Z"
   },
   {
    "duration": 6,
    "start_time": "2023-03-16T18:40:31.845Z"
   },
   {
    "duration": 233,
    "start_time": "2023-03-16T18:40:31.853Z"
   },
   {
    "duration": 234,
    "start_time": "2023-03-16T18:40:32.089Z"
   },
   {
    "duration": 318,
    "start_time": "2023-03-16T18:40:32.325Z"
   },
   {
    "duration": 8,
    "start_time": "2023-03-16T18:40:32.646Z"
   },
   {
    "duration": 34,
    "start_time": "2023-03-16T18:40:32.657Z"
   },
   {
    "duration": 276,
    "start_time": "2023-03-16T18:40:32.693Z"
   },
   {
    "duration": 268,
    "start_time": "2023-03-16T18:40:32.971Z"
   },
   {
    "duration": 342,
    "start_time": "2023-03-16T18:40:33.241Z"
   },
   {
    "duration": 0,
    "start_time": "2023-03-16T18:40:33.589Z"
   },
   {
    "duration": 0,
    "start_time": "2023-03-16T18:40:33.591Z"
   },
   {
    "duration": 0,
    "start_time": "2023-03-16T18:40:33.592Z"
   },
   {
    "duration": 0,
    "start_time": "2023-03-16T18:40:33.593Z"
   },
   {
    "duration": 0,
    "start_time": "2023-03-16T18:40:33.595Z"
   },
   {
    "duration": 0,
    "start_time": "2023-03-16T18:40:33.596Z"
   },
   {
    "duration": 0,
    "start_time": "2023-03-16T18:40:33.597Z"
   },
   {
    "duration": 0,
    "start_time": "2023-03-16T18:40:33.598Z"
   },
   {
    "duration": 0,
    "start_time": "2023-03-16T18:40:33.599Z"
   },
   {
    "duration": 0,
    "start_time": "2023-03-16T18:40:33.600Z"
   },
   {
    "duration": 0,
    "start_time": "2023-03-16T18:40:33.601Z"
   },
   {
    "duration": 0,
    "start_time": "2023-03-16T18:40:33.603Z"
   },
   {
    "duration": 396,
    "start_time": "2023-03-16T18:41:17.245Z"
   },
   {
    "duration": 329,
    "start_time": "2023-03-16T18:41:51.754Z"
   },
   {
    "duration": 4,
    "start_time": "2023-03-16T18:43:15.554Z"
   },
   {
    "duration": 37,
    "start_time": "2023-03-16T18:43:15.560Z"
   },
   {
    "duration": 18,
    "start_time": "2023-03-16T18:43:15.599Z"
   },
   {
    "duration": 22,
    "start_time": "2023-03-16T18:43:15.620Z"
   },
   {
    "duration": 17,
    "start_time": "2023-03-16T18:43:15.645Z"
   },
   {
    "duration": 45,
    "start_time": "2023-03-16T18:43:15.665Z"
   },
   {
    "duration": 18,
    "start_time": "2023-03-16T18:43:15.713Z"
   },
   {
    "duration": 18,
    "start_time": "2023-03-16T18:43:15.733Z"
   },
   {
    "duration": 25,
    "start_time": "2023-03-16T18:43:15.753Z"
   },
   {
    "duration": 32,
    "start_time": "2023-03-16T18:43:15.780Z"
   },
   {
    "duration": 24,
    "start_time": "2023-03-16T18:43:15.815Z"
   },
   {
    "duration": 21,
    "start_time": "2023-03-16T18:43:15.841Z"
   },
   {
    "duration": 10,
    "start_time": "2023-03-16T18:43:15.864Z"
   },
   {
    "duration": 12,
    "start_time": "2023-03-16T18:43:15.880Z"
   },
   {
    "duration": 30,
    "start_time": "2023-03-16T18:43:15.894Z"
   },
   {
    "duration": 18,
    "start_time": "2023-03-16T18:43:15.926Z"
   },
   {
    "duration": 13,
    "start_time": "2023-03-16T18:43:15.946Z"
   },
   {
    "duration": 9,
    "start_time": "2023-03-16T18:43:15.962Z"
   },
   {
    "duration": 14,
    "start_time": "2023-03-16T18:43:15.973Z"
   },
   {
    "duration": 16,
    "start_time": "2023-03-16T18:43:15.991Z"
   },
   {
    "duration": 19,
    "start_time": "2023-03-16T18:43:16.010Z"
   },
   {
    "duration": 21,
    "start_time": "2023-03-16T18:43:16.031Z"
   },
   {
    "duration": 13,
    "start_time": "2023-03-16T18:43:16.054Z"
   },
   {
    "duration": 10,
    "start_time": "2023-03-16T18:43:16.069Z"
   },
   {
    "duration": 8,
    "start_time": "2023-03-16T18:43:16.091Z"
   },
   {
    "duration": 44,
    "start_time": "2023-03-16T18:43:16.101Z"
   },
   {
    "duration": 7,
    "start_time": "2023-03-16T18:43:16.148Z"
   },
   {
    "duration": 28,
    "start_time": "2023-03-16T18:43:16.157Z"
   },
   {
    "duration": 11,
    "start_time": "2023-03-16T18:43:16.187Z"
   },
   {
    "duration": 8,
    "start_time": "2023-03-16T18:43:16.200Z"
   },
   {
    "duration": 391,
    "start_time": "2023-03-16T18:43:16.210Z"
   },
   {
    "duration": 10,
    "start_time": "2023-03-16T18:43:16.604Z"
   },
   {
    "duration": 352,
    "start_time": "2023-03-16T18:43:16.616Z"
   },
   {
    "duration": 245,
    "start_time": "2023-03-16T18:43:16.970Z"
   },
   {
    "duration": 541,
    "start_time": "2023-03-16T18:43:17.217Z"
   },
   {
    "duration": 9,
    "start_time": "2023-03-16T18:43:17.760Z"
   },
   {
    "duration": 27,
    "start_time": "2023-03-16T18:43:17.771Z"
   },
   {
    "duration": 210,
    "start_time": "2023-03-16T18:43:17.801Z"
   },
   {
    "duration": 296,
    "start_time": "2023-03-16T18:43:18.013Z"
   },
   {
    "duration": 360,
    "start_time": "2023-03-16T18:43:18.311Z"
   },
   {
    "duration": 23,
    "start_time": "2023-03-16T18:43:18.676Z"
   },
   {
    "duration": 146,
    "start_time": "2023-03-16T18:43:18.701Z"
   },
   {
    "duration": 15,
    "start_time": "2023-03-16T18:43:18.849Z"
   },
   {
    "duration": 25,
    "start_time": "2023-03-16T18:43:18.866Z"
   },
   {
    "duration": 166,
    "start_time": "2023-03-16T18:43:18.893Z"
   },
   {
    "duration": 5,
    "start_time": "2023-03-16T18:43:19.062Z"
   },
   {
    "duration": 8,
    "start_time": "2023-03-16T18:43:19.069Z"
   },
   {
    "duration": 16,
    "start_time": "2023-03-16T18:43:19.089Z"
   },
   {
    "duration": 16,
    "start_time": "2023-03-16T18:43:19.107Z"
   },
   {
    "duration": 319,
    "start_time": "2023-03-16T18:43:19.126Z"
   },
   {
    "duration": 262,
    "start_time": "2023-03-16T18:43:19.448Z"
   },
   {
    "duration": 11,
    "start_time": "2023-03-16T18:43:19.712Z"
   },
   {
    "duration": 1457,
    "start_time": "2023-03-16T18:48:21.786Z"
   },
   {
    "duration": 1288,
    "start_time": "2023-03-16T18:48:49.402Z"
   },
   {
    "duration": 1313,
    "start_time": "2023-03-16T18:49:16.990Z"
   },
   {
    "duration": 11,
    "start_time": "2023-03-16T18:53:31.184Z"
   },
   {
    "duration": 9,
    "start_time": "2023-03-16T18:53:34.799Z"
   },
   {
    "duration": 40,
    "start_time": "2023-03-16T18:53:37.782Z"
   },
   {
    "duration": 1123,
    "start_time": "2023-03-16T18:54:11.669Z"
   },
   {
    "duration": 16,
    "start_time": "2023-03-16T18:54:29.980Z"
   },
   {
    "duration": 1454,
    "start_time": "2023-03-17T07:25:28.630Z"
   },
   {
    "duration": 97,
    "start_time": "2023-03-17T07:25:30.086Z"
   },
   {
    "duration": 19,
    "start_time": "2023-03-17T07:25:30.184Z"
   },
   {
    "duration": 22,
    "start_time": "2023-03-17T07:25:30.206Z"
   },
   {
    "duration": 60,
    "start_time": "2023-03-17T07:25:30.230Z"
   },
   {
    "duration": 167,
    "start_time": "2023-03-17T07:25:30.292Z"
   },
   {
    "duration": 12,
    "start_time": "2023-03-17T07:25:30.461Z"
   },
   {
    "duration": 34,
    "start_time": "2023-03-17T07:25:30.475Z"
   },
   {
    "duration": 71,
    "start_time": "2023-03-17T07:25:30.511Z"
   },
   {
    "duration": 33,
    "start_time": "2023-03-17T07:25:30.585Z"
   },
   {
    "duration": 60,
    "start_time": "2023-03-17T07:25:30.620Z"
   },
   {
    "duration": 113,
    "start_time": "2023-03-17T07:25:30.681Z"
   },
   {
    "duration": 11,
    "start_time": "2023-03-17T07:25:30.795Z"
   },
   {
    "duration": 65,
    "start_time": "2023-03-17T07:25:30.807Z"
   },
   {
    "duration": 29,
    "start_time": "2023-03-17T07:25:30.874Z"
   },
   {
    "duration": 70,
    "start_time": "2023-03-17T07:25:30.905Z"
   },
   {
    "duration": 44,
    "start_time": "2023-03-17T07:25:30.976Z"
   },
   {
    "duration": 50,
    "start_time": "2023-03-17T07:25:31.022Z"
   },
   {
    "duration": 19,
    "start_time": "2023-03-17T07:25:31.074Z"
   },
   {
    "duration": 25,
    "start_time": "2023-03-17T07:25:31.095Z"
   },
   {
    "duration": 44,
    "start_time": "2023-03-17T07:25:31.122Z"
   },
   {
    "duration": 47,
    "start_time": "2023-03-17T07:25:31.168Z"
   },
   {
    "duration": 52,
    "start_time": "2023-03-17T07:25:31.216Z"
   },
   {
    "duration": 15,
    "start_time": "2023-03-17T07:25:31.270Z"
   },
   {
    "duration": 16,
    "start_time": "2023-03-17T07:25:31.287Z"
   },
   {
    "duration": 54,
    "start_time": "2023-03-17T07:25:31.305Z"
   },
   {
    "duration": 24,
    "start_time": "2023-03-17T07:25:31.362Z"
   },
   {
    "duration": 57,
    "start_time": "2023-03-17T07:25:31.392Z"
   },
   {
    "duration": 29,
    "start_time": "2023-03-17T07:25:31.455Z"
   },
   {
    "duration": 15,
    "start_time": "2023-03-17T07:25:31.486Z"
   },
   {
    "duration": 380,
    "start_time": "2023-03-17T07:25:31.503Z"
   },
   {
    "duration": 6,
    "start_time": "2023-03-17T07:25:31.884Z"
   },
   {
    "duration": 391,
    "start_time": "2023-03-17T07:25:31.892Z"
   },
   {
    "duration": 271,
    "start_time": "2023-03-17T07:25:32.286Z"
   },
   {
    "duration": 415,
    "start_time": "2023-03-17T07:25:32.559Z"
   },
   {
    "duration": 6,
    "start_time": "2023-03-17T07:25:32.976Z"
   },
   {
    "duration": 24,
    "start_time": "2023-03-17T07:25:32.984Z"
   },
   {
    "duration": 231,
    "start_time": "2023-03-17T07:25:33.009Z"
   },
   {
    "duration": 336,
    "start_time": "2023-03-17T07:25:33.243Z"
   },
   {
    "duration": 333,
    "start_time": "2023-03-17T07:25:33.581Z"
   },
   {
    "duration": 25,
    "start_time": "2023-03-17T07:25:33.916Z"
   },
   {
    "duration": 175,
    "start_time": "2023-03-17T07:25:33.944Z"
   },
   {
    "duration": 36,
    "start_time": "2023-03-17T07:25:34.121Z"
   },
   {
    "duration": 16,
    "start_time": "2023-03-17T07:25:34.160Z"
   },
   {
    "duration": 145,
    "start_time": "2023-03-17T07:25:34.178Z"
   },
   {
    "duration": 33,
    "start_time": "2023-03-17T07:25:34.325Z"
   },
   {
    "duration": 14,
    "start_time": "2023-03-17T07:25:34.360Z"
   },
   {
    "duration": 16,
    "start_time": "2023-03-17T07:25:34.376Z"
   },
   {
    "duration": 25,
    "start_time": "2023-03-17T07:25:34.394Z"
   },
   {
    "duration": 352,
    "start_time": "2023-03-17T07:25:34.421Z"
   },
   {
    "duration": 207,
    "start_time": "2023-03-17T07:25:34.775Z"
   },
   {
    "duration": 10,
    "start_time": "2023-03-17T07:25:34.984Z"
   },
   {
    "duration": 12,
    "start_time": "2023-03-17T07:25:34.996Z"
   },
   {
    "duration": 41,
    "start_time": "2023-03-17T07:25:35.010Z"
   },
   {
    "duration": 55,
    "start_time": "2023-03-17T07:25:35.061Z"
   },
   {
    "duration": 20,
    "start_time": "2023-03-17T07:25:35.118Z"
   },
   {
    "duration": 9,
    "start_time": "2023-03-17T07:28:47.672Z"
   },
   {
    "duration": 7,
    "start_time": "2023-03-17T07:31:00.558Z"
   },
   {
    "duration": 3,
    "start_time": "2023-03-17T07:31:19.411Z"
   },
   {
    "duration": 3,
    "start_time": "2023-03-17T07:34:00.919Z"
   },
   {
    "duration": 12,
    "start_time": "2023-03-17T07:34:10.098Z"
   },
   {
    "duration": 249,
    "start_time": "2023-03-17T08:08:30.680Z"
   },
   {
    "duration": 395,
    "start_time": "2023-03-17T08:09:18.405Z"
   },
   {
    "duration": 225,
    "start_time": "2023-03-17T08:09:41.259Z"
   },
   {
    "duration": 240,
    "start_time": "2023-03-17T08:09:59.774Z"
   },
   {
    "duration": 296,
    "start_time": "2023-03-17T08:10:12.270Z"
   },
   {
    "duration": 316,
    "start_time": "2023-03-17T08:32:38.207Z"
   },
   {
    "duration": 352,
    "start_time": "2023-03-17T08:32:58.000Z"
   },
   {
    "duration": 85,
    "start_time": "2023-03-17T08:47:21.112Z"
   },
   {
    "duration": 75,
    "start_time": "2023-03-17T09:31:17.079Z"
   },
   {
    "duration": 227,
    "start_time": "2023-03-17T09:37:13.154Z"
   },
   {
    "duration": 216,
    "start_time": "2023-03-17T14:26:19.996Z"
   },
   {
    "duration": 244,
    "start_time": "2023-03-17T14:30:22.262Z"
   },
   {
    "duration": 268,
    "start_time": "2023-03-17T14:30:36.807Z"
   },
   {
    "duration": 260,
    "start_time": "2023-03-17T14:32:37.838Z"
   },
   {
    "duration": 194,
    "start_time": "2023-03-17T15:01:33.812Z"
   },
   {
    "duration": 15,
    "start_time": "2023-03-17T16:05:01.155Z"
   },
   {
    "duration": 5,
    "start_time": "2023-03-17T16:05:29.824Z"
   },
   {
    "duration": 19,
    "start_time": "2023-03-17T16:05:34.577Z"
   },
   {
    "duration": 7,
    "start_time": "2023-03-17T16:07:46.887Z"
   },
   {
    "duration": 7,
    "start_time": "2023-03-17T16:10:20.799Z"
   },
   {
    "duration": 6,
    "start_time": "2023-03-17T16:10:33.438Z"
   },
   {
    "duration": 4,
    "start_time": "2023-03-17T16:10:45.065Z"
   },
   {
    "duration": 72,
    "start_time": "2023-03-17T16:10:45.072Z"
   },
   {
    "duration": 11,
    "start_time": "2023-03-17T16:10:45.146Z"
   },
   {
    "duration": 7,
    "start_time": "2023-03-17T16:10:45.160Z"
   },
   {
    "duration": 17,
    "start_time": "2023-03-17T16:10:45.168Z"
   },
   {
    "duration": 87,
    "start_time": "2023-03-17T16:10:45.187Z"
   },
   {
    "duration": 19,
    "start_time": "2023-03-17T16:10:45.276Z"
   },
   {
    "duration": 12,
    "start_time": "2023-03-17T16:10:45.297Z"
   },
   {
    "duration": 14,
    "start_time": "2023-03-17T16:10:45.312Z"
   },
   {
    "duration": 111,
    "start_time": "2023-03-17T16:10:45.329Z"
   },
   {
    "duration": 9,
    "start_time": "2023-03-17T16:10:45.443Z"
   },
   {
    "duration": 7,
    "start_time": "2023-03-17T16:10:45.454Z"
   },
   {
    "duration": 52,
    "start_time": "2023-03-17T16:10:45.462Z"
   },
   {
    "duration": 10,
    "start_time": "2023-03-17T16:10:45.516Z"
   },
   {
    "duration": 12,
    "start_time": "2023-03-17T16:10:45.528Z"
   },
   {
    "duration": 5,
    "start_time": "2023-03-17T16:10:45.542Z"
   },
   {
    "duration": 16,
    "start_time": "2023-03-17T16:10:45.549Z"
   },
   {
    "duration": 8,
    "start_time": "2023-03-17T16:10:45.567Z"
   },
   {
    "duration": 8,
    "start_time": "2023-03-17T16:10:45.577Z"
   },
   {
    "duration": 57,
    "start_time": "2023-03-17T16:10:45.587Z"
   },
   {
    "duration": 24,
    "start_time": "2023-03-17T16:10:45.646Z"
   },
   {
    "duration": 24,
    "start_time": "2023-03-17T16:10:45.672Z"
   },
   {
    "duration": 28,
    "start_time": "2023-03-17T16:10:45.698Z"
   },
   {
    "duration": 19,
    "start_time": "2023-03-17T16:10:45.728Z"
   },
   {
    "duration": 15,
    "start_time": "2023-03-17T16:10:45.749Z"
   },
   {
    "duration": 6,
    "start_time": "2023-03-17T16:10:45.766Z"
   },
   {
    "duration": 28,
    "start_time": "2023-03-17T16:10:45.775Z"
   },
   {
    "duration": 25,
    "start_time": "2023-03-17T16:10:45.807Z"
   },
   {
    "duration": 23,
    "start_time": "2023-03-17T16:10:45.834Z"
   },
   {
    "duration": 6,
    "start_time": "2023-03-17T16:10:45.859Z"
   },
   {
    "duration": 9,
    "start_time": "2023-03-17T16:10:45.866Z"
   },
   {
    "duration": 23,
    "start_time": "2023-03-17T16:10:45.877Z"
   },
   {
    "duration": 325,
    "start_time": "2023-03-17T16:10:45.931Z"
   },
   {
    "duration": 3,
    "start_time": "2023-03-17T16:10:46.258Z"
   },
   {
    "duration": 255,
    "start_time": "2023-03-17T16:10:46.263Z"
   },
   {
    "duration": 322,
    "start_time": "2023-03-17T16:10:46.520Z"
   },
   {
    "duration": 338,
    "start_time": "2023-03-17T16:10:46.844Z"
   },
   {
    "duration": 274,
    "start_time": "2023-03-17T16:10:47.184Z"
   },
   {
    "duration": 16,
    "start_time": "2023-03-17T16:10:47.461Z"
   },
   {
    "duration": 7,
    "start_time": "2023-03-17T16:10:47.479Z"
   },
   {
    "duration": 26,
    "start_time": "2023-03-17T16:10:47.487Z"
   },
   {
    "duration": 274,
    "start_time": "2023-03-17T16:10:47.531Z"
   },
   {
    "duration": 381,
    "start_time": "2023-03-17T16:10:47.807Z"
   },
   {
    "duration": 15,
    "start_time": "2023-03-17T16:10:48.190Z"
   },
   {
    "duration": 175,
    "start_time": "2023-03-17T16:10:48.207Z"
   },
   {
    "duration": 18,
    "start_time": "2023-03-17T16:10:48.384Z"
   },
   {
    "duration": 27,
    "start_time": "2023-03-17T16:10:48.404Z"
   },
   {
    "duration": 150,
    "start_time": "2023-03-17T16:10:48.433Z"
   },
   {
    "duration": 5,
    "start_time": "2023-03-17T16:10:48.585Z"
   },
   {
    "duration": 40,
    "start_time": "2023-03-17T16:10:48.592Z"
   },
   {
    "duration": 20,
    "start_time": "2023-03-17T16:10:48.634Z"
   },
   {
    "duration": 341,
    "start_time": "2023-03-17T16:10:48.656Z"
   },
   {
    "duration": 225,
    "start_time": "2023-03-17T16:10:49.000Z"
   },
   {
    "duration": 13,
    "start_time": "2023-03-17T16:10:49.230Z"
   },
   {
    "duration": 10,
    "start_time": "2023-03-17T16:10:49.245Z"
   },
   {
    "duration": 17,
    "start_time": "2023-03-17T16:10:49.258Z"
   },
   {
    "duration": 70,
    "start_time": "2023-03-17T16:10:49.277Z"
   },
   {
    "duration": 19,
    "start_time": "2023-03-17T16:10:49.349Z"
   },
   {
    "duration": 10,
    "start_time": "2023-03-17T16:11:25.158Z"
   },
   {
    "duration": 31,
    "start_time": "2023-03-17T16:12:57.192Z"
   },
   {
    "duration": 44,
    "start_time": "2023-03-17T16:13:10.707Z"
   },
   {
    "duration": 13,
    "start_time": "2023-03-17T16:13:30.116Z"
   },
   {
    "duration": 21,
    "start_time": "2023-03-17T16:13:32.166Z"
   },
   {
    "duration": 6,
    "start_time": "2023-03-17T16:13:39.271Z"
   },
   {
    "duration": 12,
    "start_time": "2023-03-17T16:13:41.134Z"
   },
   {
    "duration": 11,
    "start_time": "2023-03-17T16:13:44.610Z"
   },
   {
    "duration": 4,
    "start_time": "2023-03-17T16:14:06.765Z"
   },
   {
    "duration": 74,
    "start_time": "2023-03-17T16:14:06.772Z"
   },
   {
    "duration": 12,
    "start_time": "2023-03-17T16:14:06.849Z"
   },
   {
    "duration": 47,
    "start_time": "2023-03-17T16:14:06.864Z"
   },
   {
    "duration": 37,
    "start_time": "2023-03-17T16:14:06.914Z"
   },
   {
    "duration": 63,
    "start_time": "2023-03-17T16:14:06.954Z"
   },
   {
    "duration": 20,
    "start_time": "2023-03-17T16:14:07.020Z"
   },
   {
    "duration": 56,
    "start_time": "2023-03-17T16:14:07.042Z"
   },
   {
    "duration": 30,
    "start_time": "2023-03-17T16:14:07.102Z"
   },
   {
    "duration": 25,
    "start_time": "2023-03-17T16:14:07.134Z"
   },
   {
    "duration": 17,
    "start_time": "2023-03-17T16:14:07.162Z"
   },
   {
    "duration": 22,
    "start_time": "2023-03-17T16:14:07.182Z"
   },
   {
    "duration": 26,
    "start_time": "2023-03-17T16:14:07.207Z"
   },
   {
    "duration": 14,
    "start_time": "2023-03-17T16:14:07.236Z"
   },
   {
    "duration": 26,
    "start_time": "2023-03-17T16:14:07.253Z"
   },
   {
    "duration": 13,
    "start_time": "2023-03-17T16:14:07.281Z"
   },
   {
    "duration": 36,
    "start_time": "2023-03-17T16:14:07.296Z"
   },
   {
    "duration": 18,
    "start_time": "2023-03-17T16:14:07.334Z"
   },
   {
    "duration": 27,
    "start_time": "2023-03-17T16:14:07.354Z"
   },
   {
    "duration": 13,
    "start_time": "2023-03-17T16:14:07.383Z"
   },
   {
    "duration": 25,
    "start_time": "2023-03-17T16:14:07.399Z"
   },
   {
    "duration": 25,
    "start_time": "2023-03-17T16:14:07.426Z"
   },
   {
    "duration": 28,
    "start_time": "2023-03-17T16:14:07.453Z"
   },
   {
    "duration": 23,
    "start_time": "2023-03-17T16:14:07.486Z"
   },
   {
    "duration": 8,
    "start_time": "2023-03-17T16:14:07.511Z"
   },
   {
    "duration": 20,
    "start_time": "2023-03-17T16:14:07.521Z"
   },
   {
    "duration": 31,
    "start_time": "2023-03-17T16:14:07.543Z"
   },
   {
    "duration": 11,
    "start_time": "2023-03-17T16:14:07.576Z"
   },
   {
    "duration": 45,
    "start_time": "2023-03-17T16:14:07.589Z"
   },
   {
    "duration": 6,
    "start_time": "2023-03-17T16:14:07.636Z"
   },
   {
    "duration": 17,
    "start_time": "2023-03-17T16:14:07.643Z"
   },
   {
    "duration": 17,
    "start_time": "2023-03-17T16:14:07.662Z"
   },
   {
    "duration": 15,
    "start_time": "2023-03-17T16:14:07.680Z"
   },
   {
    "duration": 332,
    "start_time": "2023-03-17T16:14:07.697Z"
   },
   {
    "duration": 3,
    "start_time": "2023-03-17T16:14:08.032Z"
   },
   {
    "duration": 346,
    "start_time": "2023-03-17T16:14:08.037Z"
   },
   {
    "duration": 248,
    "start_time": "2023-03-17T16:14:08.385Z"
   },
   {
    "duration": 326,
    "start_time": "2023-03-17T16:14:08.635Z"
   },
   {
    "duration": 293,
    "start_time": "2023-03-17T16:14:08.963Z"
   },
   {
    "duration": 19,
    "start_time": "2023-03-17T16:14:09.258Z"
   },
   {
    "duration": 5,
    "start_time": "2023-03-17T16:14:09.280Z"
   },
   {
    "duration": 52,
    "start_time": "2023-03-17T16:14:09.287Z"
   },
   {
    "duration": 208,
    "start_time": "2023-03-17T16:14:09.341Z"
   },
   {
    "duration": 473,
    "start_time": "2023-03-17T16:14:09.551Z"
   },
   {
    "duration": 15,
    "start_time": "2023-03-17T16:14:10.036Z"
   },
   {
    "duration": 159,
    "start_time": "2023-03-17T16:14:10.053Z"
   },
   {
    "duration": 25,
    "start_time": "2023-03-17T16:14:10.214Z"
   },
   {
    "duration": 21,
    "start_time": "2023-03-17T16:14:10.242Z"
   },
   {
    "duration": 176,
    "start_time": "2023-03-17T16:14:10.266Z"
   },
   {
    "duration": 6,
    "start_time": "2023-03-17T16:14:10.444Z"
   },
   {
    "duration": 26,
    "start_time": "2023-03-17T16:14:10.458Z"
   },
   {
    "duration": 25,
    "start_time": "2023-03-17T16:14:10.486Z"
   },
   {
    "duration": 249,
    "start_time": "2023-03-17T16:14:10.513Z"
   },
   {
    "duration": 280,
    "start_time": "2023-03-17T16:14:10.764Z"
   },
   {
    "duration": 12,
    "start_time": "2023-03-17T16:14:11.046Z"
   },
   {
    "duration": 25,
    "start_time": "2023-03-17T16:14:11.059Z"
   },
   {
    "duration": 17,
    "start_time": "2023-03-17T16:14:11.086Z"
   },
   {
    "duration": 71,
    "start_time": "2023-03-17T16:14:11.106Z"
   },
   {
    "duration": 26,
    "start_time": "2023-03-17T16:14:11.179Z"
   },
   {
    "duration": 4,
    "start_time": "2023-03-17T16:16:56.605Z"
   },
   {
    "duration": 37,
    "start_time": "2023-03-17T16:16:56.612Z"
   },
   {
    "duration": 13,
    "start_time": "2023-03-17T16:16:56.651Z"
   },
   {
    "duration": 7,
    "start_time": "2023-03-17T16:16:56.667Z"
   },
   {
    "duration": 17,
    "start_time": "2023-03-17T16:16:56.676Z"
   },
   {
    "duration": 70,
    "start_time": "2023-03-17T16:16:56.695Z"
   },
   {
    "duration": 21,
    "start_time": "2023-03-17T16:16:56.767Z"
   },
   {
    "duration": 34,
    "start_time": "2023-03-17T16:16:56.790Z"
   },
   {
    "duration": 31,
    "start_time": "2023-03-17T16:16:56.827Z"
   },
   {
    "duration": 53,
    "start_time": "2023-03-17T16:16:56.862Z"
   },
   {
    "duration": 24,
    "start_time": "2023-03-17T16:16:56.918Z"
   },
   {
    "duration": 31,
    "start_time": "2023-03-17T16:16:56.956Z"
   },
   {
    "duration": 25,
    "start_time": "2023-03-17T16:16:56.989Z"
   },
   {
    "duration": 22,
    "start_time": "2023-03-17T16:16:57.017Z"
   },
   {
    "duration": 15,
    "start_time": "2023-03-17T16:16:57.041Z"
   },
   {
    "duration": 21,
    "start_time": "2023-03-17T16:16:57.066Z"
   },
   {
    "duration": 116,
    "start_time": "2023-03-17T16:16:57.090Z"
   },
   {
    "duration": 7,
    "start_time": "2023-03-17T16:16:57.208Z"
   },
   {
    "duration": 11,
    "start_time": "2023-03-17T16:16:57.218Z"
   },
   {
    "duration": 14,
    "start_time": "2023-03-17T16:16:57.232Z"
   },
   {
    "duration": 23,
    "start_time": "2023-03-17T16:16:57.248Z"
   },
   {
    "duration": 20,
    "start_time": "2023-03-17T16:16:57.275Z"
   },
   {
    "duration": 24,
    "start_time": "2023-03-17T16:16:57.298Z"
   },
   {
    "duration": 19,
    "start_time": "2023-03-17T16:16:57.324Z"
   },
   {
    "duration": 21,
    "start_time": "2023-03-17T16:16:57.345Z"
   },
   {
    "duration": 12,
    "start_time": "2023-03-17T16:16:57.368Z"
   },
   {
    "duration": 27,
    "start_time": "2023-03-17T16:16:57.382Z"
   },
   {
    "duration": 17,
    "start_time": "2023-03-17T16:16:57.414Z"
   },
   {
    "duration": 28,
    "start_time": "2023-03-17T16:16:57.433Z"
   },
   {
    "duration": 7,
    "start_time": "2023-03-17T16:16:57.463Z"
   },
   {
    "duration": 20,
    "start_time": "2023-03-17T16:16:57.473Z"
   },
   {
    "duration": 38,
    "start_time": "2023-03-17T16:16:57.495Z"
   },
   {
    "duration": 27,
    "start_time": "2023-03-17T16:16:57.535Z"
   },
   {
    "duration": 334,
    "start_time": "2023-03-17T16:16:57.564Z"
   },
   {
    "duration": 3,
    "start_time": "2023-03-17T16:16:57.901Z"
   },
   {
    "duration": 286,
    "start_time": "2023-03-17T16:16:57.908Z"
   },
   {
    "duration": 316,
    "start_time": "2023-03-17T16:16:58.197Z"
   },
   {
    "duration": 408,
    "start_time": "2023-03-17T16:16:58.515Z"
   },
   {
    "duration": 274,
    "start_time": "2023-03-17T16:16:58.930Z"
   },
   {
    "duration": 26,
    "start_time": "2023-03-17T16:16:59.206Z"
   },
   {
    "duration": 5,
    "start_time": "2023-03-17T16:16:59.234Z"
   },
   {
    "duration": 33,
    "start_time": "2023-03-17T16:16:59.241Z"
   },
   {
    "duration": 304,
    "start_time": "2023-03-17T16:16:59.276Z"
   },
   {
    "duration": 350,
    "start_time": "2023-03-17T16:16:59.583Z"
   },
   {
    "duration": 18,
    "start_time": "2023-03-17T16:16:59.935Z"
   },
   {
    "duration": 195,
    "start_time": "2023-03-17T16:16:59.954Z"
   },
   {
    "duration": 26,
    "start_time": "2023-03-17T16:17:00.151Z"
   },
   {
    "duration": 19,
    "start_time": "2023-03-17T16:17:00.179Z"
   },
   {
    "duration": 184,
    "start_time": "2023-03-17T16:17:00.200Z"
   },
   {
    "duration": 5,
    "start_time": "2023-03-17T16:17:00.387Z"
   },
   {
    "duration": 68,
    "start_time": "2023-03-17T16:17:00.395Z"
   },
   {
    "duration": 27,
    "start_time": "2023-03-17T16:17:00.469Z"
   },
   {
    "duration": 320,
    "start_time": "2023-03-17T16:17:00.498Z"
   },
   {
    "duration": 237,
    "start_time": "2023-03-17T16:17:00.821Z"
   },
   {
    "duration": 12,
    "start_time": "2023-03-17T16:17:01.060Z"
   },
   {
    "duration": 38,
    "start_time": "2023-03-17T16:17:01.074Z"
   },
   {
    "duration": 59,
    "start_time": "2023-03-17T16:17:01.115Z"
   },
   {
    "duration": 40,
    "start_time": "2023-03-17T16:17:01.176Z"
   },
   {
    "duration": 20,
    "start_time": "2023-03-17T16:17:01.219Z"
   },
   {
    "duration": 270,
    "start_time": "2023-03-17T16:21:51.939Z"
   },
   {
    "duration": 379,
    "start_time": "2023-03-17T16:22:47.895Z"
   },
   {
    "duration": 340,
    "start_time": "2023-03-17T16:22:57.640Z"
   },
   {
    "duration": 366,
    "start_time": "2023-03-17T16:23:08.496Z"
   },
   {
    "duration": 244,
    "start_time": "2023-03-17T16:23:14.339Z"
   },
   {
    "duration": 311,
    "start_time": "2023-03-17T16:23:20.613Z"
   },
   {
    "duration": 6,
    "start_time": "2023-03-17T16:24:07.402Z"
   },
   {
    "duration": 73,
    "start_time": "2023-03-17T16:24:51.562Z"
   },
   {
    "duration": 6,
    "start_time": "2023-03-17T16:24:57.799Z"
   },
   {
    "duration": 6,
    "start_time": "2023-03-17T16:25:08.594Z"
   },
   {
    "duration": 461,
    "start_time": "2023-03-17T16:35:49.649Z"
   },
   {
    "duration": 168,
    "start_time": "2023-03-17T16:48:01.539Z"
   },
   {
    "duration": 28,
    "start_time": "2023-03-17T16:48:02.991Z"
   },
   {
    "duration": 12,
    "start_time": "2023-03-17T16:48:58.165Z"
   },
   {
    "duration": 337,
    "start_time": "2023-03-17T16:55:51.977Z"
   },
   {
    "duration": 3,
    "start_time": "2023-03-17T17:40:29.848Z"
   },
   {
    "duration": 5,
    "start_time": "2023-03-17T17:43:39.497Z"
   },
   {
    "duration": 16,
    "start_time": "2023-03-17T17:43:41.167Z"
   },
   {
    "duration": 15,
    "start_time": "2023-03-17T17:44:46.622Z"
   },
   {
    "duration": 9,
    "start_time": "2023-03-17T17:45:00.145Z"
   },
   {
    "duration": 10,
    "start_time": "2023-03-17T17:45:03.895Z"
   },
   {
    "duration": 10,
    "start_time": "2023-03-17T17:45:09.245Z"
   },
   {
    "duration": 9,
    "start_time": "2023-03-17T17:45:13.993Z"
   },
   {
    "duration": 12,
    "start_time": "2023-03-17T17:45:24.916Z"
   },
   {
    "duration": 13,
    "start_time": "2023-03-17T17:45:29.228Z"
   },
   {
    "duration": 8,
    "start_time": "2023-03-17T17:45:32.566Z"
   },
   {
    "duration": 20,
    "start_time": "2023-03-17T17:45:36.279Z"
   },
   {
    "duration": 11,
    "start_time": "2023-03-17T17:45:44.343Z"
   },
   {
    "duration": 10,
    "start_time": "2023-03-17T17:45:47.991Z"
   },
   {
    "duration": 9,
    "start_time": "2023-03-17T17:45:53.781Z"
   },
   {
    "duration": 9,
    "start_time": "2023-03-17T17:46:05.861Z"
   },
   {
    "duration": 13,
    "start_time": "2023-03-17T17:46:20.846Z"
   },
   {
    "duration": 21,
    "start_time": "2023-03-17T17:46:44.092Z"
   },
   {
    "duration": 40,
    "start_time": "2023-03-17T17:49:02.723Z"
   },
   {
    "duration": 4,
    "start_time": "2023-03-17T17:53:30.589Z"
   },
   {
    "duration": 73,
    "start_time": "2023-03-17T17:53:30.596Z"
   },
   {
    "duration": 13,
    "start_time": "2023-03-17T17:53:30.671Z"
   },
   {
    "duration": 32,
    "start_time": "2023-03-17T17:53:30.687Z"
   },
   {
    "duration": 50,
    "start_time": "2023-03-17T17:53:30.721Z"
   },
   {
    "duration": 78,
    "start_time": "2023-03-17T17:53:30.773Z"
   },
   {
    "duration": 20,
    "start_time": "2023-03-17T17:53:30.853Z"
   },
   {
    "duration": 41,
    "start_time": "2023-03-17T17:53:30.874Z"
   },
   {
    "duration": 44,
    "start_time": "2023-03-17T17:53:30.918Z"
   },
   {
    "duration": 30,
    "start_time": "2023-03-17T17:53:30.963Z"
   },
   {
    "duration": 37,
    "start_time": "2023-03-17T17:53:30.995Z"
   },
   {
    "duration": 29,
    "start_time": "2023-03-17T17:53:31.038Z"
   },
   {
    "duration": 24,
    "start_time": "2023-03-17T17:53:31.069Z"
   },
   {
    "duration": 53,
    "start_time": "2023-03-17T17:53:31.095Z"
   },
   {
    "duration": 35,
    "start_time": "2023-03-17T17:53:31.150Z"
   },
   {
    "duration": 27,
    "start_time": "2023-03-17T17:53:31.186Z"
   },
   {
    "duration": 37,
    "start_time": "2023-03-17T17:53:31.215Z"
   },
   {
    "duration": 54,
    "start_time": "2023-03-17T17:53:31.254Z"
   },
   {
    "duration": 35,
    "start_time": "2023-03-17T17:53:31.310Z"
   },
   {
    "duration": 19,
    "start_time": "2023-03-17T17:53:31.347Z"
   },
   {
    "duration": 28,
    "start_time": "2023-03-17T17:53:31.368Z"
   },
   {
    "duration": 42,
    "start_time": "2023-03-17T17:53:31.399Z"
   },
   {
    "duration": 48,
    "start_time": "2023-03-17T17:53:31.444Z"
   },
   {
    "duration": 58,
    "start_time": "2023-03-17T17:53:31.498Z"
   },
   {
    "duration": 49,
    "start_time": "2023-03-17T17:53:31.558Z"
   },
   {
    "duration": 41,
    "start_time": "2023-03-17T17:53:31.609Z"
   },
   {
    "duration": 17,
    "start_time": "2023-03-17T17:53:31.651Z"
   },
   {
    "duration": 24,
    "start_time": "2023-03-17T17:53:31.670Z"
   },
   {
    "duration": 5,
    "start_time": "2023-03-17T17:53:31.695Z"
   },
   {
    "duration": 31,
    "start_time": "2023-03-17T17:53:31.701Z"
   },
   {
    "duration": 19,
    "start_time": "2023-03-17T17:53:31.735Z"
   },
   {
    "duration": 306,
    "start_time": "2023-03-17T17:53:31.756Z"
   },
   {
    "duration": 3,
    "start_time": "2023-03-17T17:53:32.073Z"
   },
   {
    "duration": 268,
    "start_time": "2023-03-17T17:53:32.078Z"
   },
   {
    "duration": 228,
    "start_time": "2023-03-17T17:53:32.348Z"
   },
   {
    "duration": 316,
    "start_time": "2023-03-17T17:53:32.578Z"
   },
   {
    "duration": 253,
    "start_time": "2023-03-17T17:53:32.896Z"
   },
   {
    "duration": 13,
    "start_time": "2023-03-17T17:53:33.151Z"
   },
   {
    "duration": 330,
    "start_time": "2023-03-17T17:53:33.166Z"
   },
   {
    "duration": 10,
    "start_time": "2023-03-17T17:53:33.498Z"
   },
   {
    "duration": 144,
    "start_time": "2023-03-17T17:53:33.510Z"
   },
   {
    "duration": 13,
    "start_time": "2023-03-17T17:53:33.656Z"
   },
   {
    "duration": 7,
    "start_time": "2023-03-17T17:53:33.670Z"
   },
   {
    "duration": 173,
    "start_time": "2023-03-17T17:53:33.678Z"
   },
   {
    "duration": 4,
    "start_time": "2023-03-17T17:53:33.853Z"
   },
   {
    "duration": 22,
    "start_time": "2023-03-17T17:53:33.858Z"
   },
   {
    "duration": 19,
    "start_time": "2023-03-17T17:53:33.881Z"
   },
   {
    "duration": 275,
    "start_time": "2023-03-17T17:53:33.902Z"
   },
   {
    "duration": 171,
    "start_time": "2023-03-17T17:53:34.180Z"
   },
   {
    "duration": 23,
    "start_time": "2023-03-17T17:53:34.353Z"
   },
   {
    "duration": 11,
    "start_time": "2023-03-17T17:53:34.378Z"
   },
   {
    "duration": 10,
    "start_time": "2023-03-17T17:53:34.391Z"
   },
   {
    "duration": 1296,
    "start_time": "2023-03-17T17:53:34.431Z"
   },
   {
    "duration": 0,
    "start_time": "2023-03-17T17:53:35.729Z"
   },
   {
    "duration": 0,
    "start_time": "2023-03-17T17:53:35.730Z"
   },
   {
    "duration": 10,
    "start_time": "2023-03-17T17:54:38.131Z"
   },
   {
    "duration": 33,
    "start_time": "2023-03-17T17:54:40.538Z"
   },
   {
    "duration": 4,
    "start_time": "2023-03-17T17:55:13.882Z"
   },
   {
    "duration": 35,
    "start_time": "2023-03-17T17:55:13.888Z"
   },
   {
    "duration": 11,
    "start_time": "2023-03-17T17:55:13.925Z"
   },
   {
    "duration": 31,
    "start_time": "2023-03-17T17:55:13.939Z"
   },
   {
    "duration": 14,
    "start_time": "2023-03-17T17:55:13.973Z"
   },
   {
    "duration": 70,
    "start_time": "2023-03-17T17:55:13.989Z"
   },
   {
    "duration": 17,
    "start_time": "2023-03-17T17:55:14.063Z"
   },
   {
    "duration": 18,
    "start_time": "2023-03-17T17:55:14.082Z"
   },
   {
    "duration": 14,
    "start_time": "2023-03-17T17:55:14.103Z"
   },
   {
    "duration": 14,
    "start_time": "2023-03-17T17:55:14.118Z"
   },
   {
    "duration": 47,
    "start_time": "2023-03-17T17:55:14.136Z"
   },
   {
    "duration": 9,
    "start_time": "2023-03-17T17:55:14.184Z"
   },
   {
    "duration": 7,
    "start_time": "2023-03-17T17:55:14.195Z"
   },
   {
    "duration": 18,
    "start_time": "2023-03-17T17:55:14.204Z"
   },
   {
    "duration": 12,
    "start_time": "2023-03-17T17:55:14.224Z"
   },
   {
    "duration": 43,
    "start_time": "2023-03-17T17:55:14.237Z"
   },
   {
    "duration": 8,
    "start_time": "2023-03-17T17:55:14.283Z"
   },
   {
    "duration": 18,
    "start_time": "2023-03-17T17:55:14.292Z"
   },
   {
    "duration": 8,
    "start_time": "2023-03-17T17:55:14.312Z"
   },
   {
    "duration": 9,
    "start_time": "2023-03-17T17:55:14.322Z"
   },
   {
    "duration": 47,
    "start_time": "2023-03-17T17:55:14.334Z"
   },
   {
    "duration": 12,
    "start_time": "2023-03-17T17:55:14.383Z"
   },
   {
    "duration": 12,
    "start_time": "2023-03-17T17:55:14.397Z"
   },
   {
    "duration": 14,
    "start_time": "2023-03-17T17:55:14.414Z"
   },
   {
    "duration": 45,
    "start_time": "2023-03-17T17:55:14.430Z"
   },
   {
    "duration": 34,
    "start_time": "2023-03-17T17:55:14.477Z"
   },
   {
    "duration": 8,
    "start_time": "2023-03-17T17:55:14.513Z"
   },
   {
    "duration": 32,
    "start_time": "2023-03-17T17:55:14.522Z"
   },
   {
    "duration": 20,
    "start_time": "2023-03-17T17:55:14.562Z"
   },
   {
    "duration": 20,
    "start_time": "2023-03-17T17:55:14.583Z"
   },
   {
    "duration": 16,
    "start_time": "2023-03-17T17:55:14.605Z"
   },
   {
    "duration": 363,
    "start_time": "2023-03-17T17:55:14.623Z"
   },
   {
    "duration": 3,
    "start_time": "2023-03-17T17:55:14.987Z"
   },
   {
    "duration": 275,
    "start_time": "2023-03-17T17:55:14.992Z"
   },
   {
    "duration": 260,
    "start_time": "2023-03-17T17:55:15.269Z"
   },
   {
    "duration": 356,
    "start_time": "2023-03-17T17:55:15.534Z"
   },
   {
    "duration": 303,
    "start_time": "2023-03-17T17:55:15.893Z"
   },
   {
    "duration": 17,
    "start_time": "2023-03-17T17:55:16.198Z"
   },
   {
    "duration": 424,
    "start_time": "2023-03-17T17:55:16.236Z"
   },
   {
    "duration": 14,
    "start_time": "2023-03-17T17:55:16.666Z"
   },
   {
    "duration": 199,
    "start_time": "2023-03-17T17:55:16.683Z"
   },
   {
    "duration": 17,
    "start_time": "2023-03-17T17:55:16.884Z"
   },
   {
    "duration": 34,
    "start_time": "2023-03-17T17:55:16.903Z"
   },
   {
    "duration": 226,
    "start_time": "2023-03-17T17:55:16.940Z"
   },
   {
    "duration": 5,
    "start_time": "2023-03-17T17:55:17.168Z"
   },
   {
    "duration": 16,
    "start_time": "2023-03-17T17:55:17.175Z"
   },
   {
    "duration": 16,
    "start_time": "2023-03-17T17:55:17.193Z"
   },
   {
    "duration": 271,
    "start_time": "2023-03-17T17:55:17.234Z"
   },
   {
    "duration": 175,
    "start_time": "2023-03-17T17:55:17.507Z"
   },
   {
    "duration": 26,
    "start_time": "2023-03-17T17:55:17.683Z"
   },
   {
    "duration": 24,
    "start_time": "2023-03-17T17:55:17.710Z"
   },
   {
    "duration": 35,
    "start_time": "2023-03-17T17:55:17.737Z"
   },
   {
    "duration": 10,
    "start_time": "2023-03-17T17:55:17.774Z"
   },
   {
    "duration": 25,
    "start_time": "2023-03-17T17:55:17.786Z"
   },
   {
    "duration": 51,
    "start_time": "2023-03-17T17:55:17.812Z"
   },
   {
    "duration": 378,
    "start_time": "2023-03-17T17:55:41.868Z"
   },
   {
    "duration": 3,
    "start_time": "2023-03-17T17:55:51.888Z"
   },
   {
    "duration": 12,
    "start_time": "2023-03-17T17:55:53.995Z"
   },
   {
    "duration": 3,
    "start_time": "2023-03-17T17:56:17.766Z"
   },
   {
    "duration": 33,
    "start_time": "2023-03-17T17:56:17.771Z"
   },
   {
    "duration": 9,
    "start_time": "2023-03-17T17:56:17.806Z"
   },
   {
    "duration": 6,
    "start_time": "2023-03-17T17:56:17.817Z"
   },
   {
    "duration": 43,
    "start_time": "2023-03-17T17:56:17.825Z"
   },
   {
    "duration": 40,
    "start_time": "2023-03-17T17:56:17.870Z"
   },
   {
    "duration": 12,
    "start_time": "2023-03-17T17:56:17.912Z"
   },
   {
    "duration": 26,
    "start_time": "2023-03-17T17:56:17.926Z"
   },
   {
    "duration": 26,
    "start_time": "2023-03-17T17:56:17.962Z"
   },
   {
    "duration": 14,
    "start_time": "2023-03-17T17:56:17.990Z"
   },
   {
    "duration": 18,
    "start_time": "2023-03-17T17:56:18.006Z"
   },
   {
    "duration": 39,
    "start_time": "2023-03-17T17:56:18.026Z"
   },
   {
    "duration": 21,
    "start_time": "2023-03-17T17:56:18.067Z"
   },
   {
    "duration": 24,
    "start_time": "2023-03-17T17:56:18.092Z"
   },
   {
    "duration": 10,
    "start_time": "2023-03-17T17:56:18.117Z"
   },
   {
    "duration": 47,
    "start_time": "2023-03-17T17:56:18.129Z"
   },
   {
    "duration": 6,
    "start_time": "2023-03-17T17:56:18.179Z"
   },
   {
    "duration": 13,
    "start_time": "2023-03-17T17:56:18.187Z"
   },
   {
    "duration": 12,
    "start_time": "2023-03-17T17:56:18.202Z"
   },
   {
    "duration": 9,
    "start_time": "2023-03-17T17:56:18.216Z"
   },
   {
    "duration": 30,
    "start_time": "2023-03-17T17:56:18.227Z"
   },
   {
    "duration": 14,
    "start_time": "2023-03-17T17:56:18.259Z"
   },
   {
    "duration": 14,
    "start_time": "2023-03-17T17:56:18.275Z"
   },
   {
    "duration": 17,
    "start_time": "2023-03-17T17:56:18.291Z"
   },
   {
    "duration": 13,
    "start_time": "2023-03-17T17:56:18.309Z"
   },
   {
    "duration": 59,
    "start_time": "2023-03-17T17:56:18.323Z"
   },
   {
    "duration": 7,
    "start_time": "2023-03-17T17:56:18.384Z"
   },
   {
    "duration": 14,
    "start_time": "2023-03-17T17:56:18.393Z"
   },
   {
    "duration": 4,
    "start_time": "2023-03-17T17:56:18.408Z"
   },
   {
    "duration": 17,
    "start_time": "2023-03-17T17:56:18.413Z"
   },
   {
    "duration": 42,
    "start_time": "2023-03-17T17:56:18.432Z"
   },
   {
    "duration": 314,
    "start_time": "2023-03-17T17:56:18.476Z"
   },
   {
    "duration": 2,
    "start_time": "2023-03-17T17:56:18.792Z"
   },
   {
    "duration": 273,
    "start_time": "2023-03-17T17:56:18.796Z"
   },
   {
    "duration": 421,
    "start_time": "2023-03-17T17:56:19.072Z"
   },
   {
    "duration": 301,
    "start_time": "2023-03-17T17:56:19.495Z"
   },
   {
    "duration": 243,
    "start_time": "2023-03-17T17:56:19.798Z"
   },
   {
    "duration": 27,
    "start_time": "2023-03-17T17:56:20.043Z"
   },
   {
    "duration": 354,
    "start_time": "2023-03-17T17:56:20.072Z"
   },
   {
    "duration": 14,
    "start_time": "2023-03-17T17:56:20.427Z"
   },
   {
    "duration": 161,
    "start_time": "2023-03-17T17:56:20.447Z"
   },
   {
    "duration": 13,
    "start_time": "2023-03-17T17:56:20.609Z"
   },
   {
    "duration": 19,
    "start_time": "2023-03-17T17:56:20.623Z"
   },
   {
    "duration": 171,
    "start_time": "2023-03-17T17:56:20.645Z"
   },
   {
    "duration": 5,
    "start_time": "2023-03-17T17:56:20.817Z"
   },
   {
    "duration": 19,
    "start_time": "2023-03-17T17:56:20.823Z"
   },
   {
    "duration": 40,
    "start_time": "2023-03-17T17:56:20.844Z"
   },
   {
    "duration": 283,
    "start_time": "2023-03-17T17:56:20.886Z"
   },
   {
    "duration": 170,
    "start_time": "2023-03-17T17:56:21.170Z"
   },
   {
    "duration": 35,
    "start_time": "2023-03-17T17:56:21.343Z"
   },
   {
    "duration": 12,
    "start_time": "2023-03-17T17:56:21.379Z"
   },
   {
    "duration": 21,
    "start_time": "2023-03-17T17:56:21.392Z"
   },
   {
    "duration": 25,
    "start_time": "2023-03-17T17:56:21.415Z"
   },
   {
    "duration": 66,
    "start_time": "2023-03-17T17:56:21.442Z"
   },
   {
    "duration": 18,
    "start_time": "2023-03-17T17:56:21.510Z"
   },
   {
    "duration": 66,
    "start_time": "2023-03-18T14:29:44.706Z"
   },
   {
    "duration": 1261,
    "start_time": "2023-03-18T14:36:19.408Z"
   },
   {
    "duration": 38,
    "start_time": "2023-03-18T14:36:20.672Z"
   },
   {
    "duration": 15,
    "start_time": "2023-03-18T14:36:20.713Z"
   },
   {
    "duration": 6,
    "start_time": "2023-03-18T14:36:20.730Z"
   },
   {
    "duration": 19,
    "start_time": "2023-03-18T14:36:20.738Z"
   },
   {
    "duration": 55,
    "start_time": "2023-03-18T14:36:20.759Z"
   },
   {
    "duration": 13,
    "start_time": "2023-03-18T14:36:20.816Z"
   },
   {
    "duration": 27,
    "start_time": "2023-03-18T14:36:20.831Z"
   },
   {
    "duration": 25,
    "start_time": "2023-03-18T14:36:20.861Z"
   },
   {
    "duration": 27,
    "start_time": "2023-03-18T14:36:20.889Z"
   },
   {
    "duration": 19,
    "start_time": "2023-03-18T14:36:20.918Z"
   },
   {
    "duration": 7,
    "start_time": "2023-03-18T14:36:20.939Z"
   },
   {
    "duration": 33,
    "start_time": "2023-03-18T14:36:20.948Z"
   },
   {
    "duration": 25,
    "start_time": "2023-03-18T14:36:20.983Z"
   },
   {
    "duration": 13,
    "start_time": "2023-03-18T14:36:21.009Z"
   },
   {
    "duration": 20,
    "start_time": "2023-03-18T14:36:21.024Z"
   },
   {
    "duration": 14,
    "start_time": "2023-03-18T14:36:21.046Z"
   },
   {
    "duration": 26,
    "start_time": "2023-03-18T14:36:21.062Z"
   },
   {
    "duration": 34,
    "start_time": "2023-03-18T14:36:21.089Z"
   },
   {
    "duration": 17,
    "start_time": "2023-03-18T14:36:21.125Z"
   },
   {
    "duration": 19,
    "start_time": "2023-03-18T14:36:21.144Z"
   },
   {
    "duration": 15,
    "start_time": "2023-03-18T14:36:21.165Z"
   },
   {
    "duration": 12,
    "start_time": "2023-03-18T14:36:21.182Z"
   },
   {
    "duration": 37,
    "start_time": "2023-03-18T14:36:21.197Z"
   },
   {
    "duration": 22,
    "start_time": "2023-03-18T14:36:21.236Z"
   },
   {
    "duration": 27,
    "start_time": "2023-03-18T14:36:21.261Z"
   },
   {
    "duration": 10,
    "start_time": "2023-03-18T14:36:21.290Z"
   },
   {
    "duration": 39,
    "start_time": "2023-03-18T14:36:21.305Z"
   },
   {
    "duration": 10,
    "start_time": "2023-03-18T14:36:21.346Z"
   },
   {
    "duration": 18,
    "start_time": "2023-03-18T14:36:21.358Z"
   },
   {
    "duration": 16,
    "start_time": "2023-03-18T14:36:21.378Z"
   },
   {
    "duration": 362,
    "start_time": "2023-03-18T14:36:21.395Z"
   },
   {
    "duration": 413,
    "start_time": "2023-03-18T14:36:21.759Z"
   },
   {
    "duration": 279,
    "start_time": "2023-03-18T14:36:22.174Z"
   },
   {
    "duration": 415,
    "start_time": "2023-03-18T14:36:22.456Z"
   },
   {
    "duration": 290,
    "start_time": "2023-03-18T14:36:22.874Z"
   },
   {
    "duration": 37,
    "start_time": "2023-03-18T14:36:23.166Z"
   },
   {
    "duration": 487,
    "start_time": "2023-03-18T14:36:23.205Z"
   },
   {
    "duration": 15,
    "start_time": "2023-03-18T14:36:23.698Z"
   },
   {
    "duration": 137,
    "start_time": "2023-03-18T14:36:23.715Z"
   },
   {
    "duration": 7,
    "start_time": "2023-03-18T14:36:23.854Z"
   },
   {
    "duration": 183,
    "start_time": "2023-03-18T14:36:23.862Z"
   },
   {
    "duration": 5,
    "start_time": "2023-03-18T14:36:24.047Z"
   },
   {
    "duration": 258,
    "start_time": "2023-03-18T14:36:24.053Z"
   },
   {
    "duration": 185,
    "start_time": "2023-03-18T14:36:24.313Z"
   },
   {
    "duration": 31,
    "start_time": "2023-03-18T14:36:24.505Z"
   },
   {
    "duration": 14,
    "start_time": "2023-03-18T14:36:24.538Z"
   },
   {
    "duration": 16,
    "start_time": "2023-03-18T14:36:24.554Z"
   },
   {
    "duration": 28,
    "start_time": "2023-03-18T14:36:24.572Z"
   },
   {
    "duration": 44,
    "start_time": "2023-03-18T14:36:24.601Z"
   },
   {
    "duration": 15,
    "start_time": "2023-03-18T14:36:24.647Z"
   },
   {
    "duration": 48,
    "start_time": "2023-03-18T15:38:11.009Z"
   },
   {
    "duration": 47,
    "start_time": "2023-03-18T15:39:31.230Z"
   },
   {
    "duration": 67,
    "start_time": "2023-03-18T15:41:37.088Z"
   },
   {
    "duration": 49,
    "start_time": "2023-03-18T15:43:35.178Z"
   },
   {
    "duration": 54,
    "start_time": "2023-03-18T15:46:37.313Z"
   },
   {
    "duration": 47,
    "start_time": "2023-03-18T15:49:01.106Z"
   },
   {
    "duration": 1347,
    "start_time": "2023-03-18T15:49:09.949Z"
   },
   {
    "duration": 85,
    "start_time": "2023-03-18T15:49:11.299Z"
   },
   {
    "duration": 18,
    "start_time": "2023-03-18T15:49:11.386Z"
   },
   {
    "duration": 18,
    "start_time": "2023-03-18T15:49:11.406Z"
   },
   {
    "duration": 11,
    "start_time": "2023-03-18T15:49:11.426Z"
   },
   {
    "duration": 86,
    "start_time": "2023-03-18T15:49:11.438Z"
   },
   {
    "duration": 12,
    "start_time": "2023-03-18T15:49:11.526Z"
   },
   {
    "duration": 17,
    "start_time": "2023-03-18T15:49:11.540Z"
   },
   {
    "duration": 17,
    "start_time": "2023-03-18T15:49:11.559Z"
   },
   {
    "duration": 9,
    "start_time": "2023-03-18T15:49:11.579Z"
   },
   {
    "duration": 31,
    "start_time": "2023-03-18T15:49:11.590Z"
   },
   {
    "duration": 9,
    "start_time": "2023-03-18T15:49:11.623Z"
   },
   {
    "duration": 10,
    "start_time": "2023-03-18T15:49:11.634Z"
   },
   {
    "duration": 88,
    "start_time": "2023-03-18T15:49:11.646Z"
   },
   {
    "duration": 11,
    "start_time": "2023-03-18T15:49:11.735Z"
   },
   {
    "duration": 13,
    "start_time": "2023-03-18T15:49:11.748Z"
   },
   {
    "duration": 7,
    "start_time": "2023-03-18T15:49:11.763Z"
   },
   {
    "duration": 17,
    "start_time": "2023-03-18T15:49:11.771Z"
   },
   {
    "duration": 21,
    "start_time": "2023-03-18T15:49:11.789Z"
   },
   {
    "duration": 9,
    "start_time": "2023-03-18T15:49:11.812Z"
   },
   {
    "duration": 14,
    "start_time": "2023-03-18T15:49:11.823Z"
   },
   {
    "duration": 12,
    "start_time": "2023-03-18T15:49:11.839Z"
   },
   {
    "duration": 12,
    "start_time": "2023-03-18T15:49:11.852Z"
   },
   {
    "duration": 16,
    "start_time": "2023-03-18T15:49:11.866Z"
   },
   {
    "duration": 29,
    "start_time": "2023-03-18T15:49:11.883Z"
   },
   {
    "duration": 24,
    "start_time": "2023-03-18T15:49:11.914Z"
   },
   {
    "duration": 14,
    "start_time": "2023-03-18T15:49:11.940Z"
   },
   {
    "duration": 18,
    "start_time": "2023-03-18T15:49:11.959Z"
   },
   {
    "duration": 5,
    "start_time": "2023-03-18T15:49:11.978Z"
   },
   {
    "duration": 23,
    "start_time": "2023-03-18T15:49:11.984Z"
   },
   {
    "duration": 13,
    "start_time": "2023-03-18T15:49:12.011Z"
   },
   {
    "duration": 295,
    "start_time": "2023-03-18T15:49:12.026Z"
   },
   {
    "duration": 305,
    "start_time": "2023-03-18T15:49:12.323Z"
   },
   {
    "duration": 225,
    "start_time": "2023-03-18T15:49:12.630Z"
   },
   {
    "duration": 380,
    "start_time": "2023-03-18T15:49:12.857Z"
   },
   {
    "duration": 235,
    "start_time": "2023-03-18T15:49:13.239Z"
   },
   {
    "duration": 28,
    "start_time": "2023-03-18T15:49:13.476Z"
   },
   {
    "duration": 354,
    "start_time": "2023-03-18T15:49:13.506Z"
   },
   {
    "duration": 9,
    "start_time": "2023-03-18T15:49:13.862Z"
   },
   {
    "duration": 156,
    "start_time": "2023-03-18T15:49:13.872Z"
   },
   {
    "duration": 6,
    "start_time": "2023-03-18T15:49:14.029Z"
   },
   {
    "duration": 164,
    "start_time": "2023-03-18T15:49:14.037Z"
   },
   {
    "duration": 7,
    "start_time": "2023-03-18T15:49:14.207Z"
   },
   {
    "duration": 356,
    "start_time": "2023-03-18T15:49:14.216Z"
   },
   {
    "duration": 205,
    "start_time": "2023-03-18T15:49:14.574Z"
   },
   {
    "duration": 41,
    "start_time": "2023-03-18T15:49:14.782Z"
   },
   {
    "duration": 11,
    "start_time": "2023-03-18T15:49:14.824Z"
   },
   {
    "duration": 9,
    "start_time": "2023-03-18T15:49:14.837Z"
   },
   {
    "duration": 8,
    "start_time": "2023-03-18T15:49:14.848Z"
   },
   {
    "duration": 61,
    "start_time": "2023-03-18T15:49:14.858Z"
   },
   {
    "duration": 14,
    "start_time": "2023-03-18T15:49:14.920Z"
   },
   {
    "duration": 50,
    "start_time": "2023-03-18T15:49:14.936Z"
   },
   {
    "duration": 7,
    "start_time": "2023-03-18T15:49:35.376Z"
   },
   {
    "duration": 64,
    "start_time": "2023-03-18T15:50:08.303Z"
   },
   {
    "duration": 11,
    "start_time": "2023-03-18T15:51:38.625Z"
   },
   {
    "duration": 15,
    "start_time": "2023-03-18T15:51:57.114Z"
   },
   {
    "duration": 11,
    "start_time": "2023-03-18T15:52:07.711Z"
   },
   {
    "duration": 8,
    "start_time": "2023-03-18T15:52:56.201Z"
   },
   {
    "duration": 12,
    "start_time": "2023-03-18T15:53:05.136Z"
   },
   {
    "duration": 13,
    "start_time": "2023-03-18T15:53:28.917Z"
   },
   {
    "duration": 12,
    "start_time": "2023-03-18T15:53:32.219Z"
   },
   {
    "duration": 12,
    "start_time": "2023-03-18T15:53:41.112Z"
   },
   {
    "duration": 60,
    "start_time": "2023-03-18T16:04:54.247Z"
   },
   {
    "duration": 335,
    "start_time": "2023-03-18T16:07:23.925Z"
   },
   {
    "duration": 285,
    "start_time": "2023-03-18T16:08:23.677Z"
   },
   {
    "duration": 243,
    "start_time": "2023-03-18T16:10:01.641Z"
   },
   {
    "duration": 260,
    "start_time": "2023-03-18T16:10:24.861Z"
   },
   {
    "duration": 249,
    "start_time": "2023-03-18T16:10:36.395Z"
   },
   {
    "duration": 260,
    "start_time": "2023-03-18T16:10:48.189Z"
   },
   {
    "duration": 352,
    "start_time": "2023-03-18T16:11:31.198Z"
   },
   {
    "duration": 252,
    "start_time": "2023-03-18T16:12:56.410Z"
   },
   {
    "duration": 399,
    "start_time": "2023-03-18T16:13:43.494Z"
   },
   {
    "duration": 123,
    "start_time": "2023-03-18T16:17:43.035Z"
   },
   {
    "duration": 10,
    "start_time": "2023-03-18T16:18:01.813Z"
   },
   {
    "duration": 46,
    "start_time": "2023-03-18T16:18:41.110Z"
   },
   {
    "duration": 60,
    "start_time": "2023-03-18T16:18:50.949Z"
   },
   {
    "duration": 52,
    "start_time": "2023-03-18T16:18:57.615Z"
   },
   {
    "duration": 47,
    "start_time": "2023-03-18T16:19:07.511Z"
   },
   {
    "duration": 16,
    "start_time": "2023-03-18T16:19:13.650Z"
   },
   {
    "duration": 132,
    "start_time": "2023-03-18T16:22:26.222Z"
   },
   {
    "duration": 255,
    "start_time": "2023-03-18T16:23:01.704Z"
   },
   {
    "duration": 222,
    "start_time": "2023-03-18T16:23:24.224Z"
   },
   {
    "duration": 148,
    "start_time": "2023-03-18T16:23:40.434Z"
   },
   {
    "duration": 137,
    "start_time": "2023-03-18T16:23:45.810Z"
   },
   {
    "duration": 136,
    "start_time": "2023-03-18T16:24:06.384Z"
   },
   {
    "duration": 181,
    "start_time": "2023-03-18T16:25:21.712Z"
   },
   {
    "duration": 25,
    "start_time": "2023-03-18T16:31:54.820Z"
   },
   {
    "duration": 27,
    "start_time": "2023-03-18T16:32:24.408Z"
   },
   {
    "duration": 26,
    "start_time": "2023-03-18T16:33:21.627Z"
   },
   {
    "duration": 11,
    "start_time": "2023-03-18T16:34:21.033Z"
   },
   {
    "duration": 15,
    "start_time": "2023-03-18T16:34:38.230Z"
   },
   {
    "duration": 11,
    "start_time": "2023-03-18T16:35:30.826Z"
   },
   {
    "duration": 752,
    "start_time": "2023-03-18T16:36:35.195Z"
   },
   {
    "duration": 14,
    "start_time": "2023-03-18T16:37:19.484Z"
   },
   {
    "duration": 59,
    "start_time": "2023-03-18T16:37:49.307Z"
   },
   {
    "duration": 18,
    "start_time": "2023-03-18T16:39:58.904Z"
   },
   {
    "duration": 53,
    "start_time": "2023-03-19T07:11:53.038Z"
   },
   {
    "duration": 54,
    "start_time": "2023-03-19T07:12:46.826Z"
   },
   {
    "duration": 55,
    "start_time": "2023-03-19T07:13:46.934Z"
   },
   {
    "duration": 42,
    "start_time": "2023-03-19T07:23:10.745Z"
   },
   {
    "duration": 1281,
    "start_time": "2023-03-19T07:23:18.050Z"
   },
   {
    "duration": 84,
    "start_time": "2023-03-19T07:23:19.333Z"
   },
   {
    "duration": 13,
    "start_time": "2023-03-19T07:23:19.419Z"
   },
   {
    "duration": 3,
    "start_time": "2023-03-19T07:23:19.434Z"
   },
   {
    "duration": 13,
    "start_time": "2023-03-19T07:23:19.438Z"
   },
   {
    "duration": 87,
    "start_time": "2023-03-19T07:23:19.453Z"
   },
   {
    "duration": 12,
    "start_time": "2023-03-19T07:23:19.541Z"
   },
   {
    "duration": 11,
    "start_time": "2023-03-19T07:23:19.555Z"
   },
   {
    "duration": 11,
    "start_time": "2023-03-19T07:23:19.568Z"
   },
   {
    "duration": 3,
    "start_time": "2023-03-19T07:23:19.582Z"
   },
   {
    "duration": 11,
    "start_time": "2023-03-19T07:23:19.587Z"
   },
   {
    "duration": 7,
    "start_time": "2023-03-19T07:23:19.600Z"
   },
   {
    "duration": 6,
    "start_time": "2023-03-19T07:23:19.608Z"
   },
   {
    "duration": 71,
    "start_time": "2023-03-19T07:23:19.616Z"
   },
   {
    "duration": 10,
    "start_time": "2023-03-19T07:23:19.689Z"
   },
   {
    "duration": 9,
    "start_time": "2023-03-19T07:23:19.701Z"
   },
   {
    "duration": 4,
    "start_time": "2023-03-19T07:23:19.712Z"
   },
   {
    "duration": 10,
    "start_time": "2023-03-19T07:23:19.717Z"
   },
   {
    "duration": 5,
    "start_time": "2023-03-19T07:23:19.729Z"
   },
   {
    "duration": 8,
    "start_time": "2023-03-19T07:23:19.735Z"
   },
   {
    "duration": 9,
    "start_time": "2023-03-19T07:23:19.744Z"
   },
   {
    "duration": 12,
    "start_time": "2023-03-19T07:23:19.775Z"
   },
   {
    "duration": 11,
    "start_time": "2023-03-19T07:23:19.788Z"
   },
   {
    "duration": 5,
    "start_time": "2023-03-19T07:23:19.800Z"
   },
   {
    "duration": 11,
    "start_time": "2023-03-19T07:23:19.807Z"
   },
   {
    "duration": 10,
    "start_time": "2023-03-19T07:23:19.820Z"
   },
   {
    "duration": 56,
    "start_time": "2023-03-19T07:23:19.831Z"
   },
   {
    "duration": 8,
    "start_time": "2023-03-19T07:23:19.890Z"
   },
   {
    "duration": 18,
    "start_time": "2023-03-19T07:23:19.900Z"
   },
   {
    "duration": 4,
    "start_time": "2023-03-19T07:23:19.920Z"
   },
   {
    "duration": 10,
    "start_time": "2023-03-19T07:23:19.926Z"
   },
   {
    "duration": 39,
    "start_time": "2023-03-19T07:23:19.937Z"
   },
   {
    "duration": 286,
    "start_time": "2023-03-19T07:23:19.978Z"
   },
   {
    "duration": 321,
    "start_time": "2023-03-19T07:23:20.266Z"
   },
   {
    "duration": 238,
    "start_time": "2023-03-19T07:23:20.589Z"
   },
   {
    "duration": 394,
    "start_time": "2023-03-19T07:23:20.828Z"
   },
   {
    "duration": 236,
    "start_time": "2023-03-19T07:23:21.223Z"
   },
   {
    "duration": 21,
    "start_time": "2023-03-19T07:23:21.460Z"
   },
   {
    "duration": 344,
    "start_time": "2023-03-19T07:23:21.483Z"
   },
   {
    "duration": 9,
    "start_time": "2023-03-19T07:23:21.829Z"
   },
   {
    "duration": 121,
    "start_time": "2023-03-19T07:23:21.840Z"
   },
   {
    "duration": 4,
    "start_time": "2023-03-19T07:23:21.974Z"
   },
   {
    "duration": 136,
    "start_time": "2023-03-19T07:23:21.980Z"
   },
   {
    "duration": 131,
    "start_time": "2023-03-19T07:23:22.118Z"
   },
   {
    "duration": 4,
    "start_time": "2023-03-19T07:23:22.251Z"
   },
   {
    "duration": 318,
    "start_time": "2023-03-19T07:23:22.257Z"
   },
   {
    "duration": 154,
    "start_time": "2023-03-19T07:23:22.576Z"
   },
   {
    "duration": 22,
    "start_time": "2023-03-19T07:23:22.732Z"
   },
   {
    "duration": 24,
    "start_time": "2023-03-19T07:23:22.756Z"
   },
   {
    "duration": 10,
    "start_time": "2023-03-19T07:23:22.782Z"
   },
   {
    "duration": 9,
    "start_time": "2023-03-19T07:23:22.794Z"
   },
   {
    "duration": 22,
    "start_time": "2023-03-19T07:23:22.804Z"
   },
   {
    "duration": 53,
    "start_time": "2023-03-19T07:23:22.828Z"
   },
   {
    "duration": 4,
    "start_time": "2023-03-19T07:42:05.462Z"
   },
   {
    "duration": 7,
    "start_time": "2023-03-19T07:42:10.144Z"
   },
   {
    "duration": 5,
    "start_time": "2023-03-19T07:42:47.150Z"
   },
   {
    "duration": 43,
    "start_time": "2023-03-19T08:23:14.940Z"
   },
   {
    "duration": 14,
    "start_time": "2023-03-19T08:23:20.119Z"
   },
   {
    "duration": 11,
    "start_time": "2023-03-19T08:24:24.857Z"
   },
   {
    "duration": 48,
    "start_time": "2023-03-19T08:29:40.859Z"
   },
   {
    "duration": 15,
    "start_time": "2023-03-19T08:29:51.605Z"
   },
   {
    "duration": 11,
    "start_time": "2023-03-19T08:30:01.949Z"
   },
   {
    "duration": 10,
    "start_time": "2023-03-19T08:30:50.056Z"
   },
   {
    "duration": 11,
    "start_time": "2023-03-19T08:33:57.774Z"
   },
   {
    "duration": 12,
    "start_time": "2023-03-19T08:34:12.925Z"
   },
   {
    "duration": 14,
    "start_time": "2023-03-19T08:34:24.252Z"
   },
   {
    "duration": 13,
    "start_time": "2023-03-19T08:39:51.912Z"
   },
   {
    "duration": 11,
    "start_time": "2023-03-19T08:39:56.312Z"
   },
   {
    "duration": 11,
    "start_time": "2023-03-19T08:40:36.628Z"
   },
   {
    "duration": 12,
    "start_time": "2023-03-19T08:40:41.807Z"
   },
   {
    "duration": 10,
    "start_time": "2023-03-19T08:41:11.939Z"
   },
   {
    "duration": 12,
    "start_time": "2023-03-19T08:41:15.989Z"
   },
   {
    "duration": 12,
    "start_time": "2023-03-19T08:48:11.503Z"
   },
   {
    "duration": 12,
    "start_time": "2023-03-19T08:48:25.864Z"
   },
   {
    "duration": 62,
    "start_time": "2023-03-19T08:49:01.469Z"
   },
   {
    "duration": 21,
    "start_time": "2023-03-19T08:52:32.352Z"
   },
   {
    "duration": 11,
    "start_time": "2023-03-19T08:52:50.122Z"
   },
   {
    "duration": 21,
    "start_time": "2023-03-19T08:53:47.588Z"
   },
   {
    "duration": 15,
    "start_time": "2023-03-19T08:54:41.998Z"
   },
   {
    "duration": 52,
    "start_time": "2023-03-19T09:30:23.962Z"
   },
   {
    "duration": 192,
    "start_time": "2023-03-19T09:49:29.022Z"
   },
   {
    "duration": 31,
    "start_time": "2023-03-19T09:49:30.411Z"
   },
   {
    "duration": 13,
    "start_time": "2023-03-19T09:52:06.739Z"
   },
   {
    "duration": 39,
    "start_time": "2023-03-19T09:52:08.146Z"
   },
   {
    "duration": 11,
    "start_time": "2023-03-19T09:52:21.789Z"
   },
   {
    "duration": 30,
    "start_time": "2023-03-19T09:52:23.058Z"
   },
   {
    "duration": 183,
    "start_time": "2023-03-19T09:56:56.518Z"
   },
   {
    "duration": 21,
    "start_time": "2023-03-19T09:56:57.326Z"
   },
   {
    "duration": 12,
    "start_time": "2023-03-19T09:57:07.506Z"
   },
   {
    "duration": 12,
    "start_time": "2023-03-19T09:57:18.134Z"
   },
   {
    "duration": 11,
    "start_time": "2023-03-19T09:57:31.289Z"
   },
   {
    "duration": 25,
    "start_time": "2023-03-19T09:57:31.931Z"
   },
   {
    "duration": 1160,
    "start_time": "2023-03-19T11:15:04.138Z"
   },
   {
    "duration": 28,
    "start_time": "2023-03-19T11:15:05.300Z"
   },
   {
    "duration": 13,
    "start_time": "2023-03-19T11:15:05.330Z"
   },
   {
    "duration": 4,
    "start_time": "2023-03-19T11:15:05.345Z"
   },
   {
    "duration": 12,
    "start_time": "2023-03-19T11:15:05.351Z"
   },
   {
    "duration": 57,
    "start_time": "2023-03-19T11:15:05.365Z"
   },
   {
    "duration": 13,
    "start_time": "2023-03-19T11:15:05.424Z"
   },
   {
    "duration": 12,
    "start_time": "2023-03-19T11:15:05.439Z"
   },
   {
    "duration": 14,
    "start_time": "2023-03-19T11:15:05.452Z"
   },
   {
    "duration": 19,
    "start_time": "2023-03-19T11:15:05.469Z"
   },
   {
    "duration": 22,
    "start_time": "2023-03-19T11:15:05.489Z"
   },
   {
    "duration": 9,
    "start_time": "2023-03-19T11:15:05.513Z"
   },
   {
    "duration": 9,
    "start_time": "2023-03-19T11:15:05.524Z"
   },
   {
    "duration": 22,
    "start_time": "2023-03-19T11:15:05.534Z"
   },
   {
    "duration": 12,
    "start_time": "2023-03-19T11:15:05.557Z"
   },
   {
    "duration": 25,
    "start_time": "2023-03-19T11:15:05.571Z"
   },
   {
    "duration": 5,
    "start_time": "2023-03-19T11:15:05.597Z"
   },
   {
    "duration": 20,
    "start_time": "2023-03-19T11:15:05.604Z"
   },
   {
    "duration": 10,
    "start_time": "2023-03-19T11:15:05.626Z"
   },
   {
    "duration": 9,
    "start_time": "2023-03-19T11:15:05.638Z"
   },
   {
    "duration": 15,
    "start_time": "2023-03-19T11:15:05.649Z"
   },
   {
    "duration": 29,
    "start_time": "2023-03-19T11:15:05.666Z"
   },
   {
    "duration": 16,
    "start_time": "2023-03-19T11:15:05.697Z"
   },
   {
    "duration": 19,
    "start_time": "2023-03-19T11:15:05.715Z"
   },
   {
    "duration": 22,
    "start_time": "2023-03-19T11:15:05.735Z"
   },
   {
    "duration": 36,
    "start_time": "2023-03-19T11:15:05.758Z"
   },
   {
    "duration": 13,
    "start_time": "2023-03-19T11:15:05.796Z"
   },
   {
    "duration": 22,
    "start_time": "2023-03-19T11:15:05.812Z"
   },
   {
    "duration": 8,
    "start_time": "2023-03-19T11:15:05.836Z"
   },
   {
    "duration": 32,
    "start_time": "2023-03-19T11:15:05.845Z"
   },
   {
    "duration": 13,
    "start_time": "2023-03-19T11:15:05.878Z"
   },
   {
    "duration": 11,
    "start_time": "2023-03-19T11:15:05.896Z"
   },
   {
    "duration": 34,
    "start_time": "2023-03-19T11:15:05.909Z"
   },
   {
    "duration": 317,
    "start_time": "2023-03-19T11:15:05.946Z"
   },
   {
    "duration": 355,
    "start_time": "2023-03-19T11:15:06.265Z"
   },
   {
    "duration": 279,
    "start_time": "2023-03-19T11:15:06.622Z"
   },
   {
    "duration": 331,
    "start_time": "2023-03-19T11:15:06.903Z"
   },
   {
    "duration": 288,
    "start_time": "2023-03-19T11:15:07.236Z"
   },
   {
    "duration": 15,
    "start_time": "2023-03-19T11:15:07.526Z"
   },
   {
    "duration": 391,
    "start_time": "2023-03-19T11:15:07.543Z"
   },
   {
    "duration": 12,
    "start_time": "2023-03-19T11:15:07.936Z"
   },
   {
    "duration": 166,
    "start_time": "2023-03-19T11:15:07.949Z"
   },
   {
    "duration": 5,
    "start_time": "2023-03-19T11:15:08.117Z"
   },
   {
    "duration": 164,
    "start_time": "2023-03-19T11:15:08.124Z"
   },
   {
    "duration": 160,
    "start_time": "2023-03-19T11:15:08.290Z"
   },
   {
    "duration": 6,
    "start_time": "2023-03-19T11:15:08.456Z"
   },
   {
    "duration": 432,
    "start_time": "2023-03-19T11:15:08.464Z"
   },
   {
    "duration": 232,
    "start_time": "2023-03-19T11:15:08.899Z"
   },
   {
    "duration": 110,
    "start_time": "2023-03-19T11:15:09.132Z"
   },
   {
    "duration": 0,
    "start_time": "2023-03-19T11:15:09.243Z"
   },
   {
    "duration": 0,
    "start_time": "2023-03-19T11:15:09.245Z"
   },
   {
    "duration": 0,
    "start_time": "2023-03-19T11:15:09.246Z"
   },
   {
    "duration": 0,
    "start_time": "2023-03-19T11:15:09.247Z"
   },
   {
    "duration": 0,
    "start_time": "2023-03-19T11:15:09.248Z"
   },
   {
    "duration": 15,
    "start_time": "2023-03-19T11:15:36.339Z"
   },
   {
    "duration": 23,
    "start_time": "2023-03-19T11:15:42.127Z"
   },
   {
    "duration": 1181,
    "start_time": "2023-03-19T11:15:50.317Z"
   },
   {
    "duration": 28,
    "start_time": "2023-03-19T11:15:51.500Z"
   },
   {
    "duration": 14,
    "start_time": "2023-03-19T11:15:51.530Z"
   },
   {
    "duration": 4,
    "start_time": "2023-03-19T11:15:51.546Z"
   },
   {
    "duration": 12,
    "start_time": "2023-03-19T11:15:51.552Z"
   },
   {
    "duration": 51,
    "start_time": "2023-03-19T11:15:51.575Z"
   },
   {
    "duration": 14,
    "start_time": "2023-03-19T11:15:51.627Z"
   },
   {
    "duration": 20,
    "start_time": "2023-03-19T11:15:51.643Z"
   },
   {
    "duration": 20,
    "start_time": "2023-03-19T11:15:51.665Z"
   },
   {
    "duration": 5,
    "start_time": "2023-03-19T11:15:51.693Z"
   },
   {
    "duration": 15,
    "start_time": "2023-03-19T11:15:51.700Z"
   },
   {
    "duration": 7,
    "start_time": "2023-03-19T11:15:51.717Z"
   },
   {
    "duration": 7,
    "start_time": "2023-03-19T11:15:51.726Z"
   },
   {
    "duration": 19,
    "start_time": "2023-03-19T11:15:51.734Z"
   },
   {
    "duration": 29,
    "start_time": "2023-03-19T11:15:51.755Z"
   },
   {
    "duration": 17,
    "start_time": "2023-03-19T11:15:51.786Z"
   },
   {
    "duration": 6,
    "start_time": "2023-03-19T11:15:51.805Z"
   },
   {
    "duration": 11,
    "start_time": "2023-03-19T11:15:51.813Z"
   },
   {
    "duration": 9,
    "start_time": "2023-03-19T11:15:51.825Z"
   },
   {
    "duration": 7,
    "start_time": "2023-03-19T11:15:51.836Z"
   },
   {
    "duration": 41,
    "start_time": "2023-03-19T11:15:51.845Z"
   },
   {
    "duration": 17,
    "start_time": "2023-03-19T11:15:51.888Z"
   },
   {
    "duration": 15,
    "start_time": "2023-03-19T11:15:51.908Z"
   },
   {
    "duration": 8,
    "start_time": "2023-03-19T11:15:51.925Z"
   },
   {
    "duration": 6,
    "start_time": "2023-03-19T11:15:51.935Z"
   },
   {
    "duration": 48,
    "start_time": "2023-03-19T11:15:51.942Z"
   },
   {
    "duration": 16,
    "start_time": "2023-03-19T11:15:51.994Z"
   },
   {
    "duration": 21,
    "start_time": "2023-03-19T11:15:52.014Z"
   },
   {
    "duration": 8,
    "start_time": "2023-03-19T11:15:52.037Z"
   },
   {
    "duration": 47,
    "start_time": "2023-03-19T11:15:52.046Z"
   },
   {
    "duration": 7,
    "start_time": "2023-03-19T11:15:52.096Z"
   },
   {
    "duration": 15,
    "start_time": "2023-03-19T11:15:52.105Z"
   },
   {
    "duration": 16,
    "start_time": "2023-03-19T11:15:52.122Z"
   },
   {
    "duration": 352,
    "start_time": "2023-03-19T11:15:52.140Z"
   },
   {
    "duration": 335,
    "start_time": "2023-03-19T11:15:52.494Z"
   },
   {
    "duration": 274,
    "start_time": "2023-03-19T11:15:52.832Z"
   },
   {
    "duration": 379,
    "start_time": "2023-03-19T11:15:53.108Z"
   },
   {
    "duration": 400,
    "start_time": "2023-03-19T11:15:53.489Z"
   },
   {
    "duration": 15,
    "start_time": "2023-03-19T11:15:53.897Z"
   },
   {
    "duration": 602,
    "start_time": "2023-03-19T11:15:53.914Z"
   },
   {
    "duration": 12,
    "start_time": "2023-03-19T11:15:54.518Z"
   },
   {
    "duration": 149,
    "start_time": "2023-03-19T11:15:54.532Z"
   },
   {
    "duration": 13,
    "start_time": "2023-03-19T11:15:54.683Z"
   },
   {
    "duration": 161,
    "start_time": "2023-03-19T11:15:54.698Z"
   },
   {
    "duration": 171,
    "start_time": "2023-03-19T11:15:54.861Z"
   },
   {
    "duration": 10,
    "start_time": "2023-03-19T11:15:55.034Z"
   },
   {
    "duration": 356,
    "start_time": "2023-03-19T11:15:55.047Z"
   },
   {
    "duration": 187,
    "start_time": "2023-03-19T11:15:55.406Z"
   },
   {
    "duration": 37,
    "start_time": "2023-03-19T11:15:55.596Z"
   },
   {
    "duration": 16,
    "start_time": "2023-03-19T11:15:55.636Z"
   },
   {
    "duration": 38,
    "start_time": "2023-03-19T11:15:55.654Z"
   },
   {
    "duration": 13,
    "start_time": "2023-03-19T11:15:55.694Z"
   },
   {
    "duration": 22,
    "start_time": "2023-03-19T11:15:55.709Z"
   },
   {
    "duration": 53,
    "start_time": "2023-03-19T11:15:55.732Z"
   },
   {
    "duration": 178,
    "start_time": "2023-03-19T11:19:44.993Z"
   },
   {
    "duration": 167,
    "start_time": "2023-03-19T11:46:54.823Z"
   },
   {
    "duration": 168,
    "start_time": "2023-03-19T11:47:04.379Z"
   },
   {
    "duration": 154,
    "start_time": "2023-03-19T11:48:19.061Z"
   },
   {
    "duration": 1143,
    "start_time": "2023-03-19T11:53:35.905Z"
   },
   {
    "duration": 29,
    "start_time": "2023-03-19T11:53:37.050Z"
   },
   {
    "duration": 14,
    "start_time": "2023-03-19T11:53:37.080Z"
   },
   {
    "duration": 4,
    "start_time": "2023-03-19T11:53:37.096Z"
   },
   {
    "duration": 10,
    "start_time": "2023-03-19T11:53:37.101Z"
   },
   {
    "duration": 39,
    "start_time": "2023-03-19T11:53:37.112Z"
   },
   {
    "duration": 12,
    "start_time": "2023-03-19T11:53:37.153Z"
   },
   {
    "duration": 14,
    "start_time": "2023-03-19T11:53:37.167Z"
   },
   {
    "duration": 13,
    "start_time": "2023-03-19T11:53:37.183Z"
   },
   {
    "duration": 4,
    "start_time": "2023-03-19T11:53:37.199Z"
   },
   {
    "duration": 17,
    "start_time": "2023-03-19T11:53:37.205Z"
   },
   {
    "duration": 23,
    "start_time": "2023-03-19T11:53:37.224Z"
   },
   {
    "duration": 7,
    "start_time": "2023-03-19T11:53:37.250Z"
   },
   {
    "duration": 30,
    "start_time": "2023-03-19T11:53:37.259Z"
   },
   {
    "duration": 10,
    "start_time": "2023-03-19T11:53:37.291Z"
   },
   {
    "duration": 13,
    "start_time": "2023-03-19T11:53:37.303Z"
   },
   {
    "duration": 6,
    "start_time": "2023-03-19T11:53:37.318Z"
   },
   {
    "duration": 12,
    "start_time": "2023-03-19T11:53:37.326Z"
   },
   {
    "duration": 7,
    "start_time": "2023-03-19T11:53:37.340Z"
   },
   {
    "duration": 30,
    "start_time": "2023-03-19T11:53:37.348Z"
   },
   {
    "duration": 9,
    "start_time": "2023-03-19T11:53:37.380Z"
   },
   {
    "duration": 19,
    "start_time": "2023-03-19T11:53:37.391Z"
   },
   {
    "duration": 12,
    "start_time": "2023-03-19T11:53:37.412Z"
   },
   {
    "duration": 5,
    "start_time": "2023-03-19T11:53:37.427Z"
   },
   {
    "duration": 5,
    "start_time": "2023-03-19T11:53:37.434Z"
   },
   {
    "duration": 19,
    "start_time": "2023-03-19T11:53:37.476Z"
   },
   {
    "duration": 11,
    "start_time": "2023-03-19T11:53:37.498Z"
   },
   {
    "duration": 21,
    "start_time": "2023-03-19T11:53:37.513Z"
   },
   {
    "duration": 38,
    "start_time": "2023-03-19T11:53:37.536Z"
   },
   {
    "duration": 18,
    "start_time": "2023-03-19T11:53:37.576Z"
   },
   {
    "duration": 5,
    "start_time": "2023-03-19T11:53:37.596Z"
   },
   {
    "duration": 14,
    "start_time": "2023-03-19T11:53:37.603Z"
   },
   {
    "duration": 14,
    "start_time": "2023-03-19T11:53:37.619Z"
   },
   {
    "duration": 365,
    "start_time": "2023-03-19T11:53:37.634Z"
   },
   {
    "duration": 343,
    "start_time": "2023-03-19T11:53:38.001Z"
   },
   {
    "duration": 258,
    "start_time": "2023-03-19T11:53:38.345Z"
   },
   {
    "duration": 315,
    "start_time": "2023-03-19T11:53:38.605Z"
   },
   {
    "duration": 266,
    "start_time": "2023-03-19T11:53:38.922Z"
   },
   {
    "duration": 14,
    "start_time": "2023-03-19T11:53:39.190Z"
   },
   {
    "duration": 340,
    "start_time": "2023-03-19T11:53:39.205Z"
   },
   {
    "duration": 10,
    "start_time": "2023-03-19T11:53:39.547Z"
   },
   {
    "duration": 157,
    "start_time": "2023-03-19T11:53:39.559Z"
   },
   {
    "duration": 5,
    "start_time": "2023-03-19T11:53:39.718Z"
   },
   {
    "duration": 165,
    "start_time": "2023-03-19T11:53:39.725Z"
   },
   {
    "duration": 172,
    "start_time": "2023-03-19T11:53:39.892Z"
   },
   {
    "duration": 4,
    "start_time": "2023-03-19T11:53:40.066Z"
   },
   {
    "duration": 355,
    "start_time": "2023-03-19T11:53:40.074Z"
   },
   {
    "duration": 183,
    "start_time": "2023-03-19T11:53:40.431Z"
   },
   {
    "duration": 39,
    "start_time": "2023-03-19T11:53:40.615Z"
   },
   {
    "duration": 27,
    "start_time": "2023-03-19T11:53:40.656Z"
   },
   {
    "duration": 14,
    "start_time": "2023-03-19T11:53:40.685Z"
   },
   {
    "duration": 9,
    "start_time": "2023-03-19T11:53:40.701Z"
   },
   {
    "duration": 22,
    "start_time": "2023-03-19T11:53:40.712Z"
   },
   {
    "duration": 45,
    "start_time": "2023-03-19T11:53:40.736Z"
   },
   {
    "duration": 1294,
    "start_time": "2023-03-20T07:10:19.638Z"
   },
   {
    "duration": 47,
    "start_time": "2023-03-20T07:10:20.933Z"
   },
   {
    "duration": 13,
    "start_time": "2023-03-20T07:10:20.982Z"
   },
   {
    "duration": 8,
    "start_time": "2023-03-20T07:10:20.997Z"
   },
   {
    "duration": 20,
    "start_time": "2023-03-20T07:10:21.007Z"
   },
   {
    "duration": 61,
    "start_time": "2023-03-20T07:10:21.029Z"
   },
   {
    "duration": 12,
    "start_time": "2023-03-20T07:10:21.092Z"
   },
   {
    "duration": 33,
    "start_time": "2023-03-20T07:10:21.106Z"
   },
   {
    "duration": 26,
    "start_time": "2023-03-20T07:10:21.148Z"
   },
   {
    "duration": 10,
    "start_time": "2023-03-20T07:10:21.186Z"
   },
   {
    "duration": 26,
    "start_time": "2023-03-20T07:10:21.197Z"
   },
   {
    "duration": 28,
    "start_time": "2023-03-20T07:10:21.224Z"
   },
   {
    "duration": 10,
    "start_time": "2023-03-20T07:10:21.255Z"
   },
   {
    "duration": 21,
    "start_time": "2023-03-20T07:10:21.269Z"
   },
   {
    "duration": 11,
    "start_time": "2023-03-20T07:10:21.291Z"
   },
   {
    "duration": 11,
    "start_time": "2023-03-20T07:10:21.304Z"
   },
   {
    "duration": 7,
    "start_time": "2023-03-20T07:10:21.317Z"
   },
   {
    "duration": 11,
    "start_time": "2023-03-20T07:10:21.325Z"
   },
   {
    "duration": 11,
    "start_time": "2023-03-20T07:10:21.343Z"
   },
   {
    "duration": 8,
    "start_time": "2023-03-20T07:10:21.356Z"
   },
   {
    "duration": 13,
    "start_time": "2023-03-20T07:10:21.366Z"
   },
   {
    "duration": 15,
    "start_time": "2023-03-20T07:10:21.381Z"
   },
   {
    "duration": 14,
    "start_time": "2023-03-20T07:10:21.398Z"
   },
   {
    "duration": 5,
    "start_time": "2023-03-20T07:10:21.441Z"
   },
   {
    "duration": 8,
    "start_time": "2023-03-20T07:10:21.448Z"
   },
   {
    "duration": 20,
    "start_time": "2023-03-20T07:10:21.458Z"
   },
   {
    "duration": 10,
    "start_time": "2023-03-20T07:10:21.480Z"
   },
   {
    "duration": 19,
    "start_time": "2023-03-20T07:10:21.493Z"
   },
   {
    "duration": 42,
    "start_time": "2023-03-20T07:10:21.513Z"
   },
   {
    "duration": 19,
    "start_time": "2023-03-20T07:10:21.569Z"
   },
   {
    "duration": 5,
    "start_time": "2023-03-20T07:10:21.590Z"
   },
   {
    "duration": 9,
    "start_time": "2023-03-20T07:10:21.596Z"
   },
   {
    "duration": 11,
    "start_time": "2023-03-20T07:10:21.607Z"
   },
   {
    "duration": 353,
    "start_time": "2023-03-20T07:10:21.619Z"
   },
   {
    "duration": 345,
    "start_time": "2023-03-20T07:10:21.974Z"
   },
   {
    "duration": 276,
    "start_time": "2023-03-20T07:10:22.320Z"
   },
   {
    "duration": 320,
    "start_time": "2023-03-20T07:10:22.598Z"
   },
   {
    "duration": 288,
    "start_time": "2023-03-20T07:10:22.920Z"
   },
   {
    "duration": 13,
    "start_time": "2023-03-20T07:10:23.209Z"
   },
   {
    "duration": 410,
    "start_time": "2023-03-20T07:10:23.223Z"
   },
   {
    "duration": 21,
    "start_time": "2023-03-20T07:10:23.635Z"
   },
   {
    "duration": 136,
    "start_time": "2023-03-20T07:10:23.658Z"
   },
   {
    "duration": 5,
    "start_time": "2023-03-20T07:10:23.796Z"
   },
   {
    "duration": 174,
    "start_time": "2023-03-20T07:10:23.802Z"
   },
   {
    "duration": 149,
    "start_time": "2023-03-20T07:10:23.978Z"
   },
   {
    "duration": 4,
    "start_time": "2023-03-20T07:10:24.128Z"
   },
   {
    "duration": 343,
    "start_time": "2023-03-20T07:10:24.133Z"
   },
   {
    "duration": 160,
    "start_time": "2023-03-20T07:10:24.478Z"
   },
   {
    "duration": 43,
    "start_time": "2023-03-20T07:10:24.640Z"
   },
   {
    "duration": 11,
    "start_time": "2023-03-20T07:10:24.686Z"
   },
   {
    "duration": 12,
    "start_time": "2023-03-20T07:10:24.699Z"
   },
   {
    "duration": 40,
    "start_time": "2023-03-20T07:10:24.713Z"
   },
   {
    "duration": 29,
    "start_time": "2023-03-20T07:10:24.763Z"
   },
   {
    "duration": 14,
    "start_time": "2023-03-20T07:10:24.794Z"
   },
   {
    "duration": 50,
    "start_time": "2023-03-29T07:40:40.958Z"
   },
   {
    "duration": 1046,
    "start_time": "2023-03-29T07:40:46.229Z"
   },
   {
    "duration": 58,
    "start_time": "2023-03-29T07:40:47.277Z"
   },
   {
    "duration": 21,
    "start_time": "2023-03-29T07:40:47.337Z"
   },
   {
    "duration": 4,
    "start_time": "2023-03-29T07:40:47.359Z"
   },
   {
    "duration": 9,
    "start_time": "2023-03-29T07:40:47.364Z"
   },
   {
    "duration": 79,
    "start_time": "2023-03-29T07:40:47.375Z"
   },
   {
    "duration": 13,
    "start_time": "2023-03-29T07:40:47.455Z"
   },
   {
    "duration": 12,
    "start_time": "2023-03-29T07:40:47.469Z"
   },
   {
    "duration": 12,
    "start_time": "2023-03-29T07:40:47.483Z"
   },
   {
    "duration": 3,
    "start_time": "2023-03-29T07:40:47.499Z"
   },
   {
    "duration": 13,
    "start_time": "2023-03-29T07:40:47.504Z"
   },
   {
    "duration": 6,
    "start_time": "2023-03-29T07:40:47.519Z"
   },
   {
    "duration": 26,
    "start_time": "2023-03-29T07:40:47.526Z"
   },
   {
    "duration": 58,
    "start_time": "2023-03-29T07:40:47.553Z"
   },
   {
    "duration": 11,
    "start_time": "2023-03-29T07:40:47.613Z"
   },
   {
    "duration": 9,
    "start_time": "2023-03-29T07:40:47.625Z"
   },
   {
    "duration": 4,
    "start_time": "2023-03-29T07:40:47.635Z"
   },
   {
    "duration": 20,
    "start_time": "2023-03-29T07:40:47.640Z"
   },
   {
    "duration": 5,
    "start_time": "2023-03-29T07:40:47.662Z"
   },
   {
    "duration": 7,
    "start_time": "2023-03-29T07:40:47.668Z"
   },
   {
    "duration": 10,
    "start_time": "2023-03-29T07:40:47.676Z"
   },
   {
    "duration": 11,
    "start_time": "2023-03-29T07:40:47.687Z"
   },
   {
    "duration": 10,
    "start_time": "2023-03-29T07:40:47.699Z"
   },
   {
    "duration": 35,
    "start_time": "2023-03-29T07:40:47.710Z"
   },
   {
    "duration": 12,
    "start_time": "2023-03-29T07:40:47.746Z"
   },
   {
    "duration": 17,
    "start_time": "2023-03-29T07:40:47.759Z"
   },
   {
    "duration": 13,
    "start_time": "2023-03-29T07:40:47.778Z"
   },
   {
    "duration": 18,
    "start_time": "2023-03-29T07:40:47.795Z"
   },
   {
    "duration": 7,
    "start_time": "2023-03-29T07:40:47.815Z"
   },
   {
    "duration": 32,
    "start_time": "2023-03-29T07:40:47.824Z"
   },
   {
    "duration": 7,
    "start_time": "2023-03-29T07:40:47.858Z"
   },
   {
    "duration": 22,
    "start_time": "2023-03-29T07:40:47.866Z"
   },
   {
    "duration": 9,
    "start_time": "2023-03-29T07:40:47.890Z"
   },
   {
    "duration": 274,
    "start_time": "2023-03-29T07:40:47.900Z"
   },
   {
    "duration": 306,
    "start_time": "2023-03-29T07:40:48.176Z"
   },
   {
    "duration": 240,
    "start_time": "2023-03-29T07:40:48.483Z"
   },
   {
    "duration": 352,
    "start_time": "2023-03-29T07:40:48.724Z"
   },
   {
    "duration": 246,
    "start_time": "2023-03-29T07:40:49.078Z"
   },
   {
    "duration": 22,
    "start_time": "2023-03-29T07:40:49.326Z"
   },
   {
    "duration": 333,
    "start_time": "2023-03-29T07:40:49.350Z"
   },
   {
    "duration": 8,
    "start_time": "2023-03-29T07:40:49.685Z"
   },
   {
    "duration": 125,
    "start_time": "2023-03-29T07:40:49.695Z"
   },
   {
    "duration": 3,
    "start_time": "2023-03-29T07:40:49.822Z"
   },
   {
    "duration": 139,
    "start_time": "2023-03-29T07:40:49.827Z"
   },
   {
    "duration": 133,
    "start_time": "2023-03-29T07:40:49.967Z"
   },
   {
    "duration": 3,
    "start_time": "2023-03-29T07:40:50.102Z"
   },
   {
    "duration": 293,
    "start_time": "2023-03-29T07:40:50.106Z"
   },
   {
    "duration": 159,
    "start_time": "2023-03-29T07:40:50.401Z"
   },
   {
    "duration": 4,
    "start_time": "2023-03-29T07:40:50.562Z"
   },
   {
    "duration": 28,
    "start_time": "2023-03-29T07:40:50.567Z"
   },
   {
    "duration": 11,
    "start_time": "2023-03-29T07:40:50.597Z"
   },
   {
    "duration": 11,
    "start_time": "2023-03-29T07:40:50.609Z"
   },
   {
    "duration": 9,
    "start_time": "2023-03-29T07:40:50.650Z"
   },
   {
    "duration": 38,
    "start_time": "2023-03-29T07:40:50.661Z"
   },
   {
    "duration": 13,
    "start_time": "2023-03-29T07:40:50.701Z"
   },
   {
    "duration": 1493,
    "start_time": "2023-05-12T04:15:35.858Z"
   },
   {
    "duration": 149,
    "start_time": "2023-05-12T04:15:37.353Z"
   },
   {
    "duration": 24,
    "start_time": "2023-05-12T04:15:37.504Z"
   },
   {
    "duration": 14,
    "start_time": "2023-05-12T04:15:37.533Z"
   },
   {
    "duration": 104,
    "start_time": "2023-05-12T04:15:37.549Z"
   },
   {
    "duration": 142,
    "start_time": "2023-05-12T04:15:37.655Z"
   },
   {
    "duration": 35,
    "start_time": "2023-05-12T04:15:37.800Z"
   },
   {
    "duration": 18,
    "start_time": "2023-05-12T04:15:37.840Z"
   },
   {
    "duration": 26,
    "start_time": "2023-05-12T04:15:37.860Z"
   },
   {
    "duration": 59,
    "start_time": "2023-05-12T04:15:37.890Z"
   },
   {
    "duration": 101,
    "start_time": "2023-05-12T04:15:37.951Z"
   },
   {
    "duration": 42,
    "start_time": "2023-05-12T04:15:38.054Z"
   },
   {
    "duration": 55,
    "start_time": "2023-05-12T04:15:38.099Z"
   },
   {
    "duration": 113,
    "start_time": "2023-05-12T04:15:38.156Z"
   },
   {
    "duration": 24,
    "start_time": "2023-05-12T04:15:38.277Z"
   },
   {
    "duration": 56,
    "start_time": "2023-05-12T04:15:38.303Z"
   },
   {
    "duration": 69,
    "start_time": "2023-05-12T04:15:38.362Z"
   },
   {
    "duration": 16,
    "start_time": "2023-05-12T04:15:38.434Z"
   },
   {
    "duration": 59,
    "start_time": "2023-05-12T04:15:38.453Z"
   },
   {
    "duration": 41,
    "start_time": "2023-05-12T04:15:38.514Z"
   },
   {
    "duration": 28,
    "start_time": "2023-05-12T04:15:38.557Z"
   },
   {
    "duration": 97,
    "start_time": "2023-05-12T04:15:38.586Z"
   },
   {
    "duration": 75,
    "start_time": "2023-05-12T04:15:38.685Z"
   },
   {
    "duration": 55,
    "start_time": "2023-05-12T04:15:38.763Z"
   },
   {
    "duration": 23,
    "start_time": "2023-05-12T04:15:38.819Z"
   },
   {
    "duration": 81,
    "start_time": "2023-05-12T04:15:38.844Z"
   },
   {
    "duration": 19,
    "start_time": "2023-05-12T04:15:38.927Z"
   },
   {
    "duration": 48,
    "start_time": "2023-05-12T04:15:38.953Z"
   },
   {
    "duration": 12,
    "start_time": "2023-05-12T04:15:39.005Z"
   },
   {
    "duration": 40,
    "start_time": "2023-05-12T04:15:39.025Z"
   },
   {
    "duration": 73,
    "start_time": "2023-05-12T04:15:39.068Z"
   },
   {
    "duration": 15,
    "start_time": "2023-05-12T04:15:39.143Z"
   },
   {
    "duration": 17,
    "start_time": "2023-05-12T04:15:39.160Z"
   },
   {
    "duration": 415,
    "start_time": "2023-05-12T04:15:39.179Z"
   },
   {
    "duration": 471,
    "start_time": "2023-05-12T04:15:39.603Z"
   },
   {
    "duration": 330,
    "start_time": "2023-05-12T04:15:40.076Z"
   },
   {
    "duration": 387,
    "start_time": "2023-05-12T04:15:40.419Z"
   },
   {
    "duration": 330,
    "start_time": "2023-05-12T04:15:40.808Z"
   },
   {
    "duration": 15,
    "start_time": "2023-05-12T04:15:41.139Z"
   },
   {
    "duration": 425,
    "start_time": "2023-05-12T04:15:41.156Z"
   },
   {
    "duration": 11,
    "start_time": "2023-05-12T04:15:41.583Z"
   },
   {
    "duration": 243,
    "start_time": "2023-05-12T04:15:41.597Z"
   },
   {
    "duration": 6,
    "start_time": "2023-05-12T04:15:41.843Z"
   },
   {
    "duration": 212,
    "start_time": "2023-05-12T04:15:41.851Z"
   },
   {
    "duration": 200,
    "start_time": "2023-05-12T04:15:42.065Z"
   },
   {
    "duration": 29,
    "start_time": "2023-05-12T04:15:42.266Z"
   },
   {
    "duration": 378,
    "start_time": "2023-05-12T04:15:42.298Z"
   },
   {
    "duration": 5,
    "start_time": "2023-05-12T04:15:42.678Z"
   },
   {
    "duration": 83,
    "start_time": "2023-05-12T04:15:42.685Z"
   },
   {
    "duration": 77,
    "start_time": "2023-05-12T04:15:42.770Z"
   },
   {
    "duration": 19,
    "start_time": "2023-05-12T04:15:42.849Z"
   },
   {
    "duration": 95,
    "start_time": "2023-05-12T04:15:42.870Z"
   },
   {
    "duration": 98,
    "start_time": "2023-05-12T04:15:42.968Z"
   },
   {
    "duration": 43,
    "start_time": "2023-05-12T04:15:43.068Z"
   },
   {
    "duration": 22,
    "start_time": "2023-05-12T04:16:15.705Z"
   },
   {
    "duration": 12,
    "start_time": "2023-05-12T04:16:42.843Z"
   }
  ],
  "kernelspec": {
   "display_name": "Python 3 (ipykernel)",
   "language": "python",
   "name": "python3"
  },
  "language_info": {
   "codemirror_mode": {
    "name": "ipython",
    "version": 3
   },
   "file_extension": ".py",
   "mimetype": "text/x-python",
   "name": "python",
   "nbconvert_exporter": "python",
   "pygments_lexer": "ipython3",
   "version": "3.9.5"
  },
  "toc": {
   "base_numbering": 1,
   "nav_menu": {
    "height": "195px",
    "width": "224px"
   },
   "number_sections": true,
   "sideBar": true,
   "skip_h1_title": true,
   "title_cell": "Table of Contents",
   "title_sidebar": "Contents",
   "toc_cell": false,
   "toc_position": {
    "height": "calc(100% - 180px)",
    "left": "10px",
    "top": "150px",
    "width": "270px"
   },
   "toc_section_display": true,
   "toc_window_display": true
  }
 },
 "nbformat": 4,
 "nbformat_minor": 2
}
